{
  "nbformat": 4,
  "nbformat_minor": 0,
  "metadata": {
    "colab": {
      "provenance": [],
      "toc_visible": true,
      "gpuType": "T4",
      "authorship_tag": "ABX9TyNRUwQ3haZa2Gk1zAsvJBJX",
      "include_colab_link": true
    },
    "kernelspec": {
      "name": "python3",
      "display_name": "Python 3"
    },
    "language_info": {
      "name": "python"
    },
    "accelerator": "GPU"
  },
  "cells": [
    {
      "cell_type": "markdown",
      "metadata": {
        "id": "view-in-github",
        "colab_type": "text"
      },
      "source": [
        "<a href=\"https://colab.research.google.com/github/lyeonsl/2025-Beyond-Summer-Project/blob/main/2025_Beyond_Summer_Project_dataset_test.ipynb\" target=\"_parent\"><img src=\"https://colab.research.google.com/assets/colab-badge.svg\" alt=\"Open In Colab\"/></a>"
      ]
    },
    {
      "cell_type": "markdown",
      "source": [
        "### 0. zip 파일 업로드"
      ],
      "metadata": {
        "id": "0Ymm2fTxntHC"
      }
    },
    {
      "cell_type": "code",
      "source": [
        "from google.colab import files\n",
        "uploaded = files.upload()  # zip 파일 업로드"
      ],
      "metadata": {
        "colab": {
          "base_uri": "https://localhost:8080/",
          "height": 77
        },
        "id": "XLaEPK5Zm35s",
        "outputId": "40f189ef-f997-442b-daaf-a05775b72dab"
      },
      "execution_count": 1,
      "outputs": [
        {
          "output_type": "display_data",
          "data": {
            "text/plain": [
              "<IPython.core.display.HTML object>"
            ],
            "text/html": [
              "\n",
              "     <input type=\"file\" id=\"files-c95fffad-4c24-4011-bbe1-a7ba18aebcac\" name=\"files[]\" multiple disabled\n",
              "        style=\"border:none\" />\n",
              "     <output id=\"result-c95fffad-4c24-4011-bbe1-a7ba18aebcac\">\n",
              "      Upload widget is only available when the cell has been executed in the\n",
              "      current browser session. Please rerun this cell to enable.\n",
              "      </output>\n",
              "      <script>// Copyright 2017 Google LLC\n",
              "//\n",
              "// Licensed under the Apache License, Version 2.0 (the \"License\");\n",
              "// you may not use this file except in compliance with the License.\n",
              "// You may obtain a copy of the License at\n",
              "//\n",
              "//      http://www.apache.org/licenses/LICENSE-2.0\n",
              "//\n",
              "// Unless required by applicable law or agreed to in writing, software\n",
              "// distributed under the License is distributed on an \"AS IS\" BASIS,\n",
              "// WITHOUT WARRANTIES OR CONDITIONS OF ANY KIND, either express or implied.\n",
              "// See the License for the specific language governing permissions and\n",
              "// limitations under the License.\n",
              "\n",
              "/**\n",
              " * @fileoverview Helpers for google.colab Python module.\n",
              " */\n",
              "(function(scope) {\n",
              "function span(text, styleAttributes = {}) {\n",
              "  const element = document.createElement('span');\n",
              "  element.textContent = text;\n",
              "  for (const key of Object.keys(styleAttributes)) {\n",
              "    element.style[key] = styleAttributes[key];\n",
              "  }\n",
              "  return element;\n",
              "}\n",
              "\n",
              "// Max number of bytes which will be uploaded at a time.\n",
              "const MAX_PAYLOAD_SIZE = 100 * 1024;\n",
              "\n",
              "function _uploadFiles(inputId, outputId) {\n",
              "  const steps = uploadFilesStep(inputId, outputId);\n",
              "  const outputElement = document.getElementById(outputId);\n",
              "  // Cache steps on the outputElement to make it available for the next call\n",
              "  // to uploadFilesContinue from Python.\n",
              "  outputElement.steps = steps;\n",
              "\n",
              "  return _uploadFilesContinue(outputId);\n",
              "}\n",
              "\n",
              "// This is roughly an async generator (not supported in the browser yet),\n",
              "// where there are multiple asynchronous steps and the Python side is going\n",
              "// to poll for completion of each step.\n",
              "// This uses a Promise to block the python side on completion of each step,\n",
              "// then passes the result of the previous step as the input to the next step.\n",
              "function _uploadFilesContinue(outputId) {\n",
              "  const outputElement = document.getElementById(outputId);\n",
              "  const steps = outputElement.steps;\n",
              "\n",
              "  const next = steps.next(outputElement.lastPromiseValue);\n",
              "  return Promise.resolve(next.value.promise).then((value) => {\n",
              "    // Cache the last promise value to make it available to the next\n",
              "    // step of the generator.\n",
              "    outputElement.lastPromiseValue = value;\n",
              "    return next.value.response;\n",
              "  });\n",
              "}\n",
              "\n",
              "/**\n",
              " * Generator function which is called between each async step of the upload\n",
              " * process.\n",
              " * @param {string} inputId Element ID of the input file picker element.\n",
              " * @param {string} outputId Element ID of the output display.\n",
              " * @return {!Iterable<!Object>} Iterable of next steps.\n",
              " */\n",
              "function* uploadFilesStep(inputId, outputId) {\n",
              "  const inputElement = document.getElementById(inputId);\n",
              "  inputElement.disabled = false;\n",
              "\n",
              "  const outputElement = document.getElementById(outputId);\n",
              "  outputElement.innerHTML = '';\n",
              "\n",
              "  const pickedPromise = new Promise((resolve) => {\n",
              "    inputElement.addEventListener('change', (e) => {\n",
              "      resolve(e.target.files);\n",
              "    });\n",
              "  });\n",
              "\n",
              "  const cancel = document.createElement('button');\n",
              "  inputElement.parentElement.appendChild(cancel);\n",
              "  cancel.textContent = 'Cancel upload';\n",
              "  const cancelPromise = new Promise((resolve) => {\n",
              "    cancel.onclick = () => {\n",
              "      resolve(null);\n",
              "    };\n",
              "  });\n",
              "\n",
              "  // Wait for the user to pick the files.\n",
              "  const files = yield {\n",
              "    promise: Promise.race([pickedPromise, cancelPromise]),\n",
              "    response: {\n",
              "      action: 'starting',\n",
              "    }\n",
              "  };\n",
              "\n",
              "  cancel.remove();\n",
              "\n",
              "  // Disable the input element since further picks are not allowed.\n",
              "  inputElement.disabled = true;\n",
              "\n",
              "  if (!files) {\n",
              "    return {\n",
              "      response: {\n",
              "        action: 'complete',\n",
              "      }\n",
              "    };\n",
              "  }\n",
              "\n",
              "  for (const file of files) {\n",
              "    const li = document.createElement('li');\n",
              "    li.append(span(file.name, {fontWeight: 'bold'}));\n",
              "    li.append(span(\n",
              "        `(${file.type || 'n/a'}) - ${file.size} bytes, ` +\n",
              "        `last modified: ${\n",
              "            file.lastModifiedDate ? file.lastModifiedDate.toLocaleDateString() :\n",
              "                                    'n/a'} - `));\n",
              "    const percent = span('0% done');\n",
              "    li.appendChild(percent);\n",
              "\n",
              "    outputElement.appendChild(li);\n",
              "\n",
              "    const fileDataPromise = new Promise((resolve) => {\n",
              "      const reader = new FileReader();\n",
              "      reader.onload = (e) => {\n",
              "        resolve(e.target.result);\n",
              "      };\n",
              "      reader.readAsArrayBuffer(file);\n",
              "    });\n",
              "    // Wait for the data to be ready.\n",
              "    let fileData = yield {\n",
              "      promise: fileDataPromise,\n",
              "      response: {\n",
              "        action: 'continue',\n",
              "      }\n",
              "    };\n",
              "\n",
              "    // Use a chunked sending to avoid message size limits. See b/62115660.\n",
              "    let position = 0;\n",
              "    do {\n",
              "      const length = Math.min(fileData.byteLength - position, MAX_PAYLOAD_SIZE);\n",
              "      const chunk = new Uint8Array(fileData, position, length);\n",
              "      position += length;\n",
              "\n",
              "      const base64 = btoa(String.fromCharCode.apply(null, chunk));\n",
              "      yield {\n",
              "        response: {\n",
              "          action: 'append',\n",
              "          file: file.name,\n",
              "          data: base64,\n",
              "        },\n",
              "      };\n",
              "\n",
              "      let percentDone = fileData.byteLength === 0 ?\n",
              "          100 :\n",
              "          Math.round((position / fileData.byteLength) * 100);\n",
              "      percent.textContent = `${percentDone}% done`;\n",
              "\n",
              "    } while (position < fileData.byteLength);\n",
              "  }\n",
              "\n",
              "  // All done.\n",
              "  yield {\n",
              "    response: {\n",
              "      action: 'complete',\n",
              "    }\n",
              "  };\n",
              "}\n",
              "\n",
              "scope.google = scope.google || {};\n",
              "scope.google.colab = scope.google.colab || {};\n",
              "scope.google.colab._files = {\n",
              "  _uploadFiles,\n",
              "  _uploadFilesContinue,\n",
              "};\n",
              "})(self);\n",
              "</script> "
            ]
          },
          "metadata": {}
        },
        {
          "output_type": "stream",
          "name": "stdout",
          "text": [
            "Saving chair occupied - unoccupied.v1i.yolov5pytorch.zip to chair occupied - unoccupied.v1i.yolov5pytorch.zip\n"
          ]
        }
      ]
    },
    {
      "cell_type": "markdown",
      "source": [
        "### 1. 압축 해제 및 경로 준비"
      ],
      "metadata": {
        "id": "HsDuVdMwnDBP"
      }
    },
    {
      "cell_type": "code",
      "execution_count": 2,
      "metadata": {
        "colab": {
          "base_uri": "https://localhost:8080/"
        },
        "id": "lX5fgZVimgjB",
        "outputId": "9a8aa152-2b95-4aea-96ff-52062e314889"
      },
      "outputs": [
        {
          "output_type": "stream",
          "name": "stdout",
          "text": [
            "data.yaml 위치: /content/chair_dataset/data.yaml\n"
          ]
        }
      ],
      "source": [
        "# 압축 해제\n",
        "import zipfile\n",
        "import os\n",
        "\n",
        "zip_path = \"/content/chair occupied - unoccupied.v1i.yolov5pytorch.zip\"\n",
        "extract_path = \"/content/chair_dataset\"\n",
        "\n",
        "with zipfile.ZipFile(zip_path, 'r') as zip_ref:\n",
        "    zip_ref.extractall(extract_path)\n",
        "\n",
        "# data.yaml 경로 확인\n",
        "yaml_path = os.path.join(extract_path, \"data.yaml\")\n",
        "print(\"data.yaml 위치:\", yaml_path)\n"
      ]
    },
    {
      "cell_type": "markdown",
      "source": [
        "### 2. YOLOv8 설치 및 모델 로드"
      ],
      "metadata": {
        "id": "JpYwPb-enF_Z"
      }
    },
    {
      "cell_type": "code",
      "source": [
        "# ultralytics 설치\n",
        "!pip install ultralytics\n",
        "\n",
        "# 모델 로드\n",
        "from ultralytics import YOLO\n",
        "model = YOLO(\"yolov8n.pt\")  # 경량 모델 (또는 yolov8s.pt 등 가능)\n"
      ],
      "metadata": {
        "colab": {
          "base_uri": "https://localhost:8080/"
        },
        "id": "6gsfr3qAmoqj",
        "outputId": "029f1d34-21fa-4a22-e685-dcd5773d88c8"
      },
      "execution_count": 3,
      "outputs": [
        {
          "output_type": "stream",
          "name": "stdout",
          "text": [
            "Collecting ultralytics\n",
            "  Downloading ultralytics-8.3.165-py3-none-any.whl.metadata (37 kB)\n",
            "Requirement already satisfied: numpy>=1.23.0 in /usr/local/lib/python3.11/dist-packages (from ultralytics) (2.0.2)\n",
            "Requirement already satisfied: matplotlib>=3.3.0 in /usr/local/lib/python3.11/dist-packages (from ultralytics) (3.10.0)\n",
            "Requirement already satisfied: opencv-python>=4.6.0 in /usr/local/lib/python3.11/dist-packages (from ultralytics) (4.11.0.86)\n",
            "Requirement already satisfied: pillow>=7.1.2 in /usr/local/lib/python3.11/dist-packages (from ultralytics) (11.2.1)\n",
            "Requirement already satisfied: pyyaml>=5.3.1 in /usr/local/lib/python3.11/dist-packages (from ultralytics) (6.0.2)\n",
            "Requirement already satisfied: requests>=2.23.0 in /usr/local/lib/python3.11/dist-packages (from ultralytics) (2.32.3)\n",
            "Requirement already satisfied: scipy>=1.4.1 in /usr/local/lib/python3.11/dist-packages (from ultralytics) (1.15.3)\n",
            "Requirement already satisfied: torch>=1.8.0 in /usr/local/lib/python3.11/dist-packages (from ultralytics) (2.6.0+cu124)\n",
            "Requirement already satisfied: torchvision>=0.9.0 in /usr/local/lib/python3.11/dist-packages (from ultralytics) (0.21.0+cu124)\n",
            "Requirement already satisfied: tqdm>=4.64.0 in /usr/local/lib/python3.11/dist-packages (from ultralytics) (4.67.1)\n",
            "Requirement already satisfied: psutil in /usr/local/lib/python3.11/dist-packages (from ultralytics) (5.9.5)\n",
            "Requirement already satisfied: py-cpuinfo in /usr/local/lib/python3.11/dist-packages (from ultralytics) (9.0.0)\n",
            "Requirement already satisfied: pandas>=1.1.4 in /usr/local/lib/python3.11/dist-packages (from ultralytics) (2.2.2)\n",
            "Collecting ultralytics-thop>=2.0.0 (from ultralytics)\n",
            "  Downloading ultralytics_thop-2.0.14-py3-none-any.whl.metadata (9.4 kB)\n",
            "Requirement already satisfied: contourpy>=1.0.1 in /usr/local/lib/python3.11/dist-packages (from matplotlib>=3.3.0->ultralytics) (1.3.2)\n",
            "Requirement already satisfied: cycler>=0.10 in /usr/local/lib/python3.11/dist-packages (from matplotlib>=3.3.0->ultralytics) (0.12.1)\n",
            "Requirement already satisfied: fonttools>=4.22.0 in /usr/local/lib/python3.11/dist-packages (from matplotlib>=3.3.0->ultralytics) (4.58.5)\n",
            "Requirement already satisfied: kiwisolver>=1.3.1 in /usr/local/lib/python3.11/dist-packages (from matplotlib>=3.3.0->ultralytics) (1.4.8)\n",
            "Requirement already satisfied: packaging>=20.0 in /usr/local/lib/python3.11/dist-packages (from matplotlib>=3.3.0->ultralytics) (24.2)\n",
            "Requirement already satisfied: pyparsing>=2.3.1 in /usr/local/lib/python3.11/dist-packages (from matplotlib>=3.3.0->ultralytics) (3.2.3)\n",
            "Requirement already satisfied: python-dateutil>=2.7 in /usr/local/lib/python3.11/dist-packages (from matplotlib>=3.3.0->ultralytics) (2.9.0.post0)\n",
            "Requirement already satisfied: pytz>=2020.1 in /usr/local/lib/python3.11/dist-packages (from pandas>=1.1.4->ultralytics) (2025.2)\n",
            "Requirement already satisfied: tzdata>=2022.7 in /usr/local/lib/python3.11/dist-packages (from pandas>=1.1.4->ultralytics) (2025.2)\n",
            "Requirement already satisfied: charset-normalizer<4,>=2 in /usr/local/lib/python3.11/dist-packages (from requests>=2.23.0->ultralytics) (3.4.2)\n",
            "Requirement already satisfied: idna<4,>=2.5 in /usr/local/lib/python3.11/dist-packages (from requests>=2.23.0->ultralytics) (3.10)\n",
            "Requirement already satisfied: urllib3<3,>=1.21.1 in /usr/local/lib/python3.11/dist-packages (from requests>=2.23.0->ultralytics) (2.4.0)\n",
            "Requirement already satisfied: certifi>=2017.4.17 in /usr/local/lib/python3.11/dist-packages (from requests>=2.23.0->ultralytics) (2025.7.9)\n",
            "Requirement already satisfied: filelock in /usr/local/lib/python3.11/dist-packages (from torch>=1.8.0->ultralytics) (3.18.0)\n",
            "Requirement already satisfied: typing-extensions>=4.10.0 in /usr/local/lib/python3.11/dist-packages (from torch>=1.8.0->ultralytics) (4.14.1)\n",
            "Requirement already satisfied: networkx in /usr/local/lib/python3.11/dist-packages (from torch>=1.8.0->ultralytics) (3.5)\n",
            "Requirement already satisfied: jinja2 in /usr/local/lib/python3.11/dist-packages (from torch>=1.8.0->ultralytics) (3.1.6)\n",
            "Requirement already satisfied: fsspec in /usr/local/lib/python3.11/dist-packages (from torch>=1.8.0->ultralytics) (2025.3.2)\n",
            "Collecting nvidia-cuda-nvrtc-cu12==12.4.127 (from torch>=1.8.0->ultralytics)\n",
            "  Downloading nvidia_cuda_nvrtc_cu12-12.4.127-py3-none-manylinux2014_x86_64.whl.metadata (1.5 kB)\n",
            "Collecting nvidia-cuda-runtime-cu12==12.4.127 (from torch>=1.8.0->ultralytics)\n",
            "  Downloading nvidia_cuda_runtime_cu12-12.4.127-py3-none-manylinux2014_x86_64.whl.metadata (1.5 kB)\n",
            "Collecting nvidia-cuda-cupti-cu12==12.4.127 (from torch>=1.8.0->ultralytics)\n",
            "  Downloading nvidia_cuda_cupti_cu12-12.4.127-py3-none-manylinux2014_x86_64.whl.metadata (1.6 kB)\n",
            "Collecting nvidia-cudnn-cu12==9.1.0.70 (from torch>=1.8.0->ultralytics)\n",
            "  Downloading nvidia_cudnn_cu12-9.1.0.70-py3-none-manylinux2014_x86_64.whl.metadata (1.6 kB)\n",
            "Collecting nvidia-cublas-cu12==12.4.5.8 (from torch>=1.8.0->ultralytics)\n",
            "  Downloading nvidia_cublas_cu12-12.4.5.8-py3-none-manylinux2014_x86_64.whl.metadata (1.5 kB)\n",
            "Collecting nvidia-cufft-cu12==11.2.1.3 (from torch>=1.8.0->ultralytics)\n",
            "  Downloading nvidia_cufft_cu12-11.2.1.3-py3-none-manylinux2014_x86_64.whl.metadata (1.5 kB)\n",
            "Collecting nvidia-curand-cu12==10.3.5.147 (from torch>=1.8.0->ultralytics)\n",
            "  Downloading nvidia_curand_cu12-10.3.5.147-py3-none-manylinux2014_x86_64.whl.metadata (1.5 kB)\n",
            "Collecting nvidia-cusolver-cu12==11.6.1.9 (from torch>=1.8.0->ultralytics)\n",
            "  Downloading nvidia_cusolver_cu12-11.6.1.9-py3-none-manylinux2014_x86_64.whl.metadata (1.6 kB)\n",
            "Collecting nvidia-cusparse-cu12==12.3.1.170 (from torch>=1.8.0->ultralytics)\n",
            "  Downloading nvidia_cusparse_cu12-12.3.1.170-py3-none-manylinux2014_x86_64.whl.metadata (1.6 kB)\n",
            "Requirement already satisfied: nvidia-cusparselt-cu12==0.6.2 in /usr/local/lib/python3.11/dist-packages (from torch>=1.8.0->ultralytics) (0.6.2)\n",
            "Requirement already satisfied: nvidia-nccl-cu12==2.21.5 in /usr/local/lib/python3.11/dist-packages (from torch>=1.8.0->ultralytics) (2.21.5)\n",
            "Requirement already satisfied: nvidia-nvtx-cu12==12.4.127 in /usr/local/lib/python3.11/dist-packages (from torch>=1.8.0->ultralytics) (12.4.127)\n",
            "Collecting nvidia-nvjitlink-cu12==12.4.127 (from torch>=1.8.0->ultralytics)\n",
            "  Downloading nvidia_nvjitlink_cu12-12.4.127-py3-none-manylinux2014_x86_64.whl.metadata (1.5 kB)\n",
            "Requirement already satisfied: triton==3.2.0 in /usr/local/lib/python3.11/dist-packages (from torch>=1.8.0->ultralytics) (3.2.0)\n",
            "Requirement already satisfied: sympy==1.13.1 in /usr/local/lib/python3.11/dist-packages (from torch>=1.8.0->ultralytics) (1.13.1)\n",
            "Requirement already satisfied: mpmath<1.4,>=1.1.0 in /usr/local/lib/python3.11/dist-packages (from sympy==1.13.1->torch>=1.8.0->ultralytics) (1.3.0)\n",
            "Requirement already satisfied: six>=1.5 in /usr/local/lib/python3.11/dist-packages (from python-dateutil>=2.7->matplotlib>=3.3.0->ultralytics) (1.17.0)\n",
            "Requirement already satisfied: MarkupSafe>=2.0 in /usr/local/lib/python3.11/dist-packages (from jinja2->torch>=1.8.0->ultralytics) (3.0.2)\n",
            "Downloading ultralytics-8.3.165-py3-none-any.whl (1.0 MB)\n",
            "\u001b[2K   \u001b[90m━━━━━━━━━━━━━━━━━━━━━━━━━━━━━━━━━━━━━━━━\u001b[0m \u001b[32m1.0/1.0 MB\u001b[0m \u001b[31m36.7 MB/s\u001b[0m eta \u001b[36m0:00:00\u001b[0m\n",
            "\u001b[?25hDownloading nvidia_cublas_cu12-12.4.5.8-py3-none-manylinux2014_x86_64.whl (363.4 MB)\n",
            "\u001b[2K   \u001b[90m━━━━━━━━━━━━━━━━━━━━━━━━━━━━━━━━━━━━━━━━\u001b[0m \u001b[32m363.4/363.4 MB\u001b[0m \u001b[31m4.3 MB/s\u001b[0m eta \u001b[36m0:00:00\u001b[0m\n",
            "\u001b[?25hDownloading nvidia_cuda_cupti_cu12-12.4.127-py3-none-manylinux2014_x86_64.whl (13.8 MB)\n",
            "\u001b[2K   \u001b[90m━━━━━━━━━━━━━━━━━━━━━━━━━━━━━━━━━━━━━━━━\u001b[0m \u001b[32m13.8/13.8 MB\u001b[0m \u001b[31m68.1 MB/s\u001b[0m eta \u001b[36m0:00:00\u001b[0m\n",
            "\u001b[?25hDownloading nvidia_cuda_nvrtc_cu12-12.4.127-py3-none-manylinux2014_x86_64.whl (24.6 MB)\n",
            "\u001b[2K   \u001b[90m━━━━━━━━━━━━━━━━━━━━━━━━━━━━━━━━━━━━━━━━\u001b[0m \u001b[32m24.6/24.6 MB\u001b[0m \u001b[31m36.5 MB/s\u001b[0m eta \u001b[36m0:00:00\u001b[0m\n",
            "\u001b[?25hDownloading nvidia_cuda_runtime_cu12-12.4.127-py3-none-manylinux2014_x86_64.whl (883 kB)\n",
            "\u001b[2K   \u001b[90m━━━━━━━━━━━━━━━━━━━━━━━━━━━━━━━━━━━━━━━━\u001b[0m \u001b[32m883.7/883.7 kB\u001b[0m \u001b[31m47.5 MB/s\u001b[0m eta \u001b[36m0:00:00\u001b[0m\n",
            "\u001b[?25hDownloading nvidia_cudnn_cu12-9.1.0.70-py3-none-manylinux2014_x86_64.whl (664.8 MB)\n",
            "\u001b[2K   \u001b[90m━━━━━━━━━━━━━━━━━━━━━━━━━━━━━━━━━━━━━━━━\u001b[0m \u001b[32m664.8/664.8 MB\u001b[0m \u001b[31m1.3 MB/s\u001b[0m eta \u001b[36m0:00:00\u001b[0m\n",
            "\u001b[?25hDownloading nvidia_cufft_cu12-11.2.1.3-py3-none-manylinux2014_x86_64.whl (211.5 MB)\n",
            "\u001b[2K   \u001b[90m━━━━━━━━━━━━━━━━━━━━━━━━━━━━━━━━━━━━━━━━\u001b[0m \u001b[32m211.5/211.5 MB\u001b[0m \u001b[31m5.9 MB/s\u001b[0m eta \u001b[36m0:00:00\u001b[0m\n",
            "\u001b[?25hDownloading nvidia_curand_cu12-10.3.5.147-py3-none-manylinux2014_x86_64.whl (56.3 MB)\n",
            "\u001b[2K   \u001b[90m━━━━━━━━━━━━━━━━━━━━━━━━━━━━━━━━━━━━━━━━\u001b[0m \u001b[32m56.3/56.3 MB\u001b[0m \u001b[31m13.4 MB/s\u001b[0m eta \u001b[36m0:00:00\u001b[0m\n",
            "\u001b[?25hDownloading nvidia_cusolver_cu12-11.6.1.9-py3-none-manylinux2014_x86_64.whl (127.9 MB)\n",
            "\u001b[2K   \u001b[90m━━━━━━━━━━━━━━━━━━━━━━━━━━━━━━━━━━━━━━━━\u001b[0m \u001b[32m127.9/127.9 MB\u001b[0m \u001b[31m7.5 MB/s\u001b[0m eta \u001b[36m0:00:00\u001b[0m\n",
            "\u001b[?25hDownloading nvidia_cusparse_cu12-12.3.1.170-py3-none-manylinux2014_x86_64.whl (207.5 MB)\n",
            "\u001b[2K   \u001b[90m━━━━━━━━━━━━━━━━━━━━━━━━━━━━━━━━━━━━━━━━\u001b[0m \u001b[32m207.5/207.5 MB\u001b[0m \u001b[31m5.6 MB/s\u001b[0m eta \u001b[36m0:00:00\u001b[0m\n",
            "\u001b[?25hDownloading nvidia_nvjitlink_cu12-12.4.127-py3-none-manylinux2014_x86_64.whl (21.1 MB)\n",
            "\u001b[2K   \u001b[90m━━━━━━━━━━━━━━━━━━━━━━━━━━━━━━━━━━━━━━━━\u001b[0m \u001b[32m21.1/21.1 MB\u001b[0m \u001b[31m98.5 MB/s\u001b[0m eta \u001b[36m0:00:00\u001b[0m\n",
            "\u001b[?25hDownloading ultralytics_thop-2.0.14-py3-none-any.whl (26 kB)\n",
            "Installing collected packages: nvidia-nvjitlink-cu12, nvidia-curand-cu12, nvidia-cufft-cu12, nvidia-cuda-runtime-cu12, nvidia-cuda-nvrtc-cu12, nvidia-cuda-cupti-cu12, nvidia-cublas-cu12, nvidia-cusparse-cu12, nvidia-cudnn-cu12, nvidia-cusolver-cu12, ultralytics-thop, ultralytics\n",
            "  Attempting uninstall: nvidia-nvjitlink-cu12\n",
            "    Found existing installation: nvidia-nvjitlink-cu12 12.5.82\n",
            "    Uninstalling nvidia-nvjitlink-cu12-12.5.82:\n",
            "      Successfully uninstalled nvidia-nvjitlink-cu12-12.5.82\n",
            "  Attempting uninstall: nvidia-curand-cu12\n",
            "    Found existing installation: nvidia-curand-cu12 10.3.6.82\n",
            "    Uninstalling nvidia-curand-cu12-10.3.6.82:\n",
            "      Successfully uninstalled nvidia-curand-cu12-10.3.6.82\n",
            "  Attempting uninstall: nvidia-cufft-cu12\n",
            "    Found existing installation: nvidia-cufft-cu12 11.2.3.61\n",
            "    Uninstalling nvidia-cufft-cu12-11.2.3.61:\n",
            "      Successfully uninstalled nvidia-cufft-cu12-11.2.3.61\n",
            "  Attempting uninstall: nvidia-cuda-runtime-cu12\n",
            "    Found existing installation: nvidia-cuda-runtime-cu12 12.5.82\n",
            "    Uninstalling nvidia-cuda-runtime-cu12-12.5.82:\n",
            "      Successfully uninstalled nvidia-cuda-runtime-cu12-12.5.82\n",
            "  Attempting uninstall: nvidia-cuda-nvrtc-cu12\n",
            "    Found existing installation: nvidia-cuda-nvrtc-cu12 12.5.82\n",
            "    Uninstalling nvidia-cuda-nvrtc-cu12-12.5.82:\n",
            "      Successfully uninstalled nvidia-cuda-nvrtc-cu12-12.5.82\n",
            "  Attempting uninstall: nvidia-cuda-cupti-cu12\n",
            "    Found existing installation: nvidia-cuda-cupti-cu12 12.5.82\n",
            "    Uninstalling nvidia-cuda-cupti-cu12-12.5.82:\n",
            "      Successfully uninstalled nvidia-cuda-cupti-cu12-12.5.82\n",
            "  Attempting uninstall: nvidia-cublas-cu12\n",
            "    Found existing installation: nvidia-cublas-cu12 12.5.3.2\n",
            "    Uninstalling nvidia-cublas-cu12-12.5.3.2:\n",
            "      Successfully uninstalled nvidia-cublas-cu12-12.5.3.2\n",
            "  Attempting uninstall: nvidia-cusparse-cu12\n",
            "    Found existing installation: nvidia-cusparse-cu12 12.5.1.3\n",
            "    Uninstalling nvidia-cusparse-cu12-12.5.1.3:\n",
            "      Successfully uninstalled nvidia-cusparse-cu12-12.5.1.3\n",
            "  Attempting uninstall: nvidia-cudnn-cu12\n",
            "    Found existing installation: nvidia-cudnn-cu12 9.3.0.75\n",
            "    Uninstalling nvidia-cudnn-cu12-9.3.0.75:\n",
            "      Successfully uninstalled nvidia-cudnn-cu12-9.3.0.75\n",
            "  Attempting uninstall: nvidia-cusolver-cu12\n",
            "    Found existing installation: nvidia-cusolver-cu12 11.6.3.83\n",
            "    Uninstalling nvidia-cusolver-cu12-11.6.3.83:\n",
            "      Successfully uninstalled nvidia-cusolver-cu12-11.6.3.83\n",
            "Successfully installed nvidia-cublas-cu12-12.4.5.8 nvidia-cuda-cupti-cu12-12.4.127 nvidia-cuda-nvrtc-cu12-12.4.127 nvidia-cuda-runtime-cu12-12.4.127 nvidia-cudnn-cu12-9.1.0.70 nvidia-cufft-cu12-11.2.1.3 nvidia-curand-cu12-10.3.5.147 nvidia-cusolver-cu12-11.6.1.9 nvidia-cusparse-cu12-12.3.1.170 nvidia-nvjitlink-cu12-12.4.127 ultralytics-8.3.165 ultralytics-thop-2.0.14\n",
            "Creating new Ultralytics Settings v0.0.6 file ✅ \n",
            "View Ultralytics Settings with 'yolo settings' or at '/root/.config/Ultralytics/settings.json'\n",
            "Update Settings with 'yolo settings key=value', i.e. 'yolo settings runs_dir=path/to/dir'. For help see https://docs.ultralytics.com/quickstart/#ultralytics-settings.\n",
            "Downloading https://github.com/ultralytics/assets/releases/download/v8.3.0/yolov8n.pt to 'yolov8n.pt'...\n"
          ]
        },
        {
          "output_type": "stream",
          "name": "stderr",
          "text": [
            "100%|██████████| 6.25M/6.25M [00:00<00:00, 169MB/s]\n"
          ]
        }
      ]
    },
    {
      "cell_type": "markdown",
      "source": [
        "### 3. 학습 실행"
      ],
      "metadata": {
        "id": "EP88To9ynMUL"
      }
    },
    {
      "cell_type": "code",
      "source": [
        "# 모델 학습 시작\n",
        "model.train(\n",
        "    data=yaml_path,        # data.yaml 경로\n",
        "    epochs=50,\n",
        "    imgsz=640,\n",
        "    batch=16,\n",
        "    name=\"yolov8_chair\"\n",
        ")"
      ],
      "metadata": {
        "colab": {
          "base_uri": "https://localhost:8080/"
        },
        "id": "wJQjSBXXmrfG",
        "outputId": "e8f7534f-9647-4ed0-b2fa-8c45e98374ba"
      },
      "execution_count": 4,
      "outputs": [
        {
          "output_type": "stream",
          "name": "stdout",
          "text": [
            "Ultralytics 8.3.165 🚀 Python-3.11.13 torch-2.6.0+cu124 CUDA:0 (Tesla T4, 15095MiB)\n",
            "\u001b[34m\u001b[1mengine/trainer: \u001b[0magnostic_nms=False, amp=True, augment=False, auto_augment=randaugment, batch=16, bgr=0.0, box=7.5, cache=False, cfg=None, classes=None, close_mosaic=10, cls=0.5, conf=None, copy_paste=0.0, copy_paste_mode=flip, cos_lr=False, cutmix=0.0, data=/content/chair_dataset/data.yaml, degrees=0.0, deterministic=True, device=None, dfl=1.5, dnn=False, dropout=0.0, dynamic=False, embed=None, epochs=50, erasing=0.4, exist_ok=False, fliplr=0.5, flipud=0.0, format=torchscript, fraction=1.0, freeze=None, half=False, hsv_h=0.015, hsv_s=0.7, hsv_v=0.4, imgsz=640, int8=False, iou=0.7, keras=False, kobj=1.0, line_width=None, lr0=0.01, lrf=0.01, mask_ratio=4, max_det=300, mixup=0.0, mode=train, model=yolov8n.pt, momentum=0.937, mosaic=1.0, multi_scale=False, name=yolov8_chair, nbs=64, nms=False, opset=None, optimize=False, optimizer=auto, overlap_mask=True, patience=100, perspective=0.0, plots=True, pose=12.0, pretrained=True, profile=False, project=None, rect=False, resume=False, retina_masks=False, save=True, save_conf=False, save_crop=False, save_dir=runs/detect/yolov8_chair, save_frames=False, save_json=False, save_period=-1, save_txt=False, scale=0.5, seed=0, shear=0.0, show=False, show_boxes=True, show_conf=True, show_labels=True, simplify=True, single_cls=False, source=None, split=val, stream_buffer=False, task=detect, time=None, tracker=botsort.yaml, translate=0.1, val=True, verbose=True, vid_stride=1, visualize=False, warmup_bias_lr=0.1, warmup_epochs=3.0, warmup_momentum=0.8, weight_decay=0.0005, workers=8, workspace=None\n",
            "Downloading https://ultralytics.com/assets/Arial.ttf to '/root/.config/Ultralytics/Arial.ttf'...\n"
          ]
        },
        {
          "output_type": "stream",
          "name": "stderr",
          "text": [
            "100%|██████████| 755k/755k [00:00<00:00, 24.6MB/s]"
          ]
        },
        {
          "output_type": "stream",
          "name": "stdout",
          "text": [
            "Overriding model.yaml nc=80 with nc=3\n",
            "\n",
            "                   from  n    params  module                                       arguments                     \n",
            "  0                  -1  1       464  ultralytics.nn.modules.conv.Conv             [3, 16, 3, 2]                 \n",
            "  1                  -1  1      4672  ultralytics.nn.modules.conv.Conv             [16, 32, 3, 2]                \n",
            "  2                  -1  1      7360  ultralytics.nn.modules.block.C2f             [32, 32, 1, True]             \n",
            "  3                  -1  1     18560  ultralytics.nn.modules.conv.Conv             [32, 64, 3, 2]                \n",
            "  4                  -1  2     49664  ultralytics.nn.modules.block.C2f             [64, 64, 2, True]             \n",
            "  5                  -1  1     73984  ultralytics.nn.modules.conv.Conv             [64, 128, 3, 2]               \n",
            "  6                  -1  2    197632  ultralytics.nn.modules.block.C2f             [128, 128, 2, True]           \n",
            "  7                  -1  1    295424  ultralytics.nn.modules.conv.Conv             [128, 256, 3, 2]              \n",
            "  8                  -1  1    460288  ultralytics.nn.modules.block.C2f             [256, 256, 1, True]           \n",
            "  9                  -1  1    164608  ultralytics.nn.modules.block.SPPF            [256, 256, 5]                 \n",
            " 10                  -1  1         0  torch.nn.modules.upsampling.Upsample         [None, 2, 'nearest']          \n",
            " 11             [-1, 6]  1         0  ultralytics.nn.modules.conv.Concat           [1]                           \n",
            " 12                  -1  1    148224  ultralytics.nn.modules.block.C2f             [384, 128, 1]                 \n",
            " 13                  -1  1         0  torch.nn.modules.upsampling.Upsample         [None, 2, 'nearest']          \n",
            " 14             [-1, 4]  1         0  ultralytics.nn.modules.conv.Concat           [1]                           \n",
            " 15                  -1  1     37248  ultralytics.nn.modules.block.C2f             [192, 64, 1]                  \n",
            " 16                  -1  1     36992  ultralytics.nn.modules.conv.Conv             [64, 64, 3, 2]                \n",
            " 17            [-1, 12]  1         0  ultralytics.nn.modules.conv.Concat           [1]                           \n",
            " 18                  -1  1    123648  ultralytics.nn.modules.block.C2f             [192, 128, 1]                 \n",
            " 19                  -1  1    147712  ultralytics.nn.modules.conv.Conv             [128, 128, 3, 2]              \n",
            " 20             [-1, 9]  1         0  ultralytics.nn.modules.conv.Concat           [1]                           \n",
            " 21                  -1  1    493056  ultralytics.nn.modules.block.C2f             [384, 256, 1]                 \n",
            " 22        [15, 18, 21]  1    751897  ultralytics.nn.modules.head.Detect           [3, [64, 128, 256]]           \n"
          ]
        },
        {
          "output_type": "stream",
          "name": "stderr",
          "text": [
            "\n"
          ]
        },
        {
          "output_type": "stream",
          "name": "stdout",
          "text": [
            "Model summary: 129 layers, 3,011,433 parameters, 3,011,417 gradients, 8.2 GFLOPs\n",
            "\n",
            "Transferred 319/355 items from pretrained weights\n",
            "Freezing layer 'model.22.dfl.conv.weight'\n",
            "\u001b[34m\u001b[1mAMP: \u001b[0mrunning Automatic Mixed Precision (AMP) checks...\n",
            "Downloading https://github.com/ultralytics/assets/releases/download/v8.3.0/yolo11n.pt to 'yolo11n.pt'...\n"
          ]
        },
        {
          "output_type": "stream",
          "name": "stderr",
          "text": [
            "100%|██████████| 5.35M/5.35M [00:00<00:00, 137MB/s]\n"
          ]
        },
        {
          "output_type": "stream",
          "name": "stdout",
          "text": [
            "\u001b[34m\u001b[1mAMP: \u001b[0mchecks passed ✅\n",
            "\u001b[34m\u001b[1mtrain: \u001b[0mFast image access ✅ (ping: 0.0±0.0 ms, read: 14.4±6.4 MB/s, size: 34.0 KB)\n"
          ]
        },
        {
          "output_type": "stream",
          "name": "stderr",
          "text": [
            "\u001b[34m\u001b[1mtrain: \u001b[0mScanning /content/chair_dataset/train/labels... 960 images, 0 backgrounds, 0 corrupt: 100%|██████████| 960/960 [00:00<00:00, 1105.38it/s]"
          ]
        },
        {
          "output_type": "stream",
          "name": "stdout",
          "text": [
            "\u001b[34m\u001b[1mtrain: \u001b[0m/content/chair_dataset/train/images/A60_png_jpg.rf.711cca46646a907c69977776c8144196.jpg: 1 duplicate labels removed\n",
            "\u001b[34m\u001b[1mtrain: \u001b[0mNew cache created: /content/chair_dataset/train/labels.cache\n"
          ]
        },
        {
          "output_type": "stream",
          "name": "stderr",
          "text": [
            "\n"
          ]
        },
        {
          "output_type": "stream",
          "name": "stdout",
          "text": [
            "\u001b[34m\u001b[1malbumentations: \u001b[0mBlur(p=0.01, blur_limit=(3, 7)), MedianBlur(p=0.01, blur_limit=(3, 7)), ToGray(p=0.01, method='weighted_average', num_output_channels=3), CLAHE(p=0.01, clip_limit=(1.0, 4.0), tile_grid_size=(8, 8))\n",
            "\u001b[34m\u001b[1mval: \u001b[0mFast image access ✅ (ping: 0.0±0.0 ms, read: 12.0±8.0 MB/s, size: 32.9 KB)\n"
          ]
        },
        {
          "output_type": "stream",
          "name": "stderr",
          "text": [
            "\u001b[34m\u001b[1mval: \u001b[0mScanning /content/chair_dataset/valid/labels... 275 images, 0 backgrounds, 0 corrupt: 100%|██████████| 275/275 [00:00<00:00, 686.81it/s]"
          ]
        },
        {
          "output_type": "stream",
          "name": "stdout",
          "text": [
            "\u001b[34m\u001b[1mval: \u001b[0m/content/chair_dataset/valid/images/frames2_frame_464_jpg.rf.448c7f7287a35cc84b12feb0e7a736f0.jpg: 1 duplicate labels removed\n"
          ]
        },
        {
          "output_type": "stream",
          "name": "stderr",
          "text": [
            "\n"
          ]
        },
        {
          "output_type": "stream",
          "name": "stdout",
          "text": [
            "\u001b[34m\u001b[1mval: \u001b[0mNew cache created: /content/chair_dataset/valid/labels.cache\n",
            "Plotting labels to runs/detect/yolov8_chair/labels.jpg... \n",
            "\u001b[34m\u001b[1moptimizer:\u001b[0m 'optimizer=auto' found, ignoring 'lr0=0.01' and 'momentum=0.937' and determining best 'optimizer', 'lr0' and 'momentum' automatically... \n",
            "\u001b[34m\u001b[1moptimizer:\u001b[0m AdamW(lr=0.001429, momentum=0.9) with parameter groups 57 weight(decay=0.0), 64 weight(decay=0.0005), 63 bias(decay=0.0)\n",
            "Image sizes 640 train, 640 val\n",
            "Using 2 dataloader workers\n",
            "Logging results to \u001b[1mruns/detect/yolov8_chair\u001b[0m\n",
            "Starting training for 50 epochs...\n",
            "\n",
            "      Epoch    GPU_mem   box_loss   cls_loss   dfl_loss  Instances       Size\n"
          ]
        },
        {
          "output_type": "stream",
          "name": "stderr",
          "text": [
            "       1/50      2.08G      1.321      2.369      1.653         70        640: 100%|██████████| 60/60 [00:19<00:00,  3.13it/s]\n",
            "                 Class     Images  Instances      Box(P          R      mAP50  mAP50-95): 100%|██████████| 9/9 [00:03<00:00,  2.57it/s]"
          ]
        },
        {
          "output_type": "stream",
          "name": "stdout",
          "text": [
            "                   all        275        653      0.625      0.349      0.508      0.266\n"
          ]
        },
        {
          "output_type": "stream",
          "name": "stderr",
          "text": [
            "\n"
          ]
        },
        {
          "output_type": "stream",
          "name": "stdout",
          "text": [
            "\n",
            "      Epoch    GPU_mem   box_loss   cls_loss   dfl_loss  Instances       Size\n"
          ]
        },
        {
          "output_type": "stream",
          "name": "stderr",
          "text": [
            "       2/50      2.56G      1.357       1.86      1.669         89        640: 100%|██████████| 60/60 [00:15<00:00,  3.84it/s]\n",
            "                 Class     Images  Instances      Box(P          R      mAP50  mAP50-95): 100%|██████████| 9/9 [00:03<00:00,  2.71it/s]"
          ]
        },
        {
          "output_type": "stream",
          "name": "stdout",
          "text": [
            "                   all        275        653      0.464      0.607      0.503      0.235\n"
          ]
        },
        {
          "output_type": "stream",
          "name": "stderr",
          "text": [
            "\n"
          ]
        },
        {
          "output_type": "stream",
          "name": "stdout",
          "text": [
            "\n",
            "      Epoch    GPU_mem   box_loss   cls_loss   dfl_loss  Instances       Size\n"
          ]
        },
        {
          "output_type": "stream",
          "name": "stderr",
          "text": [
            "       3/50      2.58G      1.387      1.758      1.677         75        640: 100%|██████████| 60/60 [00:15<00:00,  3.80it/s]\n",
            "                 Class     Images  Instances      Box(P          R      mAP50  mAP50-95): 100%|██████████| 9/9 [00:02<00:00,  3.81it/s]\n"
          ]
        },
        {
          "output_type": "stream",
          "name": "stdout",
          "text": [
            "                   all        275        653      0.569       0.49       0.52      0.229\n",
            "\n",
            "      Epoch    GPU_mem   box_loss   cls_loss   dfl_loss  Instances       Size\n"
          ]
        },
        {
          "output_type": "stream",
          "name": "stderr",
          "text": [
            "       4/50       2.6G      1.385       1.73      1.689         78        640: 100%|██████████| 60/60 [00:15<00:00,  3.87it/s]\n",
            "                 Class     Images  Instances      Box(P          R      mAP50  mAP50-95): 100%|██████████| 9/9 [00:02<00:00,  3.80it/s]\n"
          ]
        },
        {
          "output_type": "stream",
          "name": "stdout",
          "text": [
            "                   all        275        653      0.644      0.619       0.64       0.32\n",
            "\n",
            "      Epoch    GPU_mem   box_loss   cls_loss   dfl_loss  Instances       Size\n"
          ]
        },
        {
          "output_type": "stream",
          "name": "stderr",
          "text": [
            "       5/50      2.62G      1.382      1.635      1.693         48        640: 100%|██████████| 60/60 [00:16<00:00,  3.63it/s]\n",
            "                 Class     Images  Instances      Box(P          R      mAP50  mAP50-95): 100%|██████████| 9/9 [00:02<00:00,  3.72it/s]\n"
          ]
        },
        {
          "output_type": "stream",
          "name": "stdout",
          "text": [
            "                   all        275        653      0.641      0.558      0.645      0.341\n",
            "\n",
            "      Epoch    GPU_mem   box_loss   cls_loss   dfl_loss  Instances       Size\n"
          ]
        },
        {
          "output_type": "stream",
          "name": "stderr",
          "text": [
            "       6/50      2.63G      1.361      1.569       1.66         45        640: 100%|██████████| 60/60 [00:15<00:00,  3.86it/s]\n",
            "                 Class     Images  Instances      Box(P          R      mAP50  mAP50-95): 100%|██████████| 9/9 [00:02<00:00,  3.58it/s]\n"
          ]
        },
        {
          "output_type": "stream",
          "name": "stdout",
          "text": [
            "                   all        275        653      0.677      0.736      0.754      0.418\n",
            "\n",
            "      Epoch    GPU_mem   box_loss   cls_loss   dfl_loss  Instances       Size\n"
          ]
        },
        {
          "output_type": "stream",
          "name": "stderr",
          "text": [
            "       7/50      2.65G      1.312       1.52      1.637         69        640: 100%|██████████| 60/60 [00:16<00:00,  3.56it/s]\n",
            "                 Class     Images  Instances      Box(P          R      mAP50  mAP50-95): 100%|██████████| 9/9 [00:02<00:00,  3.71it/s]\n"
          ]
        },
        {
          "output_type": "stream",
          "name": "stdout",
          "text": [
            "                   all        275        653      0.772      0.668      0.777      0.413\n",
            "\n",
            "      Epoch    GPU_mem   box_loss   cls_loss   dfl_loss  Instances       Size\n"
          ]
        },
        {
          "output_type": "stream",
          "name": "stderr",
          "text": [
            "       8/50      2.67G       1.28      1.403      1.608         51        640: 100%|██████████| 60/60 [00:15<00:00,  3.75it/s]\n",
            "                 Class     Images  Instances      Box(P          R      mAP50  mAP50-95): 100%|██████████| 9/9 [00:02<00:00,  3.68it/s]\n"
          ]
        },
        {
          "output_type": "stream",
          "name": "stdout",
          "text": [
            "                   all        275        653      0.737      0.619      0.666       0.38\n",
            "\n",
            "      Epoch    GPU_mem   box_loss   cls_loss   dfl_loss  Instances       Size\n"
          ]
        },
        {
          "output_type": "stream",
          "name": "stderr",
          "text": [
            "       9/50      2.68G      1.288      1.422      1.606         56        640: 100%|██████████| 60/60 [00:17<00:00,  3.50it/s]\n",
            "                 Class     Images  Instances      Box(P          R      mAP50  mAP50-95): 100%|██████████| 9/9 [00:02<00:00,  3.79it/s]"
          ]
        },
        {
          "output_type": "stream",
          "name": "stdout",
          "text": [
            "                   all        275        653      0.863      0.742      0.843      0.487\n"
          ]
        },
        {
          "output_type": "stream",
          "name": "stderr",
          "text": [
            "\n"
          ]
        },
        {
          "output_type": "stream",
          "name": "stdout",
          "text": [
            "\n",
            "      Epoch    GPU_mem   box_loss   cls_loss   dfl_loss  Instances       Size\n"
          ]
        },
        {
          "output_type": "stream",
          "name": "stderr",
          "text": [
            "      10/50       2.7G      1.267      1.345      1.586         78        640: 100%|██████████| 60/60 [00:15<00:00,  3.85it/s]\n",
            "                 Class     Images  Instances      Box(P          R      mAP50  mAP50-95): 100%|██████████| 9/9 [00:02<00:00,  3.92it/s]"
          ]
        },
        {
          "output_type": "stream",
          "name": "stdout",
          "text": [
            "                   all        275        653      0.835      0.741      0.836      0.487\n"
          ]
        },
        {
          "output_type": "stream",
          "name": "stderr",
          "text": [
            "\n"
          ]
        },
        {
          "output_type": "stream",
          "name": "stdout",
          "text": [
            "\n",
            "      Epoch    GPU_mem   box_loss   cls_loss   dfl_loss  Instances       Size\n"
          ]
        },
        {
          "output_type": "stream",
          "name": "stderr",
          "text": [
            "      11/50      2.72G      1.255      1.319      1.572         71        640: 100%|██████████| 60/60 [00:15<00:00,  3.82it/s]\n",
            "                 Class     Images  Instances      Box(P          R      mAP50  mAP50-95): 100%|██████████| 9/9 [00:03<00:00,  2.60it/s]"
          ]
        },
        {
          "output_type": "stream",
          "name": "stdout",
          "text": [
            "                   all        275        653       0.84      0.771      0.845      0.494\n"
          ]
        },
        {
          "output_type": "stream",
          "name": "stderr",
          "text": [
            "\n"
          ]
        },
        {
          "output_type": "stream",
          "name": "stdout",
          "text": [
            "\n",
            "      Epoch    GPU_mem   box_loss   cls_loss   dfl_loss  Instances       Size\n"
          ]
        },
        {
          "output_type": "stream",
          "name": "stderr",
          "text": [
            "      12/50      2.73G      1.232      1.279      1.542         69        640: 100%|██████████| 60/60 [00:16<00:00,  3.70it/s]\n",
            "                 Class     Images  Instances      Box(P          R      mAP50  mAP50-95): 100%|██████████| 9/9 [00:02<00:00,  3.85it/s]"
          ]
        },
        {
          "output_type": "stream",
          "name": "stdout",
          "text": [
            "                   all        275        653      0.701      0.751      0.756      0.399\n"
          ]
        },
        {
          "output_type": "stream",
          "name": "stderr",
          "text": [
            "\n"
          ]
        },
        {
          "output_type": "stream",
          "name": "stdout",
          "text": [
            "\n",
            "      Epoch    GPU_mem   box_loss   cls_loss   dfl_loss  Instances       Size\n"
          ]
        },
        {
          "output_type": "stream",
          "name": "stderr",
          "text": [
            "      13/50      2.75G      1.199      1.251       1.53         79        640: 100%|██████████| 60/60 [00:15<00:00,  3.79it/s]\n",
            "                 Class     Images  Instances      Box(P          R      mAP50  mAP50-95): 100%|██████████| 9/9 [00:03<00:00,  2.69it/s]"
          ]
        },
        {
          "output_type": "stream",
          "name": "stdout",
          "text": [
            "                   all        275        653      0.809      0.795       0.87      0.535\n"
          ]
        },
        {
          "output_type": "stream",
          "name": "stderr",
          "text": [
            "\n"
          ]
        },
        {
          "output_type": "stream",
          "name": "stdout",
          "text": [
            "\n",
            "      Epoch    GPU_mem   box_loss   cls_loss   dfl_loss  Instances       Size\n"
          ]
        },
        {
          "output_type": "stream",
          "name": "stderr",
          "text": [
            "      14/50      2.77G      1.206      1.261      1.534         81        640: 100%|██████████| 60/60 [00:15<00:00,  3.87it/s]\n",
            "                 Class     Images  Instances      Box(P          R      mAP50  mAP50-95): 100%|██████████| 9/9 [00:02<00:00,  3.70it/s]"
          ]
        },
        {
          "output_type": "stream",
          "name": "stdout",
          "text": [
            "                   all        275        653      0.782      0.674      0.809      0.486\n"
          ]
        },
        {
          "output_type": "stream",
          "name": "stderr",
          "text": [
            "\n"
          ]
        },
        {
          "output_type": "stream",
          "name": "stdout",
          "text": [
            "\n",
            "      Epoch    GPU_mem   box_loss   cls_loss   dfl_loss  Instances       Size\n"
          ]
        },
        {
          "output_type": "stream",
          "name": "stderr",
          "text": [
            "      15/50      2.79G      1.198      1.208       1.54         68        640: 100%|██████████| 60/60 [00:15<00:00,  3.88it/s]\n",
            "                 Class     Images  Instances      Box(P          R      mAP50  mAP50-95): 100%|██████████| 9/9 [00:03<00:00,  2.74it/s]"
          ]
        },
        {
          "output_type": "stream",
          "name": "stdout",
          "text": [
            "                   all        275        653      0.878      0.785      0.884      0.562\n"
          ]
        },
        {
          "output_type": "stream",
          "name": "stderr",
          "text": [
            "\n"
          ]
        },
        {
          "output_type": "stream",
          "name": "stdout",
          "text": [
            "\n",
            "      Epoch    GPU_mem   box_loss   cls_loss   dfl_loss  Instances       Size\n"
          ]
        },
        {
          "output_type": "stream",
          "name": "stderr",
          "text": [
            "      16/50       2.8G      1.166      1.145      1.504         60        640: 100%|██████████| 60/60 [00:15<00:00,  3.87it/s]\n",
            "                 Class     Images  Instances      Box(P          R      mAP50  mAP50-95): 100%|██████████| 9/9 [00:02<00:00,  3.75it/s]"
          ]
        },
        {
          "output_type": "stream",
          "name": "stdout",
          "text": [
            "                   all        275        653      0.797      0.786      0.844       0.52\n"
          ]
        },
        {
          "output_type": "stream",
          "name": "stderr",
          "text": [
            "\n"
          ]
        },
        {
          "output_type": "stream",
          "name": "stdout",
          "text": [
            "\n",
            "      Epoch    GPU_mem   box_loss   cls_loss   dfl_loss  Instances       Size\n"
          ]
        },
        {
          "output_type": "stream",
          "name": "stderr",
          "text": [
            "      17/50      2.82G       1.15      1.148      1.483         81        640: 100%|██████████| 60/60 [00:16<00:00,  3.70it/s]\n",
            "                 Class     Images  Instances      Box(P          R      mAP50  mAP50-95): 100%|██████████| 9/9 [00:02<00:00,  3.25it/s]"
          ]
        },
        {
          "output_type": "stream",
          "name": "stdout",
          "text": [
            "                   all        275        653      0.852      0.804       0.88       0.56\n"
          ]
        },
        {
          "output_type": "stream",
          "name": "stderr",
          "text": [
            "\n"
          ]
        },
        {
          "output_type": "stream",
          "name": "stdout",
          "text": [
            "\n",
            "      Epoch    GPU_mem   box_loss   cls_loss   dfl_loss  Instances       Size\n"
          ]
        },
        {
          "output_type": "stream",
          "name": "stderr",
          "text": [
            "      18/50      2.84G      1.145      1.121      1.482         89        640: 100%|██████████| 60/60 [00:16<00:00,  3.69it/s]\n",
            "                 Class     Images  Instances      Box(P          R      mAP50  mAP50-95): 100%|██████████| 9/9 [00:02<00:00,  3.84it/s]"
          ]
        },
        {
          "output_type": "stream",
          "name": "stdout",
          "text": [
            "                   all        275        653      0.807        0.8      0.883      0.566\n"
          ]
        },
        {
          "output_type": "stream",
          "name": "stderr",
          "text": [
            "\n"
          ]
        },
        {
          "output_type": "stream",
          "name": "stdout",
          "text": [
            "\n",
            "      Epoch    GPU_mem   box_loss   cls_loss   dfl_loss  Instances       Size\n"
          ]
        },
        {
          "output_type": "stream",
          "name": "stderr",
          "text": [
            "      19/50      2.86G      1.138      1.089      1.492         65        640: 100%|██████████| 60/60 [00:15<00:00,  3.76it/s]\n",
            "                 Class     Images  Instances      Box(P          R      mAP50  mAP50-95): 100%|██████████| 9/9 [00:02<00:00,  3.96it/s]"
          ]
        },
        {
          "output_type": "stream",
          "name": "stdout",
          "text": [
            "                   all        275        653      0.861      0.817      0.887      0.575\n"
          ]
        },
        {
          "output_type": "stream",
          "name": "stderr",
          "text": [
            "\n"
          ]
        },
        {
          "output_type": "stream",
          "name": "stdout",
          "text": [
            "\n",
            "      Epoch    GPU_mem   box_loss   cls_loss   dfl_loss  Instances       Size\n"
          ]
        },
        {
          "output_type": "stream",
          "name": "stderr",
          "text": [
            "      20/50      2.87G      1.133      1.078      1.473         80        640: 100%|██████████| 60/60 [00:17<00:00,  3.47it/s]\n",
            "                 Class     Images  Instances      Box(P          R      mAP50  mAP50-95): 100%|██████████| 9/9 [00:02<00:00,  3.92it/s]"
          ]
        },
        {
          "output_type": "stream",
          "name": "stdout",
          "text": [
            "                   all        275        653      0.826       0.85      0.891       0.58\n"
          ]
        },
        {
          "output_type": "stream",
          "name": "stderr",
          "text": [
            "\n"
          ]
        },
        {
          "output_type": "stream",
          "name": "stdout",
          "text": [
            "\n",
            "      Epoch    GPU_mem   box_loss   cls_loss   dfl_loss  Instances       Size\n"
          ]
        },
        {
          "output_type": "stream",
          "name": "stderr",
          "text": [
            "      21/50      2.89G      1.102      1.063      1.448         55        640: 100%|██████████| 60/60 [00:15<00:00,  3.84it/s]\n",
            "                 Class     Images  Instances      Box(P          R      mAP50  mAP50-95): 100%|██████████| 9/9 [00:02<00:00,  3.74it/s]"
          ]
        },
        {
          "output_type": "stream",
          "name": "stdout",
          "text": [
            "                   all        275        653       0.82      0.838      0.885      0.526\n"
          ]
        },
        {
          "output_type": "stream",
          "name": "stderr",
          "text": [
            "\n"
          ]
        },
        {
          "output_type": "stream",
          "name": "stdout",
          "text": [
            "\n",
            "      Epoch    GPU_mem   box_loss   cls_loss   dfl_loss  Instances       Size\n"
          ]
        },
        {
          "output_type": "stream",
          "name": "stderr",
          "text": [
            "      22/50      2.91G       1.08      1.037      1.441         70        640: 100%|██████████| 60/60 [00:16<00:00,  3.68it/s]\n",
            "                 Class     Images  Instances      Box(P          R      mAP50  mAP50-95): 100%|██████████| 9/9 [00:02<00:00,  3.24it/s]"
          ]
        },
        {
          "output_type": "stream",
          "name": "stdout",
          "text": [
            "                   all        275        653      0.839      0.837      0.882      0.583\n"
          ]
        },
        {
          "output_type": "stream",
          "name": "stderr",
          "text": [
            "\n"
          ]
        },
        {
          "output_type": "stream",
          "name": "stdout",
          "text": [
            "\n",
            "      Epoch    GPU_mem   box_loss   cls_loss   dfl_loss  Instances       Size\n"
          ]
        },
        {
          "output_type": "stream",
          "name": "stderr",
          "text": [
            "      23/50      2.92G      1.047      1.014      1.412         68        640: 100%|██████████| 60/60 [00:15<00:00,  3.94it/s]\n",
            "                 Class     Images  Instances      Box(P          R      mAP50  mAP50-95): 100%|██████████| 9/9 [00:02<00:00,  3.55it/s]"
          ]
        },
        {
          "output_type": "stream",
          "name": "stdout",
          "text": [
            "                   all        275        653      0.846      0.859      0.905      0.594\n"
          ]
        },
        {
          "output_type": "stream",
          "name": "stderr",
          "text": [
            "\n"
          ]
        },
        {
          "output_type": "stream",
          "name": "stdout",
          "text": [
            "\n",
            "      Epoch    GPU_mem   box_loss   cls_loss   dfl_loss  Instances       Size\n"
          ]
        },
        {
          "output_type": "stream",
          "name": "stderr",
          "text": [
            "      24/50      2.94G      1.065      1.009      1.426         68        640: 100%|██████████| 60/60 [00:15<00:00,  3.77it/s]\n",
            "                 Class     Images  Instances      Box(P          R      mAP50  mAP50-95): 100%|██████████| 9/9 [00:03<00:00,  2.68it/s]"
          ]
        },
        {
          "output_type": "stream",
          "name": "stdout",
          "text": [
            "                   all        275        653      0.864      0.861       0.91      0.606\n"
          ]
        },
        {
          "output_type": "stream",
          "name": "stderr",
          "text": [
            "\n"
          ]
        },
        {
          "output_type": "stream",
          "name": "stdout",
          "text": [
            "\n",
            "      Epoch    GPU_mem   box_loss   cls_loss   dfl_loss  Instances       Size\n"
          ]
        },
        {
          "output_type": "stream",
          "name": "stderr",
          "text": [
            "      25/50      2.96G      1.052     0.9764      1.403         77        640: 100%|██████████| 60/60 [00:16<00:00,  3.74it/s]\n",
            "                 Class     Images  Instances      Box(P          R      mAP50  mAP50-95): 100%|██████████| 9/9 [00:02<00:00,  3.94it/s]"
          ]
        },
        {
          "output_type": "stream",
          "name": "stdout",
          "text": [
            "                   all        275        653      0.853      0.868      0.905      0.604\n"
          ]
        },
        {
          "output_type": "stream",
          "name": "stderr",
          "text": [
            "\n"
          ]
        },
        {
          "output_type": "stream",
          "name": "stdout",
          "text": [
            "\n",
            "      Epoch    GPU_mem   box_loss   cls_loss   dfl_loss  Instances       Size\n"
          ]
        },
        {
          "output_type": "stream",
          "name": "stderr",
          "text": [
            "      26/50      2.97G      1.036     0.9467        1.4         80        640: 100%|██████████| 60/60 [00:15<00:00,  3.85it/s]\n",
            "                 Class     Images  Instances      Box(P          R      mAP50  mAP50-95): 100%|██████████| 9/9 [00:03<00:00,  2.93it/s]"
          ]
        },
        {
          "output_type": "stream",
          "name": "stdout",
          "text": [
            "                   all        275        653      0.871      0.856       0.92       0.63\n"
          ]
        },
        {
          "output_type": "stream",
          "name": "stderr",
          "text": [
            "\n"
          ]
        },
        {
          "output_type": "stream",
          "name": "stdout",
          "text": [
            "\n",
            "      Epoch    GPU_mem   box_loss   cls_loss   dfl_loss  Instances       Size\n"
          ]
        },
        {
          "output_type": "stream",
          "name": "stderr",
          "text": [
            "      27/50      2.99G      1.044     0.9542      1.399         98        640: 100%|██████████| 60/60 [00:15<00:00,  3.81it/s]\n",
            "                 Class     Images  Instances      Box(P          R      mAP50  mAP50-95): 100%|██████████| 9/9 [00:02<00:00,  3.83it/s]"
          ]
        },
        {
          "output_type": "stream",
          "name": "stdout",
          "text": [
            "                   all        275        653      0.866      0.868      0.915      0.626\n"
          ]
        },
        {
          "output_type": "stream",
          "name": "stderr",
          "text": [
            "\n"
          ]
        },
        {
          "output_type": "stream",
          "name": "stdout",
          "text": [
            "\n",
            "      Epoch    GPU_mem   box_loss   cls_loss   dfl_loss  Instances       Size\n"
          ]
        },
        {
          "output_type": "stream",
          "name": "stderr",
          "text": [
            "      28/50      3.01G      1.011     0.9365      1.401         70        640: 100%|██████████| 60/60 [00:15<00:00,  3.83it/s]\n",
            "                 Class     Images  Instances      Box(P          R      mAP50  mAP50-95): 100%|██████████| 9/9 [00:02<00:00,  3.36it/s]"
          ]
        },
        {
          "output_type": "stream",
          "name": "stdout",
          "text": [
            "                   all        275        653      0.916      0.868      0.923      0.612\n"
          ]
        },
        {
          "output_type": "stream",
          "name": "stderr",
          "text": [
            "\n"
          ]
        },
        {
          "output_type": "stream",
          "name": "stdout",
          "text": [
            "\n",
            "      Epoch    GPU_mem   box_loss   cls_loss   dfl_loss  Instances       Size\n"
          ]
        },
        {
          "output_type": "stream",
          "name": "stderr",
          "text": [
            "      29/50      3.03G     0.9956     0.9151      1.376         69        640: 100%|██████████| 60/60 [00:16<00:00,  3.62it/s]\n",
            "                 Class     Images  Instances      Box(P          R      mAP50  mAP50-95): 100%|██████████| 9/9 [00:02<00:00,  3.85it/s]"
          ]
        },
        {
          "output_type": "stream",
          "name": "stdout",
          "text": [
            "                   all        275        653      0.885      0.839      0.918      0.612\n"
          ]
        },
        {
          "output_type": "stream",
          "name": "stderr",
          "text": [
            "\n"
          ]
        },
        {
          "output_type": "stream",
          "name": "stdout",
          "text": [
            "\n",
            "      Epoch    GPU_mem   box_loss   cls_loss   dfl_loss  Instances       Size\n"
          ]
        },
        {
          "output_type": "stream",
          "name": "stderr",
          "text": [
            "      30/50      3.04G     0.9969     0.9111      1.367         72        640: 100%|██████████| 60/60 [00:15<00:00,  3.78it/s]\n",
            "                 Class     Images  Instances      Box(P          R      mAP50  mAP50-95): 100%|██████████| 9/9 [00:02<00:00,  3.80it/s]"
          ]
        },
        {
          "output_type": "stream",
          "name": "stdout",
          "text": [
            "                   all        275        653      0.888      0.883      0.923      0.624\n"
          ]
        },
        {
          "output_type": "stream",
          "name": "stderr",
          "text": [
            "\n"
          ]
        },
        {
          "output_type": "stream",
          "name": "stdout",
          "text": [
            "\n",
            "      Epoch    GPU_mem   box_loss   cls_loss   dfl_loss  Instances       Size\n"
          ]
        },
        {
          "output_type": "stream",
          "name": "stderr",
          "text": [
            "      31/50      3.06G     0.9798     0.8878      1.363         60        640: 100%|██████████| 60/60 [00:16<00:00,  3.56it/s]\n",
            "                 Class     Images  Instances      Box(P          R      mAP50  mAP50-95): 100%|██████████| 9/9 [00:02<00:00,  3.82it/s]"
          ]
        },
        {
          "output_type": "stream",
          "name": "stdout",
          "text": [
            "                   all        275        653      0.873      0.876      0.915      0.633\n"
          ]
        },
        {
          "output_type": "stream",
          "name": "stderr",
          "text": [
            "\n"
          ]
        },
        {
          "output_type": "stream",
          "name": "stdout",
          "text": [
            "\n",
            "      Epoch    GPU_mem   box_loss   cls_loss   dfl_loss  Instances       Size\n"
          ]
        },
        {
          "output_type": "stream",
          "name": "stderr",
          "text": [
            "      32/50      3.08G      0.973     0.8825      1.358         79        640: 100%|██████████| 60/60 [00:15<00:00,  3.84it/s]\n",
            "                 Class     Images  Instances      Box(P          R      mAP50  mAP50-95): 100%|██████████| 9/9 [00:02<00:00,  3.63it/s]"
          ]
        },
        {
          "output_type": "stream",
          "name": "stdout",
          "text": [
            "                   all        275        653      0.921      0.867      0.928      0.655\n"
          ]
        },
        {
          "output_type": "stream",
          "name": "stderr",
          "text": [
            "\n"
          ]
        },
        {
          "output_type": "stream",
          "name": "stdout",
          "text": [
            "\n",
            "      Epoch    GPU_mem   box_loss   cls_loss   dfl_loss  Instances       Size\n"
          ]
        },
        {
          "output_type": "stream",
          "name": "stderr",
          "text": [
            "      33/50      3.09G     0.9453     0.8573      1.336         46        640: 100%|██████████| 60/60 [00:16<00:00,  3.63it/s]\n",
            "                 Class     Images  Instances      Box(P          R      mAP50  mAP50-95): 100%|██████████| 9/9 [00:02<00:00,  3.39it/s]"
          ]
        },
        {
          "output_type": "stream",
          "name": "stdout",
          "text": [
            "                   all        275        653      0.916      0.858      0.928       0.65\n"
          ]
        },
        {
          "output_type": "stream",
          "name": "stderr",
          "text": [
            "\n"
          ]
        },
        {
          "output_type": "stream",
          "name": "stdout",
          "text": [
            "\n",
            "      Epoch    GPU_mem   box_loss   cls_loss   dfl_loss  Instances       Size\n"
          ]
        },
        {
          "output_type": "stream",
          "name": "stderr",
          "text": [
            "      34/50      3.11G     0.9662     0.8631      1.347         79        640: 100%|██████████| 60/60 [00:16<00:00,  3.69it/s]\n",
            "                 Class     Images  Instances      Box(P          R      mAP50  mAP50-95): 100%|██████████| 9/9 [00:02<00:00,  3.22it/s]"
          ]
        },
        {
          "output_type": "stream",
          "name": "stdout",
          "text": [
            "                   all        275        653      0.923      0.854      0.926       0.66\n"
          ]
        },
        {
          "output_type": "stream",
          "name": "stderr",
          "text": [
            "\n"
          ]
        },
        {
          "output_type": "stream",
          "name": "stdout",
          "text": [
            "\n",
            "      Epoch    GPU_mem   box_loss   cls_loss   dfl_loss  Instances       Size\n"
          ]
        },
        {
          "output_type": "stream",
          "name": "stderr",
          "text": [
            "      35/50      3.13G     0.9472      0.869      1.337         72        640: 100%|██████████| 60/60 [00:22<00:00,  2.66it/s]\n",
            "                 Class     Images  Instances      Box(P          R      mAP50  mAP50-95): 100%|██████████| 9/9 [00:02<00:00,  3.71it/s]"
          ]
        },
        {
          "output_type": "stream",
          "name": "stdout",
          "text": [
            "                   all        275        653      0.864      0.903      0.932      0.649\n"
          ]
        },
        {
          "output_type": "stream",
          "name": "stderr",
          "text": [
            "\n"
          ]
        },
        {
          "output_type": "stream",
          "name": "stdout",
          "text": [
            "\n",
            "      Epoch    GPU_mem   box_loss   cls_loss   dfl_loss  Instances       Size\n"
          ]
        },
        {
          "output_type": "stream",
          "name": "stderr",
          "text": [
            "      36/50      3.14G      0.928     0.8272      1.329         62        640: 100%|██████████| 60/60 [00:19<00:00,  3.16it/s]\n",
            "                 Class     Images  Instances      Box(P          R      mAP50  mAP50-95): 100%|██████████| 9/9 [00:02<00:00,  3.62it/s]"
          ]
        },
        {
          "output_type": "stream",
          "name": "stdout",
          "text": [
            "                   all        275        653      0.928      0.872      0.934       0.66\n"
          ]
        },
        {
          "output_type": "stream",
          "name": "stderr",
          "text": [
            "\n"
          ]
        },
        {
          "output_type": "stream",
          "name": "stdout",
          "text": [
            "\n",
            "      Epoch    GPU_mem   box_loss   cls_loss   dfl_loss  Instances       Size\n"
          ]
        },
        {
          "output_type": "stream",
          "name": "stderr",
          "text": [
            "      37/50      3.16G     0.9286      0.817      1.319         55        640: 100%|██████████| 60/60 [00:16<00:00,  3.65it/s]\n",
            "                 Class     Images  Instances      Box(P          R      mAP50  mAP50-95): 100%|██████████| 9/9 [00:02<00:00,  3.86it/s]"
          ]
        },
        {
          "output_type": "stream",
          "name": "stdout",
          "text": [
            "                   all        275        653      0.901      0.873      0.929      0.665\n"
          ]
        },
        {
          "output_type": "stream",
          "name": "stderr",
          "text": [
            "\n"
          ]
        },
        {
          "output_type": "stream",
          "name": "stdout",
          "text": [
            "\n",
            "      Epoch    GPU_mem   box_loss   cls_loss   dfl_loss  Instances       Size\n"
          ]
        },
        {
          "output_type": "stream",
          "name": "stderr",
          "text": [
            "      38/50      3.18G     0.9052     0.7989      1.312         48        640: 100%|██████████| 60/60 [00:16<00:00,  3.53it/s]\n",
            "                 Class     Images  Instances      Box(P          R      mAP50  mAP50-95): 100%|██████████| 9/9 [00:02<00:00,  3.86it/s]"
          ]
        },
        {
          "output_type": "stream",
          "name": "stdout",
          "text": [
            "                   all        275        653      0.914      0.885      0.939      0.674\n"
          ]
        },
        {
          "output_type": "stream",
          "name": "stderr",
          "text": [
            "\n"
          ]
        },
        {
          "output_type": "stream",
          "name": "stdout",
          "text": [
            "\n",
            "      Epoch    GPU_mem   box_loss   cls_loss   dfl_loss  Instances       Size\n"
          ]
        },
        {
          "output_type": "stream",
          "name": "stderr",
          "text": [
            "      39/50       3.2G     0.9133     0.8246      1.302         87        640: 100%|██████████| 60/60 [00:17<00:00,  3.46it/s]\n",
            "                 Class     Images  Instances      Box(P          R      mAP50  mAP50-95): 100%|██████████| 9/9 [00:02<00:00,  3.18it/s]"
          ]
        },
        {
          "output_type": "stream",
          "name": "stdout",
          "text": [
            "                   all        275        653      0.912      0.903      0.943       0.69\n"
          ]
        },
        {
          "output_type": "stream",
          "name": "stderr",
          "text": [
            "\n"
          ]
        },
        {
          "output_type": "stream",
          "name": "stdout",
          "text": [
            "\n",
            "      Epoch    GPU_mem   box_loss   cls_loss   dfl_loss  Instances       Size\n"
          ]
        },
        {
          "output_type": "stream",
          "name": "stderr",
          "text": [
            "      40/50      3.21G     0.8867     0.7896      1.296         78        640: 100%|██████████| 60/60 [00:16<00:00,  3.66it/s]\n",
            "                 Class     Images  Instances      Box(P          R      mAP50  mAP50-95): 100%|██████████| 9/9 [00:02<00:00,  3.81it/s]"
          ]
        },
        {
          "output_type": "stream",
          "name": "stdout",
          "text": [
            "                   all        275        653      0.914      0.906      0.942      0.677\n"
          ]
        },
        {
          "output_type": "stream",
          "name": "stderr",
          "text": [
            "\n"
          ]
        },
        {
          "output_type": "stream",
          "name": "stdout",
          "text": [
            "Closing dataloader mosaic\n",
            "\u001b[34m\u001b[1malbumentations: \u001b[0mBlur(p=0.01, blur_limit=(3, 7)), MedianBlur(p=0.01, blur_limit=(3, 7)), ToGray(p=0.01, method='weighted_average', num_output_channels=3), CLAHE(p=0.01, clip_limit=(1.0, 4.0), tile_grid_size=(8, 8))\n",
            "\n",
            "      Epoch    GPU_mem   box_loss   cls_loss   dfl_loss  Instances       Size\n"
          ]
        },
        {
          "output_type": "stream",
          "name": "stderr",
          "text": [
            "      41/50      3.23G     0.8274     0.6461      1.308         37        640: 100%|██████████| 60/60 [00:16<00:00,  3.53it/s]\n",
            "                 Class     Images  Instances      Box(P          R      mAP50  mAP50-95): 100%|██████████| 9/9 [00:03<00:00,  2.99it/s]"
          ]
        },
        {
          "output_type": "stream",
          "name": "stdout",
          "text": [
            "                   all        275        653       0.93      0.899       0.95      0.661\n"
          ]
        },
        {
          "output_type": "stream",
          "name": "stderr",
          "text": [
            "\n"
          ]
        },
        {
          "output_type": "stream",
          "name": "stdout",
          "text": [
            "\n",
            "      Epoch    GPU_mem   box_loss   cls_loss   dfl_loss  Instances       Size\n"
          ]
        },
        {
          "output_type": "stream",
          "name": "stderr",
          "text": [
            "      42/50      3.25G      0.788     0.5985      1.286         23        640: 100%|██████████| 60/60 [00:15<00:00,  3.92it/s]\n",
            "                 Class     Images  Instances      Box(P          R      mAP50  mAP50-95): 100%|██████████| 9/9 [00:02<00:00,  3.67it/s]"
          ]
        },
        {
          "output_type": "stream",
          "name": "stdout",
          "text": [
            "                   all        275        653      0.917      0.913       0.95      0.662\n"
          ]
        },
        {
          "output_type": "stream",
          "name": "stderr",
          "text": [
            "\n"
          ]
        },
        {
          "output_type": "stream",
          "name": "stdout",
          "text": [
            "\n",
            "      Epoch    GPU_mem   box_loss   cls_loss   dfl_loss  Instances       Size\n"
          ]
        },
        {
          "output_type": "stream",
          "name": "stderr",
          "text": [
            "      43/50      3.26G     0.7562     0.5835      1.246         40        640: 100%|██████████| 60/60 [00:15<00:00,  3.93it/s]\n",
            "                 Class     Images  Instances      Box(P          R      mAP50  mAP50-95): 100%|██████████| 9/9 [00:02<00:00,  3.95it/s]"
          ]
        },
        {
          "output_type": "stream",
          "name": "stdout",
          "text": [
            "                   all        275        653      0.896      0.911      0.948      0.687\n"
          ]
        },
        {
          "output_type": "stream",
          "name": "stderr",
          "text": [
            "\n"
          ]
        },
        {
          "output_type": "stream",
          "name": "stdout",
          "text": [
            "\n",
            "      Epoch    GPU_mem   box_loss   cls_loss   dfl_loss  Instances       Size\n"
          ]
        },
        {
          "output_type": "stream",
          "name": "stderr",
          "text": [
            "      44/50      3.28G     0.7595      0.578      1.255         26        640: 100%|██████████| 60/60 [00:16<00:00,  3.71it/s]\n",
            "                 Class     Images  Instances      Box(P          R      mAP50  mAP50-95): 100%|██████████| 9/9 [00:02<00:00,  3.45it/s]"
          ]
        },
        {
          "output_type": "stream",
          "name": "stdout",
          "text": [
            "                   all        275        653        0.9      0.912      0.941      0.672\n"
          ]
        },
        {
          "output_type": "stream",
          "name": "stderr",
          "text": [
            "\n"
          ]
        },
        {
          "output_type": "stream",
          "name": "stdout",
          "text": [
            "\n",
            "      Epoch    GPU_mem   box_loss   cls_loss   dfl_loss  Instances       Size\n"
          ]
        },
        {
          "output_type": "stream",
          "name": "stderr",
          "text": [
            "      45/50       3.3G      0.748     0.5586      1.242         49        640: 100%|██████████| 60/60 [00:15<00:00,  3.83it/s]\n",
            "                 Class     Images  Instances      Box(P          R      mAP50  mAP50-95): 100%|██████████| 9/9 [00:02<00:00,  3.98it/s]"
          ]
        },
        {
          "output_type": "stream",
          "name": "stdout",
          "text": [
            "                   all        275        653      0.906      0.917      0.947      0.695\n"
          ]
        },
        {
          "output_type": "stream",
          "name": "stderr",
          "text": [
            "\n"
          ]
        },
        {
          "output_type": "stream",
          "name": "stdout",
          "text": [
            "\n",
            "      Epoch    GPU_mem   box_loss   cls_loss   dfl_loss  Instances       Size\n"
          ]
        },
        {
          "output_type": "stream",
          "name": "stderr",
          "text": [
            "      46/50      3.32G     0.7098     0.5373      1.224         42        640: 100%|██████████| 60/60 [00:15<00:00,  3.98it/s]\n",
            "                 Class     Images  Instances      Box(P          R      mAP50  mAP50-95): 100%|██████████| 9/9 [00:03<00:00,  2.91it/s]"
          ]
        },
        {
          "output_type": "stream",
          "name": "stdout",
          "text": [
            "                   all        275        653      0.918      0.925       0.95        0.7\n"
          ]
        },
        {
          "output_type": "stream",
          "name": "stderr",
          "text": [
            "\n"
          ]
        },
        {
          "output_type": "stream",
          "name": "stdout",
          "text": [
            "\n",
            "      Epoch    GPU_mem   box_loss   cls_loss   dfl_loss  Instances       Size\n"
          ]
        },
        {
          "output_type": "stream",
          "name": "stderr",
          "text": [
            "      47/50      3.33G      0.691     0.5303      1.198         39        640: 100%|██████████| 60/60 [00:15<00:00,  3.92it/s]\n",
            "                 Class     Images  Instances      Box(P          R      mAP50  mAP50-95): 100%|██████████| 9/9 [00:02<00:00,  3.96it/s]"
          ]
        },
        {
          "output_type": "stream",
          "name": "stdout",
          "text": [
            "                   all        275        653      0.929      0.912      0.955      0.696\n"
          ]
        },
        {
          "output_type": "stream",
          "name": "stderr",
          "text": [
            "\n"
          ]
        },
        {
          "output_type": "stream",
          "name": "stdout",
          "text": [
            "\n",
            "      Epoch    GPU_mem   box_loss   cls_loss   dfl_loss  Instances       Size\n"
          ]
        },
        {
          "output_type": "stream",
          "name": "stderr",
          "text": [
            "      48/50      3.35G     0.6771     0.5115      1.188         40        640: 100%|██████████| 60/60 [00:15<00:00,  3.98it/s]\n",
            "                 Class     Images  Instances      Box(P          R      mAP50  mAP50-95): 100%|██████████| 9/9 [00:02<00:00,  4.04it/s]"
          ]
        },
        {
          "output_type": "stream",
          "name": "stdout",
          "text": [
            "                   all        275        653      0.922      0.922      0.953      0.706\n"
          ]
        },
        {
          "output_type": "stream",
          "name": "stderr",
          "text": [
            "\n"
          ]
        },
        {
          "output_type": "stream",
          "name": "stdout",
          "text": [
            "\n",
            "      Epoch    GPU_mem   box_loss   cls_loss   dfl_loss  Instances       Size\n"
          ]
        },
        {
          "output_type": "stream",
          "name": "stderr",
          "text": [
            "      49/50      3.37G     0.6756     0.5104      1.191         27        640: 100%|██████████| 60/60 [00:15<00:00,  3.78it/s]\n",
            "                 Class     Images  Instances      Box(P          R      mAP50  mAP50-95): 100%|██████████| 9/9 [00:02<00:00,  3.36it/s]"
          ]
        },
        {
          "output_type": "stream",
          "name": "stdout",
          "text": [
            "                   all        275        653      0.931      0.914      0.953      0.705\n"
          ]
        },
        {
          "output_type": "stream",
          "name": "stderr",
          "text": [
            "\n"
          ]
        },
        {
          "output_type": "stream",
          "name": "stdout",
          "text": [
            "\n",
            "      Epoch    GPU_mem   box_loss   cls_loss   dfl_loss  Instances       Size\n"
          ]
        },
        {
          "output_type": "stream",
          "name": "stderr",
          "text": [
            "      50/50      3.38G      0.645      0.492      1.161         30        640: 100%|██████████| 60/60 [00:15<00:00,  3.96it/s]\n",
            "                 Class     Images  Instances      Box(P          R      mAP50  mAP50-95): 100%|██████████| 9/9 [00:02<00:00,  4.04it/s]"
          ]
        },
        {
          "output_type": "stream",
          "name": "stdout",
          "text": [
            "                   all        275        653      0.931      0.915      0.954      0.705\n"
          ]
        },
        {
          "output_type": "stream",
          "name": "stderr",
          "text": [
            "\n"
          ]
        },
        {
          "output_type": "stream",
          "name": "stdout",
          "text": [
            "\n",
            "50 epochs completed in 0.267 hours.\n",
            "Optimizer stripped from runs/detect/yolov8_chair/weights/last.pt, 6.2MB\n",
            "Optimizer stripped from runs/detect/yolov8_chair/weights/best.pt, 6.2MB\n",
            "\n",
            "Validating runs/detect/yolov8_chair/weights/best.pt...\n",
            "Ultralytics 8.3.165 🚀 Python-3.11.13 torch-2.6.0+cu124 CUDA:0 (Tesla T4, 15095MiB)\n",
            "Model summary (fused): 72 layers, 3,006,233 parameters, 0 gradients, 8.1 GFLOPs\n"
          ]
        },
        {
          "output_type": "stream",
          "name": "stderr",
          "text": [
            "                 Class     Images  Instances      Box(P          R      mAP50  mAP50-95): 100%|██████████| 9/9 [00:04<00:00,  1.96it/s]\n"
          ]
        },
        {
          "output_type": "stream",
          "name": "stdout",
          "text": [
            "                   all        275        653      0.923      0.924      0.955      0.706\n",
            "                     0        202        332      0.933      0.916      0.959      0.693\n",
            "                     1         63        235      0.872      0.894      0.919      0.652\n",
            "                     2         81         86      0.965      0.961      0.986      0.774\n",
            "Speed: 0.2ms preprocess, 2.2ms inference, 0.0ms loss, 3.1ms postprocess per image\n",
            "Results saved to \u001b[1mruns/detect/yolov8_chair\u001b[0m\n"
          ]
        },
        {
          "output_type": "execute_result",
          "data": {
            "text/plain": [
              "ultralytics.utils.metrics.DetMetrics object with attributes:\n",
              "\n",
              "ap_class_index: array([0, 1, 2])\n",
              "box: ultralytics.utils.metrics.Metric object\n",
              "confusion_matrix: <ultralytics.utils.metrics.ConfusionMatrix object at 0x7a664cedc810>\n",
              "curves: ['Precision-Recall(B)', 'F1-Confidence(B)', 'Precision-Confidence(B)', 'Recall-Confidence(B)']\n",
              "curves_results: [[array([          0,    0.001001,    0.002002,    0.003003,    0.004004,    0.005005,    0.006006,    0.007007,    0.008008,    0.009009,     0.01001,    0.011011,    0.012012,    0.013013,    0.014014,    0.015015,    0.016016,    0.017017,    0.018018,    0.019019,     0.02002,    0.021021,    0.022022,    0.023023,\n",
              "          0.024024,    0.025025,    0.026026,    0.027027,    0.028028,    0.029029,     0.03003,    0.031031,    0.032032,    0.033033,    0.034034,    0.035035,    0.036036,    0.037037,    0.038038,    0.039039,     0.04004,    0.041041,    0.042042,    0.043043,    0.044044,    0.045045,    0.046046,    0.047047,\n",
              "          0.048048,    0.049049,     0.05005,    0.051051,    0.052052,    0.053053,    0.054054,    0.055055,    0.056056,    0.057057,    0.058058,    0.059059,     0.06006,    0.061061,    0.062062,    0.063063,    0.064064,    0.065065,    0.066066,    0.067067,    0.068068,    0.069069,     0.07007,    0.071071,\n",
              "          0.072072,    0.073073,    0.074074,    0.075075,    0.076076,    0.077077,    0.078078,    0.079079,     0.08008,    0.081081,    0.082082,    0.083083,    0.084084,    0.085085,    0.086086,    0.087087,    0.088088,    0.089089,     0.09009,    0.091091,    0.092092,    0.093093,    0.094094,    0.095095,\n",
              "          0.096096,    0.097097,    0.098098,    0.099099,      0.1001,      0.1011,      0.1021,      0.1031,      0.1041,     0.10511,     0.10611,     0.10711,     0.10811,     0.10911,     0.11011,     0.11111,     0.11211,     0.11311,     0.11411,     0.11512,     0.11612,     0.11712,     0.11812,     0.11912,\n",
              "           0.12012,     0.12112,     0.12212,     0.12312,     0.12412,     0.12513,     0.12613,     0.12713,     0.12813,     0.12913,     0.13013,     0.13113,     0.13213,     0.13313,     0.13413,     0.13514,     0.13614,     0.13714,     0.13814,     0.13914,     0.14014,     0.14114,     0.14214,     0.14314,\n",
              "           0.14414,     0.14515,     0.14615,     0.14715,     0.14815,     0.14915,     0.15015,     0.15115,     0.15215,     0.15315,     0.15415,     0.15516,     0.15616,     0.15716,     0.15816,     0.15916,     0.16016,     0.16116,     0.16216,     0.16316,     0.16416,     0.16517,     0.16617,     0.16717,\n",
              "           0.16817,     0.16917,     0.17017,     0.17117,     0.17217,     0.17317,     0.17417,     0.17518,     0.17618,     0.17718,     0.17818,     0.17918,     0.18018,     0.18118,     0.18218,     0.18318,     0.18418,     0.18519,     0.18619,     0.18719,     0.18819,     0.18919,     0.19019,     0.19119,\n",
              "           0.19219,     0.19319,     0.19419,      0.1952,      0.1962,      0.1972,      0.1982,      0.1992,      0.2002,      0.2012,      0.2022,      0.2032,      0.2042,     0.20521,     0.20621,     0.20721,     0.20821,     0.20921,     0.21021,     0.21121,     0.21221,     0.21321,     0.21421,     0.21522,\n",
              "           0.21622,     0.21722,     0.21822,     0.21922,     0.22022,     0.22122,     0.22222,     0.22322,     0.22422,     0.22523,     0.22623,     0.22723,     0.22823,     0.22923,     0.23023,     0.23123,     0.23223,     0.23323,     0.23423,     0.23524,     0.23624,     0.23724,     0.23824,     0.23924,\n",
              "           0.24024,     0.24124,     0.24224,     0.24324,     0.24424,     0.24525,     0.24625,     0.24725,     0.24825,     0.24925,     0.25025,     0.25125,     0.25225,     0.25325,     0.25425,     0.25526,     0.25626,     0.25726,     0.25826,     0.25926,     0.26026,     0.26126,     0.26226,     0.26326,\n",
              "           0.26426,     0.26527,     0.26627,     0.26727,     0.26827,     0.26927,     0.27027,     0.27127,     0.27227,     0.27327,     0.27427,     0.27528,     0.27628,     0.27728,     0.27828,     0.27928,     0.28028,     0.28128,     0.28228,     0.28328,     0.28428,     0.28529,     0.28629,     0.28729,\n",
              "           0.28829,     0.28929,     0.29029,     0.29129,     0.29229,     0.29329,     0.29429,      0.2953,      0.2963,      0.2973,      0.2983,      0.2993,      0.3003,      0.3013,      0.3023,      0.3033,      0.3043,     0.30531,     0.30631,     0.30731,     0.30831,     0.30931,     0.31031,     0.31131,\n",
              "           0.31231,     0.31331,     0.31431,     0.31532,     0.31632,     0.31732,     0.31832,     0.31932,     0.32032,     0.32132,     0.32232,     0.32332,     0.32432,     0.32533,     0.32633,     0.32733,     0.32833,     0.32933,     0.33033,     0.33133,     0.33233,     0.33333,     0.33433,     0.33534,\n",
              "           0.33634,     0.33734,     0.33834,     0.33934,     0.34034,     0.34134,     0.34234,     0.34334,     0.34434,     0.34535,     0.34635,     0.34735,     0.34835,     0.34935,     0.35035,     0.35135,     0.35235,     0.35335,     0.35435,     0.35536,     0.35636,     0.35736,     0.35836,     0.35936,\n",
              "           0.36036,     0.36136,     0.36236,     0.36336,     0.36436,     0.36537,     0.36637,     0.36737,     0.36837,     0.36937,     0.37037,     0.37137,     0.37237,     0.37337,     0.37437,     0.37538,     0.37638,     0.37738,     0.37838,     0.37938,     0.38038,     0.38138,     0.38238,     0.38338,\n",
              "           0.38438,     0.38539,     0.38639,     0.38739,     0.38839,     0.38939,     0.39039,     0.39139,     0.39239,     0.39339,     0.39439,      0.3954,      0.3964,      0.3974,      0.3984,      0.3994,      0.4004,      0.4014,      0.4024,      0.4034,      0.4044,     0.40541,     0.40641,     0.40741,\n",
              "           0.40841,     0.40941,     0.41041,     0.41141,     0.41241,     0.41341,     0.41441,     0.41542,     0.41642,     0.41742,     0.41842,     0.41942,     0.42042,     0.42142,     0.42242,     0.42342,     0.42442,     0.42543,     0.42643,     0.42743,     0.42843,     0.42943,     0.43043,     0.43143,\n",
              "           0.43243,     0.43343,     0.43443,     0.43544,     0.43644,     0.43744,     0.43844,     0.43944,     0.44044,     0.44144,     0.44244,     0.44344,     0.44444,     0.44545,     0.44645,     0.44745,     0.44845,     0.44945,     0.45045,     0.45145,     0.45245,     0.45345,     0.45445,     0.45546,\n",
              "           0.45646,     0.45746,     0.45846,     0.45946,     0.46046,     0.46146,     0.46246,     0.46346,     0.46446,     0.46547,     0.46647,     0.46747,     0.46847,     0.46947,     0.47047,     0.47147,     0.47247,     0.47347,     0.47447,     0.47548,     0.47648,     0.47748,     0.47848,     0.47948,\n",
              "           0.48048,     0.48148,     0.48248,     0.48348,     0.48448,     0.48549,     0.48649,     0.48749,     0.48849,     0.48949,     0.49049,     0.49149,     0.49249,     0.49349,     0.49449,      0.4955,      0.4965,      0.4975,      0.4985,      0.4995,      0.5005,      0.5015,      0.5025,      0.5035,\n",
              "            0.5045,     0.50551,     0.50651,     0.50751,     0.50851,     0.50951,     0.51051,     0.51151,     0.51251,     0.51351,     0.51451,     0.51552,     0.51652,     0.51752,     0.51852,     0.51952,     0.52052,     0.52152,     0.52252,     0.52352,     0.52452,     0.52553,     0.52653,     0.52753,\n",
              "           0.52853,     0.52953,     0.53053,     0.53153,     0.53253,     0.53353,     0.53453,     0.53554,     0.53654,     0.53754,     0.53854,     0.53954,     0.54054,     0.54154,     0.54254,     0.54354,     0.54454,     0.54555,     0.54655,     0.54755,     0.54855,     0.54955,     0.55055,     0.55155,\n",
              "           0.55255,     0.55355,     0.55455,     0.55556,     0.55656,     0.55756,     0.55856,     0.55956,     0.56056,     0.56156,     0.56256,     0.56356,     0.56456,     0.56557,     0.56657,     0.56757,     0.56857,     0.56957,     0.57057,     0.57157,     0.57257,     0.57357,     0.57457,     0.57558,\n",
              "           0.57658,     0.57758,     0.57858,     0.57958,     0.58058,     0.58158,     0.58258,     0.58358,     0.58458,     0.58559,     0.58659,     0.58759,     0.58859,     0.58959,     0.59059,     0.59159,     0.59259,     0.59359,     0.59459,      0.5956,      0.5966,      0.5976,      0.5986,      0.5996,\n",
              "            0.6006,      0.6016,      0.6026,      0.6036,      0.6046,     0.60561,     0.60661,     0.60761,     0.60861,     0.60961,     0.61061,     0.61161,     0.61261,     0.61361,     0.61461,     0.61562,     0.61662,     0.61762,     0.61862,     0.61962,     0.62062,     0.62162,     0.62262,     0.62362,\n",
              "           0.62462,     0.62563,     0.62663,     0.62763,     0.62863,     0.62963,     0.63063,     0.63163,     0.63263,     0.63363,     0.63463,     0.63564,     0.63664,     0.63764,     0.63864,     0.63964,     0.64064,     0.64164,     0.64264,     0.64364,     0.64464,     0.64565,     0.64665,     0.64765,\n",
              "           0.64865,     0.64965,     0.65065,     0.65165,     0.65265,     0.65365,     0.65465,     0.65566,     0.65666,     0.65766,     0.65866,     0.65966,     0.66066,     0.66166,     0.66266,     0.66366,     0.66466,     0.66567,     0.66667,     0.66767,     0.66867,     0.66967,     0.67067,     0.67167,\n",
              "           0.67267,     0.67367,     0.67467,     0.67568,     0.67668,     0.67768,     0.67868,     0.67968,     0.68068,     0.68168,     0.68268,     0.68368,     0.68468,     0.68569,     0.68669,     0.68769,     0.68869,     0.68969,     0.69069,     0.69169,     0.69269,     0.69369,     0.69469,      0.6957,\n",
              "            0.6967,      0.6977,      0.6987,      0.6997,      0.7007,      0.7017,      0.7027,      0.7037,      0.7047,     0.70571,     0.70671,     0.70771,     0.70871,     0.70971,     0.71071,     0.71171,     0.71271,     0.71371,     0.71471,     0.71572,     0.71672,     0.71772,     0.71872,     0.71972,\n",
              "           0.72072,     0.72172,     0.72272,     0.72372,     0.72472,     0.72573,     0.72673,     0.72773,     0.72873,     0.72973,     0.73073,     0.73173,     0.73273,     0.73373,     0.73473,     0.73574,     0.73674,     0.73774,     0.73874,     0.73974,     0.74074,     0.74174,     0.74274,     0.74374,\n",
              "           0.74474,     0.74575,     0.74675,     0.74775,     0.74875,     0.74975,     0.75075,     0.75175,     0.75275,     0.75375,     0.75475,     0.75576,     0.75676,     0.75776,     0.75876,     0.75976,     0.76076,     0.76176,     0.76276,     0.76376,     0.76476,     0.76577,     0.76677,     0.76777,\n",
              "           0.76877,     0.76977,     0.77077,     0.77177,     0.77277,     0.77377,     0.77477,     0.77578,     0.77678,     0.77778,     0.77878,     0.77978,     0.78078,     0.78178,     0.78278,     0.78378,     0.78478,     0.78579,     0.78679,     0.78779,     0.78879,     0.78979,     0.79079,     0.79179,\n",
              "           0.79279,     0.79379,     0.79479,      0.7958,      0.7968,      0.7978,      0.7988,      0.7998,      0.8008,      0.8018,      0.8028,      0.8038,      0.8048,     0.80581,     0.80681,     0.80781,     0.80881,     0.80981,     0.81081,     0.81181,     0.81281,     0.81381,     0.81481,     0.81582,\n",
              "           0.81682,     0.81782,     0.81882,     0.81982,     0.82082,     0.82182,     0.82282,     0.82382,     0.82482,     0.82583,     0.82683,     0.82783,     0.82883,     0.82983,     0.83083,     0.83183,     0.83283,     0.83383,     0.83483,     0.83584,     0.83684,     0.83784,     0.83884,     0.83984,\n",
              "           0.84084,     0.84184,     0.84284,     0.84384,     0.84484,     0.84585,     0.84685,     0.84785,     0.84885,     0.84985,     0.85085,     0.85185,     0.85285,     0.85385,     0.85485,     0.85586,     0.85686,     0.85786,     0.85886,     0.85986,     0.86086,     0.86186,     0.86286,     0.86386,\n",
              "           0.86486,     0.86587,     0.86687,     0.86787,     0.86887,     0.86987,     0.87087,     0.87187,     0.87287,     0.87387,     0.87487,     0.87588,     0.87688,     0.87788,     0.87888,     0.87988,     0.88088,     0.88188,     0.88288,     0.88388,     0.88488,     0.88589,     0.88689,     0.88789,\n",
              "           0.88889,     0.88989,     0.89089,     0.89189,     0.89289,     0.89389,     0.89489,      0.8959,      0.8969,      0.8979,      0.8989,      0.8999,      0.9009,      0.9019,      0.9029,      0.9039,      0.9049,     0.90591,     0.90691,     0.90791,     0.90891,     0.90991,     0.91091,     0.91191,\n",
              "           0.91291,     0.91391,     0.91491,     0.91592,     0.91692,     0.91792,     0.91892,     0.91992,     0.92092,     0.92192,     0.92292,     0.92392,     0.92492,     0.92593,     0.92693,     0.92793,     0.92893,     0.92993,     0.93093,     0.93193,     0.93293,     0.93393,     0.93493,     0.93594,\n",
              "           0.93694,     0.93794,     0.93894,     0.93994,     0.94094,     0.94194,     0.94294,     0.94394,     0.94494,     0.94595,     0.94695,     0.94795,     0.94895,     0.94995,     0.95095,     0.95195,     0.95295,     0.95395,     0.95495,     0.95596,     0.95696,     0.95796,     0.95896,     0.95996,\n",
              "           0.96096,     0.96196,     0.96296,     0.96396,     0.96496,     0.96597,     0.96697,     0.96797,     0.96897,     0.96997,     0.97097,     0.97197,     0.97297,     0.97397,     0.97497,     0.97598,     0.97698,     0.97798,     0.97898,     0.97998,     0.98098,     0.98198,     0.98298,     0.98398,\n",
              "           0.98498,     0.98599,     0.98699,     0.98799,     0.98899,     0.98999,     0.99099,     0.99199,     0.99299,     0.99399,     0.99499,       0.996,       0.997,       0.998,       0.999,           1]), array([[          1,           1,           1, ...,    0.017794,   0.0088969,           0],\n",
              "       [          1,           1,           1, ...,    0.016899,   0.0084494,           0],\n",
              "       [          1,           1,           1, ...,     0.72881,     0.72881,           0]]), 'Recall', 'Precision'], [array([          0,    0.001001,    0.002002,    0.003003,    0.004004,    0.005005,    0.006006,    0.007007,    0.008008,    0.009009,     0.01001,    0.011011,    0.012012,    0.013013,    0.014014,    0.015015,    0.016016,    0.017017,    0.018018,    0.019019,     0.02002,    0.021021,    0.022022,    0.023023,\n",
              "          0.024024,    0.025025,    0.026026,    0.027027,    0.028028,    0.029029,     0.03003,    0.031031,    0.032032,    0.033033,    0.034034,    0.035035,    0.036036,    0.037037,    0.038038,    0.039039,     0.04004,    0.041041,    0.042042,    0.043043,    0.044044,    0.045045,    0.046046,    0.047047,\n",
              "          0.048048,    0.049049,     0.05005,    0.051051,    0.052052,    0.053053,    0.054054,    0.055055,    0.056056,    0.057057,    0.058058,    0.059059,     0.06006,    0.061061,    0.062062,    0.063063,    0.064064,    0.065065,    0.066066,    0.067067,    0.068068,    0.069069,     0.07007,    0.071071,\n",
              "          0.072072,    0.073073,    0.074074,    0.075075,    0.076076,    0.077077,    0.078078,    0.079079,     0.08008,    0.081081,    0.082082,    0.083083,    0.084084,    0.085085,    0.086086,    0.087087,    0.088088,    0.089089,     0.09009,    0.091091,    0.092092,    0.093093,    0.094094,    0.095095,\n",
              "          0.096096,    0.097097,    0.098098,    0.099099,      0.1001,      0.1011,      0.1021,      0.1031,      0.1041,     0.10511,     0.10611,     0.10711,     0.10811,     0.10911,     0.11011,     0.11111,     0.11211,     0.11311,     0.11411,     0.11512,     0.11612,     0.11712,     0.11812,     0.11912,\n",
              "           0.12012,     0.12112,     0.12212,     0.12312,     0.12412,     0.12513,     0.12613,     0.12713,     0.12813,     0.12913,     0.13013,     0.13113,     0.13213,     0.13313,     0.13413,     0.13514,     0.13614,     0.13714,     0.13814,     0.13914,     0.14014,     0.14114,     0.14214,     0.14314,\n",
              "           0.14414,     0.14515,     0.14615,     0.14715,     0.14815,     0.14915,     0.15015,     0.15115,     0.15215,     0.15315,     0.15415,     0.15516,     0.15616,     0.15716,     0.15816,     0.15916,     0.16016,     0.16116,     0.16216,     0.16316,     0.16416,     0.16517,     0.16617,     0.16717,\n",
              "           0.16817,     0.16917,     0.17017,     0.17117,     0.17217,     0.17317,     0.17417,     0.17518,     0.17618,     0.17718,     0.17818,     0.17918,     0.18018,     0.18118,     0.18218,     0.18318,     0.18418,     0.18519,     0.18619,     0.18719,     0.18819,     0.18919,     0.19019,     0.19119,\n",
              "           0.19219,     0.19319,     0.19419,      0.1952,      0.1962,      0.1972,      0.1982,      0.1992,      0.2002,      0.2012,      0.2022,      0.2032,      0.2042,     0.20521,     0.20621,     0.20721,     0.20821,     0.20921,     0.21021,     0.21121,     0.21221,     0.21321,     0.21421,     0.21522,\n",
              "           0.21622,     0.21722,     0.21822,     0.21922,     0.22022,     0.22122,     0.22222,     0.22322,     0.22422,     0.22523,     0.22623,     0.22723,     0.22823,     0.22923,     0.23023,     0.23123,     0.23223,     0.23323,     0.23423,     0.23524,     0.23624,     0.23724,     0.23824,     0.23924,\n",
              "           0.24024,     0.24124,     0.24224,     0.24324,     0.24424,     0.24525,     0.24625,     0.24725,     0.24825,     0.24925,     0.25025,     0.25125,     0.25225,     0.25325,     0.25425,     0.25526,     0.25626,     0.25726,     0.25826,     0.25926,     0.26026,     0.26126,     0.26226,     0.26326,\n",
              "           0.26426,     0.26527,     0.26627,     0.26727,     0.26827,     0.26927,     0.27027,     0.27127,     0.27227,     0.27327,     0.27427,     0.27528,     0.27628,     0.27728,     0.27828,     0.27928,     0.28028,     0.28128,     0.28228,     0.28328,     0.28428,     0.28529,     0.28629,     0.28729,\n",
              "           0.28829,     0.28929,     0.29029,     0.29129,     0.29229,     0.29329,     0.29429,      0.2953,      0.2963,      0.2973,      0.2983,      0.2993,      0.3003,      0.3013,      0.3023,      0.3033,      0.3043,     0.30531,     0.30631,     0.30731,     0.30831,     0.30931,     0.31031,     0.31131,\n",
              "           0.31231,     0.31331,     0.31431,     0.31532,     0.31632,     0.31732,     0.31832,     0.31932,     0.32032,     0.32132,     0.32232,     0.32332,     0.32432,     0.32533,     0.32633,     0.32733,     0.32833,     0.32933,     0.33033,     0.33133,     0.33233,     0.33333,     0.33433,     0.33534,\n",
              "           0.33634,     0.33734,     0.33834,     0.33934,     0.34034,     0.34134,     0.34234,     0.34334,     0.34434,     0.34535,     0.34635,     0.34735,     0.34835,     0.34935,     0.35035,     0.35135,     0.35235,     0.35335,     0.35435,     0.35536,     0.35636,     0.35736,     0.35836,     0.35936,\n",
              "           0.36036,     0.36136,     0.36236,     0.36336,     0.36436,     0.36537,     0.36637,     0.36737,     0.36837,     0.36937,     0.37037,     0.37137,     0.37237,     0.37337,     0.37437,     0.37538,     0.37638,     0.37738,     0.37838,     0.37938,     0.38038,     0.38138,     0.38238,     0.38338,\n",
              "           0.38438,     0.38539,     0.38639,     0.38739,     0.38839,     0.38939,     0.39039,     0.39139,     0.39239,     0.39339,     0.39439,      0.3954,      0.3964,      0.3974,      0.3984,      0.3994,      0.4004,      0.4014,      0.4024,      0.4034,      0.4044,     0.40541,     0.40641,     0.40741,\n",
              "           0.40841,     0.40941,     0.41041,     0.41141,     0.41241,     0.41341,     0.41441,     0.41542,     0.41642,     0.41742,     0.41842,     0.41942,     0.42042,     0.42142,     0.42242,     0.42342,     0.42442,     0.42543,     0.42643,     0.42743,     0.42843,     0.42943,     0.43043,     0.43143,\n",
              "           0.43243,     0.43343,     0.43443,     0.43544,     0.43644,     0.43744,     0.43844,     0.43944,     0.44044,     0.44144,     0.44244,     0.44344,     0.44444,     0.44545,     0.44645,     0.44745,     0.44845,     0.44945,     0.45045,     0.45145,     0.45245,     0.45345,     0.45445,     0.45546,\n",
              "           0.45646,     0.45746,     0.45846,     0.45946,     0.46046,     0.46146,     0.46246,     0.46346,     0.46446,     0.46547,     0.46647,     0.46747,     0.46847,     0.46947,     0.47047,     0.47147,     0.47247,     0.47347,     0.47447,     0.47548,     0.47648,     0.47748,     0.47848,     0.47948,\n",
              "           0.48048,     0.48148,     0.48248,     0.48348,     0.48448,     0.48549,     0.48649,     0.48749,     0.48849,     0.48949,     0.49049,     0.49149,     0.49249,     0.49349,     0.49449,      0.4955,      0.4965,      0.4975,      0.4985,      0.4995,      0.5005,      0.5015,      0.5025,      0.5035,\n",
              "            0.5045,     0.50551,     0.50651,     0.50751,     0.50851,     0.50951,     0.51051,     0.51151,     0.51251,     0.51351,     0.51451,     0.51552,     0.51652,     0.51752,     0.51852,     0.51952,     0.52052,     0.52152,     0.52252,     0.52352,     0.52452,     0.52553,     0.52653,     0.52753,\n",
              "           0.52853,     0.52953,     0.53053,     0.53153,     0.53253,     0.53353,     0.53453,     0.53554,     0.53654,     0.53754,     0.53854,     0.53954,     0.54054,     0.54154,     0.54254,     0.54354,     0.54454,     0.54555,     0.54655,     0.54755,     0.54855,     0.54955,     0.55055,     0.55155,\n",
              "           0.55255,     0.55355,     0.55455,     0.55556,     0.55656,     0.55756,     0.55856,     0.55956,     0.56056,     0.56156,     0.56256,     0.56356,     0.56456,     0.56557,     0.56657,     0.56757,     0.56857,     0.56957,     0.57057,     0.57157,     0.57257,     0.57357,     0.57457,     0.57558,\n",
              "           0.57658,     0.57758,     0.57858,     0.57958,     0.58058,     0.58158,     0.58258,     0.58358,     0.58458,     0.58559,     0.58659,     0.58759,     0.58859,     0.58959,     0.59059,     0.59159,     0.59259,     0.59359,     0.59459,      0.5956,      0.5966,      0.5976,      0.5986,      0.5996,\n",
              "            0.6006,      0.6016,      0.6026,      0.6036,      0.6046,     0.60561,     0.60661,     0.60761,     0.60861,     0.60961,     0.61061,     0.61161,     0.61261,     0.61361,     0.61461,     0.61562,     0.61662,     0.61762,     0.61862,     0.61962,     0.62062,     0.62162,     0.62262,     0.62362,\n",
              "           0.62462,     0.62563,     0.62663,     0.62763,     0.62863,     0.62963,     0.63063,     0.63163,     0.63263,     0.63363,     0.63463,     0.63564,     0.63664,     0.63764,     0.63864,     0.63964,     0.64064,     0.64164,     0.64264,     0.64364,     0.64464,     0.64565,     0.64665,     0.64765,\n",
              "           0.64865,     0.64965,     0.65065,     0.65165,     0.65265,     0.65365,     0.65465,     0.65566,     0.65666,     0.65766,     0.65866,     0.65966,     0.66066,     0.66166,     0.66266,     0.66366,     0.66466,     0.66567,     0.66667,     0.66767,     0.66867,     0.66967,     0.67067,     0.67167,\n",
              "           0.67267,     0.67367,     0.67467,     0.67568,     0.67668,     0.67768,     0.67868,     0.67968,     0.68068,     0.68168,     0.68268,     0.68368,     0.68468,     0.68569,     0.68669,     0.68769,     0.68869,     0.68969,     0.69069,     0.69169,     0.69269,     0.69369,     0.69469,      0.6957,\n",
              "            0.6967,      0.6977,      0.6987,      0.6997,      0.7007,      0.7017,      0.7027,      0.7037,      0.7047,     0.70571,     0.70671,     0.70771,     0.70871,     0.70971,     0.71071,     0.71171,     0.71271,     0.71371,     0.71471,     0.71572,     0.71672,     0.71772,     0.71872,     0.71972,\n",
              "           0.72072,     0.72172,     0.72272,     0.72372,     0.72472,     0.72573,     0.72673,     0.72773,     0.72873,     0.72973,     0.73073,     0.73173,     0.73273,     0.73373,     0.73473,     0.73574,     0.73674,     0.73774,     0.73874,     0.73974,     0.74074,     0.74174,     0.74274,     0.74374,\n",
              "           0.74474,     0.74575,     0.74675,     0.74775,     0.74875,     0.74975,     0.75075,     0.75175,     0.75275,     0.75375,     0.75475,     0.75576,     0.75676,     0.75776,     0.75876,     0.75976,     0.76076,     0.76176,     0.76276,     0.76376,     0.76476,     0.76577,     0.76677,     0.76777,\n",
              "           0.76877,     0.76977,     0.77077,     0.77177,     0.77277,     0.77377,     0.77477,     0.77578,     0.77678,     0.77778,     0.77878,     0.77978,     0.78078,     0.78178,     0.78278,     0.78378,     0.78478,     0.78579,     0.78679,     0.78779,     0.78879,     0.78979,     0.79079,     0.79179,\n",
              "           0.79279,     0.79379,     0.79479,      0.7958,      0.7968,      0.7978,      0.7988,      0.7998,      0.8008,      0.8018,      0.8028,      0.8038,      0.8048,     0.80581,     0.80681,     0.80781,     0.80881,     0.80981,     0.81081,     0.81181,     0.81281,     0.81381,     0.81481,     0.81582,\n",
              "           0.81682,     0.81782,     0.81882,     0.81982,     0.82082,     0.82182,     0.82282,     0.82382,     0.82482,     0.82583,     0.82683,     0.82783,     0.82883,     0.82983,     0.83083,     0.83183,     0.83283,     0.83383,     0.83483,     0.83584,     0.83684,     0.83784,     0.83884,     0.83984,\n",
              "           0.84084,     0.84184,     0.84284,     0.84384,     0.84484,     0.84585,     0.84685,     0.84785,     0.84885,     0.84985,     0.85085,     0.85185,     0.85285,     0.85385,     0.85485,     0.85586,     0.85686,     0.85786,     0.85886,     0.85986,     0.86086,     0.86186,     0.86286,     0.86386,\n",
              "           0.86486,     0.86587,     0.86687,     0.86787,     0.86887,     0.86987,     0.87087,     0.87187,     0.87287,     0.87387,     0.87487,     0.87588,     0.87688,     0.87788,     0.87888,     0.87988,     0.88088,     0.88188,     0.88288,     0.88388,     0.88488,     0.88589,     0.88689,     0.88789,\n",
              "           0.88889,     0.88989,     0.89089,     0.89189,     0.89289,     0.89389,     0.89489,      0.8959,      0.8969,      0.8979,      0.8989,      0.8999,      0.9009,      0.9019,      0.9029,      0.9039,      0.9049,     0.90591,     0.90691,     0.90791,     0.90891,     0.90991,     0.91091,     0.91191,\n",
              "           0.91291,     0.91391,     0.91491,     0.91592,     0.91692,     0.91792,     0.91892,     0.91992,     0.92092,     0.92192,     0.92292,     0.92392,     0.92492,     0.92593,     0.92693,     0.92793,     0.92893,     0.92993,     0.93093,     0.93193,     0.93293,     0.93393,     0.93493,     0.93594,\n",
              "           0.93694,     0.93794,     0.93894,     0.93994,     0.94094,     0.94194,     0.94294,     0.94394,     0.94494,     0.94595,     0.94695,     0.94795,     0.94895,     0.94995,     0.95095,     0.95195,     0.95295,     0.95395,     0.95495,     0.95596,     0.95696,     0.95796,     0.95896,     0.95996,\n",
              "           0.96096,     0.96196,     0.96296,     0.96396,     0.96496,     0.96597,     0.96697,     0.96797,     0.96897,     0.96997,     0.97097,     0.97197,     0.97297,     0.97397,     0.97497,     0.97598,     0.97698,     0.97798,     0.97898,     0.97998,     0.98098,     0.98198,     0.98298,     0.98398,\n",
              "           0.98498,     0.98599,     0.98699,     0.98799,     0.98899,     0.98999,     0.99099,     0.99199,     0.99299,     0.99399,     0.99499,       0.996,       0.997,       0.998,       0.999,           1]), array([[    0.19323,     0.19323,     0.33657, ...,           0,           0,           0],\n",
              "       [     0.1943,      0.1943,     0.30037, ...,           0,           0,           0],\n",
              "       [    0.27967,     0.27967,     0.47633, ...,           0,           0,           0]]), 'Confidence', 'F1'], [array([          0,    0.001001,    0.002002,    0.003003,    0.004004,    0.005005,    0.006006,    0.007007,    0.008008,    0.009009,     0.01001,    0.011011,    0.012012,    0.013013,    0.014014,    0.015015,    0.016016,    0.017017,    0.018018,    0.019019,     0.02002,    0.021021,    0.022022,    0.023023,\n",
              "          0.024024,    0.025025,    0.026026,    0.027027,    0.028028,    0.029029,     0.03003,    0.031031,    0.032032,    0.033033,    0.034034,    0.035035,    0.036036,    0.037037,    0.038038,    0.039039,     0.04004,    0.041041,    0.042042,    0.043043,    0.044044,    0.045045,    0.046046,    0.047047,\n",
              "          0.048048,    0.049049,     0.05005,    0.051051,    0.052052,    0.053053,    0.054054,    0.055055,    0.056056,    0.057057,    0.058058,    0.059059,     0.06006,    0.061061,    0.062062,    0.063063,    0.064064,    0.065065,    0.066066,    0.067067,    0.068068,    0.069069,     0.07007,    0.071071,\n",
              "          0.072072,    0.073073,    0.074074,    0.075075,    0.076076,    0.077077,    0.078078,    0.079079,     0.08008,    0.081081,    0.082082,    0.083083,    0.084084,    0.085085,    0.086086,    0.087087,    0.088088,    0.089089,     0.09009,    0.091091,    0.092092,    0.093093,    0.094094,    0.095095,\n",
              "          0.096096,    0.097097,    0.098098,    0.099099,      0.1001,      0.1011,      0.1021,      0.1031,      0.1041,     0.10511,     0.10611,     0.10711,     0.10811,     0.10911,     0.11011,     0.11111,     0.11211,     0.11311,     0.11411,     0.11512,     0.11612,     0.11712,     0.11812,     0.11912,\n",
              "           0.12012,     0.12112,     0.12212,     0.12312,     0.12412,     0.12513,     0.12613,     0.12713,     0.12813,     0.12913,     0.13013,     0.13113,     0.13213,     0.13313,     0.13413,     0.13514,     0.13614,     0.13714,     0.13814,     0.13914,     0.14014,     0.14114,     0.14214,     0.14314,\n",
              "           0.14414,     0.14515,     0.14615,     0.14715,     0.14815,     0.14915,     0.15015,     0.15115,     0.15215,     0.15315,     0.15415,     0.15516,     0.15616,     0.15716,     0.15816,     0.15916,     0.16016,     0.16116,     0.16216,     0.16316,     0.16416,     0.16517,     0.16617,     0.16717,\n",
              "           0.16817,     0.16917,     0.17017,     0.17117,     0.17217,     0.17317,     0.17417,     0.17518,     0.17618,     0.17718,     0.17818,     0.17918,     0.18018,     0.18118,     0.18218,     0.18318,     0.18418,     0.18519,     0.18619,     0.18719,     0.18819,     0.18919,     0.19019,     0.19119,\n",
              "           0.19219,     0.19319,     0.19419,      0.1952,      0.1962,      0.1972,      0.1982,      0.1992,      0.2002,      0.2012,      0.2022,      0.2032,      0.2042,     0.20521,     0.20621,     0.20721,     0.20821,     0.20921,     0.21021,     0.21121,     0.21221,     0.21321,     0.21421,     0.21522,\n",
              "           0.21622,     0.21722,     0.21822,     0.21922,     0.22022,     0.22122,     0.22222,     0.22322,     0.22422,     0.22523,     0.22623,     0.22723,     0.22823,     0.22923,     0.23023,     0.23123,     0.23223,     0.23323,     0.23423,     0.23524,     0.23624,     0.23724,     0.23824,     0.23924,\n",
              "           0.24024,     0.24124,     0.24224,     0.24324,     0.24424,     0.24525,     0.24625,     0.24725,     0.24825,     0.24925,     0.25025,     0.25125,     0.25225,     0.25325,     0.25425,     0.25526,     0.25626,     0.25726,     0.25826,     0.25926,     0.26026,     0.26126,     0.26226,     0.26326,\n",
              "           0.26426,     0.26527,     0.26627,     0.26727,     0.26827,     0.26927,     0.27027,     0.27127,     0.27227,     0.27327,     0.27427,     0.27528,     0.27628,     0.27728,     0.27828,     0.27928,     0.28028,     0.28128,     0.28228,     0.28328,     0.28428,     0.28529,     0.28629,     0.28729,\n",
              "           0.28829,     0.28929,     0.29029,     0.29129,     0.29229,     0.29329,     0.29429,      0.2953,      0.2963,      0.2973,      0.2983,      0.2993,      0.3003,      0.3013,      0.3023,      0.3033,      0.3043,     0.30531,     0.30631,     0.30731,     0.30831,     0.30931,     0.31031,     0.31131,\n",
              "           0.31231,     0.31331,     0.31431,     0.31532,     0.31632,     0.31732,     0.31832,     0.31932,     0.32032,     0.32132,     0.32232,     0.32332,     0.32432,     0.32533,     0.32633,     0.32733,     0.32833,     0.32933,     0.33033,     0.33133,     0.33233,     0.33333,     0.33433,     0.33534,\n",
              "           0.33634,     0.33734,     0.33834,     0.33934,     0.34034,     0.34134,     0.34234,     0.34334,     0.34434,     0.34535,     0.34635,     0.34735,     0.34835,     0.34935,     0.35035,     0.35135,     0.35235,     0.35335,     0.35435,     0.35536,     0.35636,     0.35736,     0.35836,     0.35936,\n",
              "           0.36036,     0.36136,     0.36236,     0.36336,     0.36436,     0.36537,     0.36637,     0.36737,     0.36837,     0.36937,     0.37037,     0.37137,     0.37237,     0.37337,     0.37437,     0.37538,     0.37638,     0.37738,     0.37838,     0.37938,     0.38038,     0.38138,     0.38238,     0.38338,\n",
              "           0.38438,     0.38539,     0.38639,     0.38739,     0.38839,     0.38939,     0.39039,     0.39139,     0.39239,     0.39339,     0.39439,      0.3954,      0.3964,      0.3974,      0.3984,      0.3994,      0.4004,      0.4014,      0.4024,      0.4034,      0.4044,     0.40541,     0.40641,     0.40741,\n",
              "           0.40841,     0.40941,     0.41041,     0.41141,     0.41241,     0.41341,     0.41441,     0.41542,     0.41642,     0.41742,     0.41842,     0.41942,     0.42042,     0.42142,     0.42242,     0.42342,     0.42442,     0.42543,     0.42643,     0.42743,     0.42843,     0.42943,     0.43043,     0.43143,\n",
              "           0.43243,     0.43343,     0.43443,     0.43544,     0.43644,     0.43744,     0.43844,     0.43944,     0.44044,     0.44144,     0.44244,     0.44344,     0.44444,     0.44545,     0.44645,     0.44745,     0.44845,     0.44945,     0.45045,     0.45145,     0.45245,     0.45345,     0.45445,     0.45546,\n",
              "           0.45646,     0.45746,     0.45846,     0.45946,     0.46046,     0.46146,     0.46246,     0.46346,     0.46446,     0.46547,     0.46647,     0.46747,     0.46847,     0.46947,     0.47047,     0.47147,     0.47247,     0.47347,     0.47447,     0.47548,     0.47648,     0.47748,     0.47848,     0.47948,\n",
              "           0.48048,     0.48148,     0.48248,     0.48348,     0.48448,     0.48549,     0.48649,     0.48749,     0.48849,     0.48949,     0.49049,     0.49149,     0.49249,     0.49349,     0.49449,      0.4955,      0.4965,      0.4975,      0.4985,      0.4995,      0.5005,      0.5015,      0.5025,      0.5035,\n",
              "            0.5045,     0.50551,     0.50651,     0.50751,     0.50851,     0.50951,     0.51051,     0.51151,     0.51251,     0.51351,     0.51451,     0.51552,     0.51652,     0.51752,     0.51852,     0.51952,     0.52052,     0.52152,     0.52252,     0.52352,     0.52452,     0.52553,     0.52653,     0.52753,\n",
              "           0.52853,     0.52953,     0.53053,     0.53153,     0.53253,     0.53353,     0.53453,     0.53554,     0.53654,     0.53754,     0.53854,     0.53954,     0.54054,     0.54154,     0.54254,     0.54354,     0.54454,     0.54555,     0.54655,     0.54755,     0.54855,     0.54955,     0.55055,     0.55155,\n",
              "           0.55255,     0.55355,     0.55455,     0.55556,     0.55656,     0.55756,     0.55856,     0.55956,     0.56056,     0.56156,     0.56256,     0.56356,     0.56456,     0.56557,     0.56657,     0.56757,     0.56857,     0.56957,     0.57057,     0.57157,     0.57257,     0.57357,     0.57457,     0.57558,\n",
              "           0.57658,     0.57758,     0.57858,     0.57958,     0.58058,     0.58158,     0.58258,     0.58358,     0.58458,     0.58559,     0.58659,     0.58759,     0.58859,     0.58959,     0.59059,     0.59159,     0.59259,     0.59359,     0.59459,      0.5956,      0.5966,      0.5976,      0.5986,      0.5996,\n",
              "            0.6006,      0.6016,      0.6026,      0.6036,      0.6046,     0.60561,     0.60661,     0.60761,     0.60861,     0.60961,     0.61061,     0.61161,     0.61261,     0.61361,     0.61461,     0.61562,     0.61662,     0.61762,     0.61862,     0.61962,     0.62062,     0.62162,     0.62262,     0.62362,\n",
              "           0.62462,     0.62563,     0.62663,     0.62763,     0.62863,     0.62963,     0.63063,     0.63163,     0.63263,     0.63363,     0.63463,     0.63564,     0.63664,     0.63764,     0.63864,     0.63964,     0.64064,     0.64164,     0.64264,     0.64364,     0.64464,     0.64565,     0.64665,     0.64765,\n",
              "           0.64865,     0.64965,     0.65065,     0.65165,     0.65265,     0.65365,     0.65465,     0.65566,     0.65666,     0.65766,     0.65866,     0.65966,     0.66066,     0.66166,     0.66266,     0.66366,     0.66466,     0.66567,     0.66667,     0.66767,     0.66867,     0.66967,     0.67067,     0.67167,\n",
              "           0.67267,     0.67367,     0.67467,     0.67568,     0.67668,     0.67768,     0.67868,     0.67968,     0.68068,     0.68168,     0.68268,     0.68368,     0.68468,     0.68569,     0.68669,     0.68769,     0.68869,     0.68969,     0.69069,     0.69169,     0.69269,     0.69369,     0.69469,      0.6957,\n",
              "            0.6967,      0.6977,      0.6987,      0.6997,      0.7007,      0.7017,      0.7027,      0.7037,      0.7047,     0.70571,     0.70671,     0.70771,     0.70871,     0.70971,     0.71071,     0.71171,     0.71271,     0.71371,     0.71471,     0.71572,     0.71672,     0.71772,     0.71872,     0.71972,\n",
              "           0.72072,     0.72172,     0.72272,     0.72372,     0.72472,     0.72573,     0.72673,     0.72773,     0.72873,     0.72973,     0.73073,     0.73173,     0.73273,     0.73373,     0.73473,     0.73574,     0.73674,     0.73774,     0.73874,     0.73974,     0.74074,     0.74174,     0.74274,     0.74374,\n",
              "           0.74474,     0.74575,     0.74675,     0.74775,     0.74875,     0.74975,     0.75075,     0.75175,     0.75275,     0.75375,     0.75475,     0.75576,     0.75676,     0.75776,     0.75876,     0.75976,     0.76076,     0.76176,     0.76276,     0.76376,     0.76476,     0.76577,     0.76677,     0.76777,\n",
              "           0.76877,     0.76977,     0.77077,     0.77177,     0.77277,     0.77377,     0.77477,     0.77578,     0.77678,     0.77778,     0.77878,     0.77978,     0.78078,     0.78178,     0.78278,     0.78378,     0.78478,     0.78579,     0.78679,     0.78779,     0.78879,     0.78979,     0.79079,     0.79179,\n",
              "           0.79279,     0.79379,     0.79479,      0.7958,      0.7968,      0.7978,      0.7988,      0.7998,      0.8008,      0.8018,      0.8028,      0.8038,      0.8048,     0.80581,     0.80681,     0.80781,     0.80881,     0.80981,     0.81081,     0.81181,     0.81281,     0.81381,     0.81481,     0.81582,\n",
              "           0.81682,     0.81782,     0.81882,     0.81982,     0.82082,     0.82182,     0.82282,     0.82382,     0.82482,     0.82583,     0.82683,     0.82783,     0.82883,     0.82983,     0.83083,     0.83183,     0.83283,     0.83383,     0.83483,     0.83584,     0.83684,     0.83784,     0.83884,     0.83984,\n",
              "           0.84084,     0.84184,     0.84284,     0.84384,     0.84484,     0.84585,     0.84685,     0.84785,     0.84885,     0.84985,     0.85085,     0.85185,     0.85285,     0.85385,     0.85485,     0.85586,     0.85686,     0.85786,     0.85886,     0.85986,     0.86086,     0.86186,     0.86286,     0.86386,\n",
              "           0.86486,     0.86587,     0.86687,     0.86787,     0.86887,     0.86987,     0.87087,     0.87187,     0.87287,     0.87387,     0.87487,     0.87588,     0.87688,     0.87788,     0.87888,     0.87988,     0.88088,     0.88188,     0.88288,     0.88388,     0.88488,     0.88589,     0.88689,     0.88789,\n",
              "           0.88889,     0.88989,     0.89089,     0.89189,     0.89289,     0.89389,     0.89489,      0.8959,      0.8969,      0.8979,      0.8989,      0.8999,      0.9009,      0.9019,      0.9029,      0.9039,      0.9049,     0.90591,     0.90691,     0.90791,     0.90891,     0.90991,     0.91091,     0.91191,\n",
              "           0.91291,     0.91391,     0.91491,     0.91592,     0.91692,     0.91792,     0.91892,     0.91992,     0.92092,     0.92192,     0.92292,     0.92392,     0.92492,     0.92593,     0.92693,     0.92793,     0.92893,     0.92993,     0.93093,     0.93193,     0.93293,     0.93393,     0.93493,     0.93594,\n",
              "           0.93694,     0.93794,     0.93894,     0.93994,     0.94094,     0.94194,     0.94294,     0.94394,     0.94494,     0.94595,     0.94695,     0.94795,     0.94895,     0.94995,     0.95095,     0.95195,     0.95295,     0.95395,     0.95495,     0.95596,     0.95696,     0.95796,     0.95896,     0.95996,\n",
              "           0.96096,     0.96196,     0.96296,     0.96396,     0.96496,     0.96597,     0.96697,     0.96797,     0.96897,     0.96997,     0.97097,     0.97197,     0.97297,     0.97397,     0.97497,     0.97598,     0.97698,     0.97798,     0.97898,     0.97998,     0.98098,     0.98198,     0.98298,     0.98398,\n",
              "           0.98498,     0.98599,     0.98699,     0.98799,     0.98899,     0.98999,     0.99099,     0.99199,     0.99299,     0.99399,     0.99499,       0.996,       0.997,       0.998,       0.999,           1]), array([[    0.10708,     0.10708,     0.20283, ...,           1,           1,           1],\n",
              "       [    0.10776,     0.10776,     0.17727, ...,           1,           1,           1],\n",
              "       [    0.16257,     0.16257,     0.31262, ...,           1,           1,           1]]), 'Confidence', 'Precision'], [array([          0,    0.001001,    0.002002,    0.003003,    0.004004,    0.005005,    0.006006,    0.007007,    0.008008,    0.009009,     0.01001,    0.011011,    0.012012,    0.013013,    0.014014,    0.015015,    0.016016,    0.017017,    0.018018,    0.019019,     0.02002,    0.021021,    0.022022,    0.023023,\n",
              "          0.024024,    0.025025,    0.026026,    0.027027,    0.028028,    0.029029,     0.03003,    0.031031,    0.032032,    0.033033,    0.034034,    0.035035,    0.036036,    0.037037,    0.038038,    0.039039,     0.04004,    0.041041,    0.042042,    0.043043,    0.044044,    0.045045,    0.046046,    0.047047,\n",
              "          0.048048,    0.049049,     0.05005,    0.051051,    0.052052,    0.053053,    0.054054,    0.055055,    0.056056,    0.057057,    0.058058,    0.059059,     0.06006,    0.061061,    0.062062,    0.063063,    0.064064,    0.065065,    0.066066,    0.067067,    0.068068,    0.069069,     0.07007,    0.071071,\n",
              "          0.072072,    0.073073,    0.074074,    0.075075,    0.076076,    0.077077,    0.078078,    0.079079,     0.08008,    0.081081,    0.082082,    0.083083,    0.084084,    0.085085,    0.086086,    0.087087,    0.088088,    0.089089,     0.09009,    0.091091,    0.092092,    0.093093,    0.094094,    0.095095,\n",
              "          0.096096,    0.097097,    0.098098,    0.099099,      0.1001,      0.1011,      0.1021,      0.1031,      0.1041,     0.10511,     0.10611,     0.10711,     0.10811,     0.10911,     0.11011,     0.11111,     0.11211,     0.11311,     0.11411,     0.11512,     0.11612,     0.11712,     0.11812,     0.11912,\n",
              "           0.12012,     0.12112,     0.12212,     0.12312,     0.12412,     0.12513,     0.12613,     0.12713,     0.12813,     0.12913,     0.13013,     0.13113,     0.13213,     0.13313,     0.13413,     0.13514,     0.13614,     0.13714,     0.13814,     0.13914,     0.14014,     0.14114,     0.14214,     0.14314,\n",
              "           0.14414,     0.14515,     0.14615,     0.14715,     0.14815,     0.14915,     0.15015,     0.15115,     0.15215,     0.15315,     0.15415,     0.15516,     0.15616,     0.15716,     0.15816,     0.15916,     0.16016,     0.16116,     0.16216,     0.16316,     0.16416,     0.16517,     0.16617,     0.16717,\n",
              "           0.16817,     0.16917,     0.17017,     0.17117,     0.17217,     0.17317,     0.17417,     0.17518,     0.17618,     0.17718,     0.17818,     0.17918,     0.18018,     0.18118,     0.18218,     0.18318,     0.18418,     0.18519,     0.18619,     0.18719,     0.18819,     0.18919,     0.19019,     0.19119,\n",
              "           0.19219,     0.19319,     0.19419,      0.1952,      0.1962,      0.1972,      0.1982,      0.1992,      0.2002,      0.2012,      0.2022,      0.2032,      0.2042,     0.20521,     0.20621,     0.20721,     0.20821,     0.20921,     0.21021,     0.21121,     0.21221,     0.21321,     0.21421,     0.21522,\n",
              "           0.21622,     0.21722,     0.21822,     0.21922,     0.22022,     0.22122,     0.22222,     0.22322,     0.22422,     0.22523,     0.22623,     0.22723,     0.22823,     0.22923,     0.23023,     0.23123,     0.23223,     0.23323,     0.23423,     0.23524,     0.23624,     0.23724,     0.23824,     0.23924,\n",
              "           0.24024,     0.24124,     0.24224,     0.24324,     0.24424,     0.24525,     0.24625,     0.24725,     0.24825,     0.24925,     0.25025,     0.25125,     0.25225,     0.25325,     0.25425,     0.25526,     0.25626,     0.25726,     0.25826,     0.25926,     0.26026,     0.26126,     0.26226,     0.26326,\n",
              "           0.26426,     0.26527,     0.26627,     0.26727,     0.26827,     0.26927,     0.27027,     0.27127,     0.27227,     0.27327,     0.27427,     0.27528,     0.27628,     0.27728,     0.27828,     0.27928,     0.28028,     0.28128,     0.28228,     0.28328,     0.28428,     0.28529,     0.28629,     0.28729,\n",
              "           0.28829,     0.28929,     0.29029,     0.29129,     0.29229,     0.29329,     0.29429,      0.2953,      0.2963,      0.2973,      0.2983,      0.2993,      0.3003,      0.3013,      0.3023,      0.3033,      0.3043,     0.30531,     0.30631,     0.30731,     0.30831,     0.30931,     0.31031,     0.31131,\n",
              "           0.31231,     0.31331,     0.31431,     0.31532,     0.31632,     0.31732,     0.31832,     0.31932,     0.32032,     0.32132,     0.32232,     0.32332,     0.32432,     0.32533,     0.32633,     0.32733,     0.32833,     0.32933,     0.33033,     0.33133,     0.33233,     0.33333,     0.33433,     0.33534,\n",
              "           0.33634,     0.33734,     0.33834,     0.33934,     0.34034,     0.34134,     0.34234,     0.34334,     0.34434,     0.34535,     0.34635,     0.34735,     0.34835,     0.34935,     0.35035,     0.35135,     0.35235,     0.35335,     0.35435,     0.35536,     0.35636,     0.35736,     0.35836,     0.35936,\n",
              "           0.36036,     0.36136,     0.36236,     0.36336,     0.36436,     0.36537,     0.36637,     0.36737,     0.36837,     0.36937,     0.37037,     0.37137,     0.37237,     0.37337,     0.37437,     0.37538,     0.37638,     0.37738,     0.37838,     0.37938,     0.38038,     0.38138,     0.38238,     0.38338,\n",
              "           0.38438,     0.38539,     0.38639,     0.38739,     0.38839,     0.38939,     0.39039,     0.39139,     0.39239,     0.39339,     0.39439,      0.3954,      0.3964,      0.3974,      0.3984,      0.3994,      0.4004,      0.4014,      0.4024,      0.4034,      0.4044,     0.40541,     0.40641,     0.40741,\n",
              "           0.40841,     0.40941,     0.41041,     0.41141,     0.41241,     0.41341,     0.41441,     0.41542,     0.41642,     0.41742,     0.41842,     0.41942,     0.42042,     0.42142,     0.42242,     0.42342,     0.42442,     0.42543,     0.42643,     0.42743,     0.42843,     0.42943,     0.43043,     0.43143,\n",
              "           0.43243,     0.43343,     0.43443,     0.43544,     0.43644,     0.43744,     0.43844,     0.43944,     0.44044,     0.44144,     0.44244,     0.44344,     0.44444,     0.44545,     0.44645,     0.44745,     0.44845,     0.44945,     0.45045,     0.45145,     0.45245,     0.45345,     0.45445,     0.45546,\n",
              "           0.45646,     0.45746,     0.45846,     0.45946,     0.46046,     0.46146,     0.46246,     0.46346,     0.46446,     0.46547,     0.46647,     0.46747,     0.46847,     0.46947,     0.47047,     0.47147,     0.47247,     0.47347,     0.47447,     0.47548,     0.47648,     0.47748,     0.47848,     0.47948,\n",
              "           0.48048,     0.48148,     0.48248,     0.48348,     0.48448,     0.48549,     0.48649,     0.48749,     0.48849,     0.48949,     0.49049,     0.49149,     0.49249,     0.49349,     0.49449,      0.4955,      0.4965,      0.4975,      0.4985,      0.4995,      0.5005,      0.5015,      0.5025,      0.5035,\n",
              "            0.5045,     0.50551,     0.50651,     0.50751,     0.50851,     0.50951,     0.51051,     0.51151,     0.51251,     0.51351,     0.51451,     0.51552,     0.51652,     0.51752,     0.51852,     0.51952,     0.52052,     0.52152,     0.52252,     0.52352,     0.52452,     0.52553,     0.52653,     0.52753,\n",
              "           0.52853,     0.52953,     0.53053,     0.53153,     0.53253,     0.53353,     0.53453,     0.53554,     0.53654,     0.53754,     0.53854,     0.53954,     0.54054,     0.54154,     0.54254,     0.54354,     0.54454,     0.54555,     0.54655,     0.54755,     0.54855,     0.54955,     0.55055,     0.55155,\n",
              "           0.55255,     0.55355,     0.55455,     0.55556,     0.55656,     0.55756,     0.55856,     0.55956,     0.56056,     0.56156,     0.56256,     0.56356,     0.56456,     0.56557,     0.56657,     0.56757,     0.56857,     0.56957,     0.57057,     0.57157,     0.57257,     0.57357,     0.57457,     0.57558,\n",
              "           0.57658,     0.57758,     0.57858,     0.57958,     0.58058,     0.58158,     0.58258,     0.58358,     0.58458,     0.58559,     0.58659,     0.58759,     0.58859,     0.58959,     0.59059,     0.59159,     0.59259,     0.59359,     0.59459,      0.5956,      0.5966,      0.5976,      0.5986,      0.5996,\n",
              "            0.6006,      0.6016,      0.6026,      0.6036,      0.6046,     0.60561,     0.60661,     0.60761,     0.60861,     0.60961,     0.61061,     0.61161,     0.61261,     0.61361,     0.61461,     0.61562,     0.61662,     0.61762,     0.61862,     0.61962,     0.62062,     0.62162,     0.62262,     0.62362,\n",
              "           0.62462,     0.62563,     0.62663,     0.62763,     0.62863,     0.62963,     0.63063,     0.63163,     0.63263,     0.63363,     0.63463,     0.63564,     0.63664,     0.63764,     0.63864,     0.63964,     0.64064,     0.64164,     0.64264,     0.64364,     0.64464,     0.64565,     0.64665,     0.64765,\n",
              "           0.64865,     0.64965,     0.65065,     0.65165,     0.65265,     0.65365,     0.65465,     0.65566,     0.65666,     0.65766,     0.65866,     0.65966,     0.66066,     0.66166,     0.66266,     0.66366,     0.66466,     0.66567,     0.66667,     0.66767,     0.66867,     0.66967,     0.67067,     0.67167,\n",
              "           0.67267,     0.67367,     0.67467,     0.67568,     0.67668,     0.67768,     0.67868,     0.67968,     0.68068,     0.68168,     0.68268,     0.68368,     0.68468,     0.68569,     0.68669,     0.68769,     0.68869,     0.68969,     0.69069,     0.69169,     0.69269,     0.69369,     0.69469,      0.6957,\n",
              "            0.6967,      0.6977,      0.6987,      0.6997,      0.7007,      0.7017,      0.7027,      0.7037,      0.7047,     0.70571,     0.70671,     0.70771,     0.70871,     0.70971,     0.71071,     0.71171,     0.71271,     0.71371,     0.71471,     0.71572,     0.71672,     0.71772,     0.71872,     0.71972,\n",
              "           0.72072,     0.72172,     0.72272,     0.72372,     0.72472,     0.72573,     0.72673,     0.72773,     0.72873,     0.72973,     0.73073,     0.73173,     0.73273,     0.73373,     0.73473,     0.73574,     0.73674,     0.73774,     0.73874,     0.73974,     0.74074,     0.74174,     0.74274,     0.74374,\n",
              "           0.74474,     0.74575,     0.74675,     0.74775,     0.74875,     0.74975,     0.75075,     0.75175,     0.75275,     0.75375,     0.75475,     0.75576,     0.75676,     0.75776,     0.75876,     0.75976,     0.76076,     0.76176,     0.76276,     0.76376,     0.76476,     0.76577,     0.76677,     0.76777,\n",
              "           0.76877,     0.76977,     0.77077,     0.77177,     0.77277,     0.77377,     0.77477,     0.77578,     0.77678,     0.77778,     0.77878,     0.77978,     0.78078,     0.78178,     0.78278,     0.78378,     0.78478,     0.78579,     0.78679,     0.78779,     0.78879,     0.78979,     0.79079,     0.79179,\n",
              "           0.79279,     0.79379,     0.79479,      0.7958,      0.7968,      0.7978,      0.7988,      0.7998,      0.8008,      0.8018,      0.8028,      0.8038,      0.8048,     0.80581,     0.80681,     0.80781,     0.80881,     0.80981,     0.81081,     0.81181,     0.81281,     0.81381,     0.81481,     0.81582,\n",
              "           0.81682,     0.81782,     0.81882,     0.81982,     0.82082,     0.82182,     0.82282,     0.82382,     0.82482,     0.82583,     0.82683,     0.82783,     0.82883,     0.82983,     0.83083,     0.83183,     0.83283,     0.83383,     0.83483,     0.83584,     0.83684,     0.83784,     0.83884,     0.83984,\n",
              "           0.84084,     0.84184,     0.84284,     0.84384,     0.84484,     0.84585,     0.84685,     0.84785,     0.84885,     0.84985,     0.85085,     0.85185,     0.85285,     0.85385,     0.85485,     0.85586,     0.85686,     0.85786,     0.85886,     0.85986,     0.86086,     0.86186,     0.86286,     0.86386,\n",
              "           0.86486,     0.86587,     0.86687,     0.86787,     0.86887,     0.86987,     0.87087,     0.87187,     0.87287,     0.87387,     0.87487,     0.87588,     0.87688,     0.87788,     0.87888,     0.87988,     0.88088,     0.88188,     0.88288,     0.88388,     0.88488,     0.88589,     0.88689,     0.88789,\n",
              "           0.88889,     0.88989,     0.89089,     0.89189,     0.89289,     0.89389,     0.89489,      0.8959,      0.8969,      0.8979,      0.8989,      0.8999,      0.9009,      0.9019,      0.9029,      0.9039,      0.9049,     0.90591,     0.90691,     0.90791,     0.90891,     0.90991,     0.91091,     0.91191,\n",
              "           0.91291,     0.91391,     0.91491,     0.91592,     0.91692,     0.91792,     0.91892,     0.91992,     0.92092,     0.92192,     0.92292,     0.92392,     0.92492,     0.92593,     0.92693,     0.92793,     0.92893,     0.92993,     0.93093,     0.93193,     0.93293,     0.93393,     0.93493,     0.93594,\n",
              "           0.93694,     0.93794,     0.93894,     0.93994,     0.94094,     0.94194,     0.94294,     0.94394,     0.94494,     0.94595,     0.94695,     0.94795,     0.94895,     0.94995,     0.95095,     0.95195,     0.95295,     0.95395,     0.95495,     0.95596,     0.95696,     0.95796,     0.95896,     0.95996,\n",
              "           0.96096,     0.96196,     0.96296,     0.96396,     0.96496,     0.96597,     0.96697,     0.96797,     0.96897,     0.96997,     0.97097,     0.97197,     0.97297,     0.97397,     0.97497,     0.97598,     0.97698,     0.97798,     0.97898,     0.97998,     0.98098,     0.98198,     0.98298,     0.98398,\n",
              "           0.98498,     0.98599,     0.98699,     0.98799,     0.98899,     0.98999,     0.99099,     0.99199,     0.99299,     0.99399,     0.99499,       0.996,       0.997,       0.998,       0.999,           1]), array([[    0.98795,     0.98795,     0.98795, ...,           0,           0,           0],\n",
              "       [    0.98723,     0.98723,     0.98298, ...,           0,           0,           0],\n",
              "       [          1,           1,           1, ...,           0,           0,           0]]), 'Confidence', 'Recall']]\n",
              "fitness: np.float64(0.7313086536244386)\n",
              "keys: ['metrics/precision(B)', 'metrics/recall(B)', 'metrics/mAP50(B)', 'metrics/mAP50-95(B)']\n",
              "maps: array([    0.69292,     0.65233,      0.7742])\n",
              "names: {0: '0', 1: '1', 2: '2'}\n",
              "nt_per_class: array([332, 235,  86])\n",
              "nt_per_image: array([202,  63,  81])\n",
              "results_dict: {'metrics/precision(B)': np.float64(0.923179470656966), 'metrics/recall(B)': np.float64(0.9235867631113205), 'metrics/mAP50(B)': np.float64(0.954722042678148), 'metrics/mAP50-95(B)': np.float64(0.706484943729582), 'fitness': np.float64(0.7313086536244386)}\n",
              "save_dir: PosixPath('runs/detect/yolov8_chair')\n",
              "speed: {'preprocess': 0.2379378545463789, 'inference': 2.150045374545781, 'loss': 0.00045457818156468085, 'postprocess': 3.089893054544849}\n",
              "stats: {'tp': [], 'conf': [], 'pred_cls': [], 'target_cls': [], 'target_img': []}\n",
              "task: 'detect'"
            ]
          },
          "metadata": {},
          "execution_count": 4
        }
      ]
    },
    {
      "cell_type": "markdown",
      "source": [
        "### 4. 학습된 모델로 예측 확인"
      ],
      "metadata": {
        "id": "2_f7DMKDtTwn"
      }
    },
    {
      "cell_type": "code",
      "source": [
        "import glob\n",
        "\n",
        "# 이미지 폴더 경로\n",
        "image_folder = \"/content/chair_dataset/valid/images\"\n",
        "\n",
        "# 이미지 확장자 확인\n",
        "image_files = glob.glob(image_folder + \"/*.jpg\") + glob.glob(image_folder + \"/*.png\")\n",
        "\n",
        "print(f\"총 {len(image_files)}개의 이미지 파일이 있습니다.\")\n",
        "for f in image_files[:10]:  # 처음 10개만 출력\n",
        "    print(f)\n"
      ],
      "metadata": {
        "colab": {
          "base_uri": "https://localhost:8080/"
        },
        "id": "Bq-IfCMHv9rQ",
        "outputId": "870f14dd-986c-45fb-a569-5f68d785ec8f"
      },
      "execution_count": 9,
      "outputs": [
        {
          "output_type": "stream",
          "name": "stdout",
          "text": [
            "총 275개의 이미지 파일이 있습니다.\n",
            "/content/chair_dataset/valid/images/out53_png.rf.579718b59e5fd9bbdeb04839941526f0.jpg\n",
            "/content/chair_dataset/valid/images/Screenshot-2022-08-09-104606_jpg.rf.4520cd8a943937be21319165b50f6292.jpg\n",
            "/content/chair_dataset/valid/images/Screenshot-2022-08-09-104417_jpg.rf.cfda2600d73e6e5c49e19efd3f53982d.jpg\n",
            "/content/chair_dataset/valid/images/frame_232_jpg.rf.04d19a83e357c258c2dd28ab5600c761.jpg\n",
            "/content/chair_dataset/valid/images/frames21_frame_377_jpg.rf.d33f771248884c00f14f0e10825ad54d.jpg\n",
            "/content/chair_dataset/valid/images/Screenshot-2022-08-09-104523_jpg.rf.3ce9d7713bd7fe11e0b0b1954e6ae6b9.jpg\n",
            "/content/chair_dataset/valid/images/Screenshot-2022-08-09-105009_jpg.rf.6afcba1eeea9386f6c33589f3bfbddd2.jpg\n",
            "/content/chair_dataset/valid/images/IMG_20220601_130620_jpg.rf.0c4e6cd768b3960a93e46a0a7f14fb6c.jpg\n",
            "/content/chair_dataset/valid/images/out34_png.rf.a6375e87bf2501d2ccc8f2492f53d072.jpg\n",
            "/content/chair_dataset/valid/images/Screenshot-2022-08-09-105353_jpg.rf.8042d5efc2e485d979b82ca77485bad2.jpg\n"
          ]
        }
      ]
    },
    {
      "cell_type": "code",
      "source": [
        "# 학습된 모델 파일 경로 (.pt)\n",
        "model = YOLO(\"/content/runs/detect/yolov8_chair/weights/best.pt\")\n",
        "\n",
        "# 예측할 이미지 경로\n",
        "img_path = \"/content/chair_dataset/valid/images/out53_png.rf.579718b59e5fd9bbdeb04839941526f0.jpg\"\n",
        "\n",
        "# 추론 수행\n",
        "results = model.predict(source=img_path, conf=0.3)\n",
        "\n",
        "# 결과 시각화\n",
        "results[0].show()"
      ],
      "metadata": {
        "colab": {
          "base_uri": "https://localhost:8080/",
          "height": 711
        },
        "id": "kx_yIT-ltG5Y",
        "outputId": "b3efe190-7fca-49d8-e421-79ce844b03d5"
      },
      "execution_count": 10,
      "outputs": [
        {
          "output_type": "stream",
          "name": "stdout",
          "text": [
            "\n",
            "image 1/1 /content/chair_dataset/valid/images/out53_png.rf.579718b59e5fd9bbdeb04839941526f0.jpg: 640x640 1 0, 9.1ms\n",
            "Speed: 2.1ms preprocess, 9.1ms inference, 2.9ms postprocess per image at shape (1, 3, 640, 640)\n"
          ]
        },
        {
          "output_type": "display_data",
          "data": {
            "text/plain": [
              "<PIL.Image.Image image mode=RGB size=640x640>"
            ],
            "image/png": "[encoded data removed]",
            "image/jpeg": "[encoded data removed]"
          },
          "metadata": {}
        }
      ]
    },
    {
      "cell_type": "code",
      "source": [
        "print(\"클래스 번호:\", results[0].boxes.cls)\n",
        "print(\"신뢰도:\", results[0].boxes.conf)\n"
      ],
      "metadata": {
        "colab": {
          "base_uri": "https://localhost:8080/"
        },
        "id": "yoAiLLyGwVxn",
        "outputId": "cc11a6ad-f4da-49fb-9cf3-1da4b8c2d96f"
      },
      "execution_count": 12,
      "outputs": [
        {
          "output_type": "stream",
          "name": "stdout",
          "text": [
            "클래스 번호: tensor([0.], device='cuda:0')\n",
            "신뢰도: tensor([0.8522], device='cuda:0')\n"
          ]
        }
      ]
    },
    {
      "cell_type": "code",
      "source": [
        "print(model.names)\n"
      ],
      "metadata": {
        "colab": {
          "base_uri": "https://localhost:8080/"
        },
        "id": "R5HkUwpBxddY",
        "outputId": "ecb30db4-bf62-451b-930b-35bd298ed1d1"
      },
      "execution_count": 15,
      "outputs": [
        {
          "output_type": "stream",
          "name": "stdout",
          "text": [
            "{0: '0', 1: '1', 2: '2'}\n"
          ]
        }
      ]
    },
    {
      "cell_type": "code",
      "source": [
        "# 예측된 바운딩 박스 정보 출력\n",
        "for box in results[0].boxes:\n",
        "    cls = int(box.cls[0])\n",
        "    conf = float(box.conf[0])\n",
        "    xyxy = box.xyxy[0].tolist()\n",
        "    print(f\"Class: {model.names[cls]}, Conf: {conf:.2f}, BBox: {xyxy}\")\n"
      ],
      "metadata": {
        "colab": {
          "base_uri": "https://localhost:8080/"
        },
        "id": "xlm8hMovtSPx",
        "outputId": "386a8c0a-712f-4110-f9ef-a29b5b3407c1"
      },
      "execution_count": 11,
      "outputs": [
        {
          "output_type": "stream",
          "name": "stdout",
          "text": [
            "Class: 0, Conf: 0.85, BBox: [131.8151397705078, 49.767578125, 411.49749755859375, 605.2030029296875]\n"
          ]
        }
      ]
    },
    {
      "cell_type": "markdown",
      "source": [
        "### 5. validation 세트 테스트"
      ],
      "metadata": {
        "id": "VUPXr-4GnO2Z"
      }
    },
    {
      "cell_type": "code",
      "source": [
        "# 검출 실행 (validation 이미지 대상)\n",
        "val_images_path = os.path.join(extract_path, \"valid\", \"images\")\n",
        "\n",
        "results = model.predict(\n",
        "    source=val_images_path,\n",
        "    conf=0.3,\n",
        "    save=True\n",
        ")\n",
        "\n",
        "# 시각화 결과 보기\n",
        "results[0].show()\n"
      ],
      "metadata": {
        "colab": {
          "base_uri": "https://localhost:8080/",
          "height": 1000
        },
        "id": "72KIP5zemvW4",
        "outputId": "a4f0eb33-4eeb-4ec1-88cb-ca5bf488e8bf"
      },
      "execution_count": 13,
      "outputs": [
        {
          "output_type": "stream",
          "name": "stdout",
          "text": [
            "\n",
            "image 1/275 /content/chair_dataset/valid/images/07_PNG.rf.ea33319c09e452d2b322085c545b1dea.jpg: 640x640 1 1, 10.6ms\n",
            "image 2/275 /content/chair_dataset/valid/images/100_png_jpg.rf.07d9021b1abf9c84766f2ed9d8131df2.jpg: 640x640 2 0s, 7.4ms\n",
            "image 3/275 /content/chair_dataset/valid/images/100_png_jpg.rf.102c28416f286bd1fa6f43867b3d277f.jpg: 640x640 2 0s, 7.3ms\n",
            "image 4/275 /content/chair_dataset/valid/images/104_png_jpg.rf.4e9057e5392606428bd79f09812c0ba4.jpg: 640x640 2 0s, 7.3ms\n",
            "image 5/275 /content/chair_dataset/valid/images/105_png_jpg.rf.49933bd29c746aae242dd5514f3136b5.jpg: 640x640 1 0, 8.3ms\n",
            "image 6/275 /content/chair_dataset/valid/images/105_png_jpg.rf.81f7fb1fef3c29c0b10bc3beb70d69b7.jpg: 640x640 1 0, 7.4ms\n",
            "image 7/275 /content/chair_dataset/valid/images/105_png_jpg.rf.930704782f26b8934c4e5feaa26450a5.jpg: 640x640 1 0, 7.4ms\n",
            "image 8/275 /content/chair_dataset/valid/images/109_png_jpg.rf.3214cb9aed91669b26e1660805157820.jpg: 640x640 1 0, 7.3ms\n",
            "image 9/275 /content/chair_dataset/valid/images/10_png_jpg.rf.7c86bd7effe7d6d877ce281adf86b6e1.jpg: 640x640 2 0s, 7.4ms\n",
            "image 10/275 /content/chair_dataset/valid/images/115_png_jpg.rf.26ef6bc40324c6d45354b8c6d9e9bc9e.jpg: 640x640 2 0s, 7.4ms\n",
            "image 11/275 /content/chair_dataset/valid/images/121_png_jpg.rf.4930fc6557a7a0dc2fdc34280939c831.jpg: 640x640 2 0s, 7.3ms\n",
            "image 12/275 /content/chair_dataset/valid/images/121_png_jpg.rf.b7cf950ef336757fbad3a9249b17e35f.jpg: 640x640 2 0s, 7.4ms\n",
            "image 13/275 /content/chair_dataset/valid/images/123_png_jpg.rf.773922606c0e3ff8bea06b312a671a0c.jpg: 640x640 1 0, 7.4ms\n",
            "image 14/275 /content/chair_dataset/valid/images/128_png_jpg.rf.b60e1d8845d6a87caaf30948e6c67bad.jpg: 640x640 2 0s, 7.0ms\n",
            "image 15/275 /content/chair_dataset/valid/images/131_png_jpg.rf.037c2567407ae16ecd2b180e77ef30ee.jpg: 640x640 1 0, 6.4ms\n",
            "image 16/275 /content/chair_dataset/valid/images/138_png_jpg.rf.1dc8eb447c1044a64baa2720a60f6d1f.jpg: 640x640 2 0s, 10.2ms\n",
            "image 17/275 /content/chair_dataset/valid/images/138_png_jpg.rf.9536fc19eef3cb1e38852f1368e588b6.jpg: 640x640 2 0s, 11.7ms\n",
            "image 18/275 /content/chair_dataset/valid/images/13_PNG.rf.7a0209250f81803b859cf870e380c83e.jpg: 640x640 1 1, 12.9ms\n",
            "image 19/275 /content/chair_dataset/valid/images/153_png_jpg.rf.adad519a69c91b591e8b8441b873d7c2.jpg: 640x640 2 0s, 10.5ms\n",
            "image 20/275 /content/chair_dataset/valid/images/155_png_jpg.rf.66ec354abe98645a05980b35703a9a26.jpg: 640x640 4 0s, 13.1ms\n",
            "image 21/275 /content/chair_dataset/valid/images/156_png_jpg.rf.1e673bb4d9bf73023fb570c138378b26.jpg: 640x640 2 0s, 10.4ms\n",
            "image 22/275 /content/chair_dataset/valid/images/160_png_jpg.rf.c0e94c24dce2c0df4ea5a3926bda2537.jpg: 640x640 2 0s, 14.9ms\n",
            "image 23/275 /content/chair_dataset/valid/images/166_png_jpg.rf.846bca0e807784ed7685c98895ac098e.jpg: 640x640 2 0s, 8.2ms\n",
            "image 24/275 /content/chair_dataset/valid/images/167_png_jpg.rf.3d8937fb9b4b7d70c2fe87962faa387f.jpg: 640x640 2 0s, 12.3ms\n",
            "image 25/275 /content/chair_dataset/valid/images/173_png_jpg.rf.37d72c53f2b17c5147be9cbda17f85f5.jpg: 640x640 2 0s, 8.3ms\n",
            "image 26/275 /content/chair_dataset/valid/images/182_png_jpg.rf.f498609f85ab19834d20e1dabcc93bd3.jpg: 640x640 4 0s, 8.5ms\n",
            "image 27/275 /content/chair_dataset/valid/images/186_png_jpg.rf.9189f314f5a5c89fdd89bafac3e496a3.jpg: 640x640 2 0s, 19.2ms\n",
            "image 28/275 /content/chair_dataset/valid/images/18_PNG.rf.23fa39aa185cd4f26675134a1ad7c243.jpg: 640x640 1 1, 20.4ms\n",
            "image 29/275 /content/chair_dataset/valid/images/194_png_jpg.rf.89c88daa1c3c0890eb53daaea101f4c8.jpg: 640x640 2 0s, 24.3ms\n",
            "image 30/275 /content/chair_dataset/valid/images/194_png_jpg.rf.ddf10ff11de01c1a7be799ecf87be90f.jpg: 640x640 2 0s, 19.8ms\n",
            "image 31/275 /content/chair_dataset/valid/images/198_png_jpg.rf.631d5de0fd08336795c2059134cbde28.jpg: 640x640 2 0s, 8.0ms\n",
            "image 32/275 /content/chair_dataset/valid/images/23_png_jpg.rf.a7995c4be4ebda543118ca58ae4a1484.jpg: 640x640 2 0s, 13.1ms\n",
            "image 33/275 /content/chair_dataset/valid/images/23_png_jpg.rf.ef22584bfab2883c52b9386024d10334.jpg: 640x640 2 0s, 8.5ms\n",
            "image 34/275 /content/chair_dataset/valid/images/24_png_jpg.rf.a69b69cb7d08388ea8393fe9620b387f.jpg: 640x640 1 0, 8.8ms\n",
            "image 35/275 /content/chair_dataset/valid/images/26_jpg.rf.3ed3cf6570932242df3c66ae75932be1.jpg: 640x640 1 2, 8.5ms\n",
            "image 36/275 /content/chair_dataset/valid/images/2_png_jpg.rf.5fd0dbb40dafdd2239572c9422636fc0.jpg: 640x640 2 0s, 8.3ms\n",
            "image 37/275 /content/chair_dataset/valid/images/35_PNG.rf.87423fa02b123836eefc0e476f3db2f6.jpg: 640x640 1 0, 3 1s, 10.2ms\n",
            "image 38/275 /content/chair_dataset/valid/images/41_png_jpg.rf.717c6099d560a0b8cfe449786c9cd791.jpg: 640x640 2 0s, 9.2ms\n",
            "image 39/275 /content/chair_dataset/valid/images/44_png_jpg.rf.3bfe0f70600f6af5cd972c6fe6a51d55.jpg: 640x640 2 0s, 8.0ms\n",
            "image 40/275 /content/chair_dataset/valid/images/48_png_jpg.rf.45c69d933402acb66ffb66babec13ff0.jpg: 640x640 1 0, 8.6ms\n",
            "image 41/275 /content/chair_dataset/valid/images/89_png_jpg.rf.b5bb796d07d5427e9e929267a281fe7a.jpg: 640x640 2 0s, 9.3ms\n",
            "image 42/275 /content/chair_dataset/valid/images/89_png_jpg.rf.e66c5b61ef60a868490aed6e1af35653.jpg: 640x640 1 0, 8.7ms\n",
            "image 43/275 /content/chair_dataset/valid/images/8_jpg.rf.676751d153c025f7d9957e707201aa84.jpg: 640x640 1 2, 8.7ms\n",
            "image 44/275 /content/chair_dataset/valid/images/99_png_jpg.rf.01e24056300b34363e69b5a4c43f80bc.jpg: 640x640 2 0s, 8.6ms\n",
            "image 45/275 /content/chair_dataset/valid/images/99_png_jpg.rf.e2f760858abe0559cca314bd84c82a82.jpg: 640x640 2 0s, 8.6ms\n",
            "image 46/275 /content/chair_dataset/valid/images/9_png_jpg.rf.dbc112390a62a98455d3375dd6a592f0.jpg: 640x640 4 0s, 8.6ms\n",
            "image 47/275 /content/chair_dataset/valid/images/A12_png_jpg.rf.11c892176d772aeb0398e902672dca5b.jpg: 640x640 2 0s, 8.2ms\n",
            "image 48/275 /content/chair_dataset/valid/images/A15_png_jpg.rf.42b51fde227f53d3d8a9c5f52fd308b0.jpg: 640x640 3 0s, 9.5ms\n",
            "image 49/275 /content/chair_dataset/valid/images/A15_png_jpg.rf.65b8063e26ae7a7990f921bb29a639fe.jpg: 640x640 3 0s, 8.2ms\n",
            "image 50/275 /content/chair_dataset/valid/images/A27_png_jpg.rf.841c93772ee8cd046b8396dddaa221b2.jpg: 640x640 2 0s, 8.2ms\n",
            "image 51/275 /content/chair_dataset/valid/images/A27_png_jpg.rf.ea15612f9786635817b1fdfde48001c3.jpg: 640x640 1 0, 8.3ms\n",
            "image 52/275 /content/chair_dataset/valid/images/A42_png_jpg.rf.53501169e42e4e50e7e7915639f8d925.jpg: 640x640 2 0s, 8.5ms\n",
            "image 53/275 /content/chair_dataset/valid/images/A55_png_jpg.rf.58b813acdb6f46a6bd5c193e9c0def6d.jpg: 640x640 7 0s, 8.9ms\n",
            "image 54/275 /content/chair_dataset/valid/images/Chair-1-_jpg.rf.7a55ac2d0f9c18993f84047ab52aaa02.jpg: 640x640 1 0, 8.7ms\n",
            "image 55/275 /content/chair_dataset/valid/images/Chair-104-_jpg.rf.8a9452540bc1eb47fd6c38bb39477d6d.jpg: 640x640 1 0, 8.0ms\n",
            "image 56/275 /content/chair_dataset/valid/images/Chair-113-_jpg.rf.2bf85dfdf20408a887ad4976f802b3fb.jpg: 640x640 1 0, 10.2ms\n",
            "image 57/275 /content/chair_dataset/valid/images/Chair-115-_jpg.rf.767db833ce0f8a9e7f88c94d7b98b8d7.jpg: 640x640 1 0, 8.1ms\n",
            "image 58/275 /content/chair_dataset/valid/images/Chair-116-_jpg.rf.f6786043e91720f18cd38a6bbbff7107.jpg: 640x640 1 0, 9.5ms\n",
            "image 59/275 /content/chair_dataset/valid/images/Chair-128-_jpg.rf.b82e3e588ddebca15663e1f20562a973.jpg: 640x640 1 0, 7.5ms\n",
            "image 60/275 /content/chair_dataset/valid/images/Chair-136-_jpg.rf.f750fcc4ff92291e7178abdb251c3e97.jpg: 640x640 1 0, 7.3ms\n",
            "image 61/275 /content/chair_dataset/valid/images/Chair-141-_jpg.rf.37b45d6d2bd59d04708be0fad7189cc3.jpg: 640x640 1 0, 13.8ms\n",
            "image 62/275 /content/chair_dataset/valid/images/Chair-159-_jpg.rf.74cd17996665ec94a1da23ac3afd5c66.jpg: 640x640 2 0s, 17.8ms\n",
            "image 63/275 /content/chair_dataset/valid/images/Chair-160-_jpg.rf.df9a41b6b72c6579156d08b421ff59fc.jpg: 640x640 1 0, 9.6ms\n",
            "image 64/275 /content/chair_dataset/valid/images/Chair-171-_jpg.rf.13a834e7a56346e0bfe41fd6b0788d4a.jpg: 640x640 1 0, 8.4ms\n",
            "image 65/275 /content/chair_dataset/valid/images/Chair-173-_jpg.rf.40a2d6bea9f0a611b8c913df13a69868.jpg: 640x640 1 0, 8.4ms\n",
            "image 66/275 /content/chair_dataset/valid/images/Chair-175-_jpg.rf.4e4b728e82db5eb0a6bf6c506f19d6b6.jpg: 640x640 1 0, 1 1, 7.3ms\n",
            "image 67/275 /content/chair_dataset/valid/images/Chair-178-_jpg.rf.93b8ef687c8053175dfa47d419b914c4.jpg: 640x640 1 0, 7.8ms\n",
            "image 68/275 /content/chair_dataset/valid/images/Chair-184-_jpg.rf.2120bfffa7ab98396eb97e4b45cf2746.jpg: 640x640 1 0, 1 1, 7.5ms\n",
            "image 69/275 /content/chair_dataset/valid/images/Chair-184-_jpg.rf.c2cbe2c0217006c8d389ef25eae505c7.jpg: 640x640 1 0, 7.6ms\n",
            "image 70/275 /content/chair_dataset/valid/images/Chair-189-_jpg.rf.bfec3c821961c21d7e5162b4b225a7a9.jpg: 640x640 1 0, 7.5ms\n",
            "image 71/275 /content/chair_dataset/valid/images/Chair-192-_jpg.rf.505aa94e3fd723882204cc3fb08f37da.jpg: 640x640 2 0s, 7.2ms\n",
            "image 72/275 /content/chair_dataset/valid/images/Chair-201-_jpg.rf.121a7541f81ae476fd9222bb838a3012.jpg: 640x640 1 0, 7.6ms\n",
            "image 73/275 /content/chair_dataset/valid/images/Chair-217-_jpg.rf.503ad7cfbc8f65bc667467a31959b76e.jpg: 640x640 1 0, 7.8ms\n",
            "image 74/275 /content/chair_dataset/valid/images/Chair-218-_jpg.rf.06218e3a0f5cd5e9a8549641d2e70756.jpg: 640x640 1 0, 7.4ms\n",
            "image 75/275 /content/chair_dataset/valid/images/Chair-218-_jpg.rf.ffbfd1de0741a891843326b222b05acb.jpg: 640x640 1 0, 7.3ms\n",
            "image 76/275 /content/chair_dataset/valid/images/Chair-226-_jpg.rf.5bb2b534ddbfe1c8ff31f409fca95aef.jpg: 640x640 1 0, 7.2ms\n",
            "image 77/275 /content/chair_dataset/valid/images/Chair-226-_jpg.rf.f5ddf35ee53764095ece8d7d2c13f7d7.jpg: 640x640 1 0, 9.9ms\n",
            "image 78/275 /content/chair_dataset/valid/images/Chair-228-_jpg.rf.7a73210cbdec307b7182b560329b5cc2.jpg: 640x640 1 0, 7.5ms\n",
            "image 79/275 /content/chair_dataset/valid/images/Chair-232-_jpg.rf.ab867c3ecee0af59b502faf3b867dfff.jpg: 640x640 1 0, 7.3ms\n",
            "image 80/275 /content/chair_dataset/valid/images/Chair-236-_jpg.rf.813031611eed5f8536e2f9154245ceb3.jpg: 640x640 1 0, 7.4ms\n",
            "image 81/275 /content/chair_dataset/valid/images/Chair-236-_jpg.rf.c7567a38a48d2b9089b8d4c4548a2ba8.jpg: 640x640 1 0, 7.5ms\n",
            "image 82/275 /content/chair_dataset/valid/images/Chair-24-_jpg.rf.40df8e020b4438d04f7c9d8b2490113b.jpg: 640x640 1 0, 8.6ms\n",
            "image 83/275 /content/chair_dataset/valid/images/Chair-24-_jpg.rf.527b92f71051b239633be91e81ace024.jpg: 640x640 1 0, 11.5ms\n",
            "image 84/275 /content/chair_dataset/valid/images/Chair-245-_jpg.rf.0e46aa1ecbfcd82690cec40ba3233ec2.jpg: 640x640 1 0, 11.1ms\n",
            "image 85/275 /content/chair_dataset/valid/images/Chair-260-_jpg.rf.64cb359168dbd667a985173e947cd9df.jpg: 640x640 1 0, 12.1ms\n",
            "image 86/275 /content/chair_dataset/valid/images/Chair-266-_jpg.rf.fddadde8508b0aaf4e5bf3cbb52abff7.jpg: 640x640 1 0, 12.4ms\n",
            "image 87/275 /content/chair_dataset/valid/images/Chair-38-_jpg.rf.c2715c87853211d545bcc203bc040ba3.jpg: 640x640 1 0, 12.5ms\n",
            "image 88/275 /content/chair_dataset/valid/images/Chair-40-_jpg.rf.ce93ca315f5dc166afcf2d28a1e1e36c.jpg: 640x640 1 0, 8.8ms\n",
            "image 89/275 /content/chair_dataset/valid/images/Chair-47-_jpg.rf.a6722c4d7d77aedadcfddfd136d26ae0.jpg: 640x640 1 0, 13.3ms\n",
            "image 90/275 /content/chair_dataset/valid/images/Chair-54-_jpg.rf.1594db17b1093f58e7820168921a4823.jpg: 640x640 1 0, 10.8ms\n",
            "image 91/275 /content/chair_dataset/valid/images/Chair-62-_jpg.rf.8d8cbba4eb65f3cd6bf291da90ca5849.jpg: 640x640 1 0, 11.6ms\n",
            "image 92/275 /content/chair_dataset/valid/images/Chair-75-_jpg.rf.554a820a0c2b5e87277aa77f35c3b469.jpg: 640x640 1 0, 8.3ms\n",
            "image 93/275 /content/chair_dataset/valid/images/Chair-78-_jpg.rf.c82ed84bcd047b4f9580b8edfce74da7.jpg: 640x640 1 0, 11.1ms\n",
            "image 94/275 /content/chair_dataset/valid/images/Chair-90-_jpg.rf.d6738f83b29209c933b7034d2cdc06a6.jpg: 640x640 1 0, 12.3ms\n",
            "image 95/275 /content/chair_dataset/valid/images/Chair-92-_jpg.rf.2ec21828f981cb3479710755fdddb6fe.jpg: 640x640 1 0, 7.9ms\n",
            "image 96/275 /content/chair_dataset/valid/images/Chair-92-_jpg.rf.b352355a874238ce80babda1f2e47ae3.jpg: 640x640 1 0, 7.9ms\n",
            "image 97/275 /content/chair_dataset/valid/images/IMG_20220601_130431_jpg.rf.82c7ecbd95a3cca649a9bd43a33e7268.jpg: 640x640 1 0, 9.4ms\n",
            "image 98/275 /content/chair_dataset/valid/images/IMG_20220601_130449_jpg.rf.01cfe1083da5cfb32b5828ce3998d22a.jpg: 640x640 1 0, 8.9ms\n",
            "image 99/275 /content/chair_dataset/valid/images/IMG_20220601_130456_jpg.rf.a8800cecfd296d765474fe1ba1cd51c3.jpg: 640x640 2 0s, 7.3ms\n",
            "image 100/275 /content/chair_dataset/valid/images/IMG_20220601_130456_jpg.rf.ca1360f3b4b3385725ad44c5ec89636e.jpg: 640x640 3 0s, 7.3ms\n",
            "image 101/275 /content/chair_dataset/valid/images/IMG_20220601_130620_jpg.rf.0c4e6cd768b3960a93e46a0a7f14fb6c.jpg: 640x640 1 0, 11.5ms\n",
            "image 102/275 /content/chair_dataset/valid/images/IMG_20220601_130930_jpg.rf.c1c610d34b4639f9912ead92f30497fc.jpg: 640x640 2 0s, 8.1ms\n",
            "image 103/275 /content/chair_dataset/valid/images/Screenshot-2022-08-09-104023_jpg.rf.000fb8e12b14ba46fb8608d50de19d10.jpg: 640x640 1 2, 12.6ms\n",
            "image 104/275 /content/chair_dataset/valid/images/Screenshot-2022-08-09-104053_jpg.rf.286dac2efe37c267a1f015e75a2ecbcc.jpg: 640x640 1 2, 13.0ms\n",
            "image 105/275 /content/chair_dataset/valid/images/Screenshot-2022-08-09-104122_jpg.rf.623ccd8edd00a6a5ea98ea403672e044.jpg: 640x640 1 2, 14.8ms\n",
            "image 106/275 /content/chair_dataset/valid/images/Screenshot-2022-08-09-104417_jpg.rf.cfda2600d73e6e5c49e19efd3f53982d.jpg: 640x640 1 2, 8.4ms\n",
            "image 107/275 /content/chair_dataset/valid/images/Screenshot-2022-08-09-104431_jpg.rf.9bcad4d11c0862a59c0a4b2c66d82411.jpg: 640x640 1 2, 10.9ms\n",
            "image 108/275 /content/chair_dataset/valid/images/Screenshot-2022-08-09-104523_jpg.rf.3ce9d7713bd7fe11e0b0b1954e6ae6b9.jpg: 640x640 1 2, 8.0ms\n",
            "image 109/275 /content/chair_dataset/valid/images/Screenshot-2022-08-09-104523_jpg.rf.a532ce9e5504244667537bd9c0a5cb60.jpg: 640x640 1 2, 11.6ms\n",
            "image 110/275 /content/chair_dataset/valid/images/Screenshot-2022-08-09-104548_jpg.rf.8b2d8db8eefd84a7a76b0d29f9c7d607.jpg: 640x640 1 2, 13.5ms\n",
            "image 111/275 /content/chair_dataset/valid/images/Screenshot-2022-08-09-104606_jpg.rf.4520cd8a943937be21319165b50f6292.jpg: 640x640 1 2, 12.3ms\n",
            "image 112/275 /content/chair_dataset/valid/images/Screenshot-2022-08-09-104635_jpg.rf.49733b610a91ad19d366fbac3d44cb2d.jpg: 640x640 1 2, 11.8ms\n",
            "image 113/275 /content/chair_dataset/valid/images/Screenshot-2022-08-09-104703_jpg.rf.244058e94ea8659af0c9f27af74790ce.jpg: 640x640 1 2, 16.0ms\n",
            "image 114/275 /content/chair_dataset/valid/images/Screenshot-2022-08-09-104746_jpg.rf.a4c63c32d383246819f0456e89430622.jpg: 640x640 1 2, 12.4ms\n",
            "image 115/275 /content/chair_dataset/valid/images/Screenshot-2022-08-09-104746_jpg.rf.c613a872bec85c85de4d86b067208f3a.jpg: 640x640 1 2, 11.2ms\n",
            "image 116/275 /content/chair_dataset/valid/images/Screenshot-2022-08-09-104833_jpg.rf.dabca0a12d247df472e1ad141012c6da.jpg: 640x640 1 2, 13.2ms\n",
            "image 117/275 /content/chair_dataset/valid/images/Screenshot-2022-08-09-104935_jpg.rf.6521f2b5f432ae65df0bee1cd6c771c2.jpg: 640x640 1 2, 11.6ms\n",
            "image 118/275 /content/chair_dataset/valid/images/Screenshot-2022-08-09-104955_jpg.rf.c134ccfd4acaba7de03c1d87d413319a.jpg: 640x640 1 2, 12.8ms\n",
            "image 119/275 /content/chair_dataset/valid/images/Screenshot-2022-08-09-105009_jpg.rf.6afcba1eeea9386f6c33589f3bfbddd2.jpg: 640x640 1 2, 11.2ms\n",
            "image 120/275 /content/chair_dataset/valid/images/Screenshot-2022-08-09-105054_jpg.rf.18a68d633dd2e43adbde822ff1375c62.jpg: 640x640 1 2, 7.3ms\n",
            "image 121/275 /content/chair_dataset/valid/images/Screenshot-2022-08-09-105221_jpg.rf.5006bf2940753be409697a2e1148c6d0.jpg: 640x640 1 2, 6.9ms\n",
            "image 122/275 /content/chair_dataset/valid/images/Screenshot-2022-08-09-105314_jpg.rf.c1cdc78e588c4850e992dd62587ec3a5.jpg: 640x640 1 2, 7.0ms\n",
            "image 123/275 /content/chair_dataset/valid/images/Screenshot-2022-08-09-105321_jpg.rf.043eef70e6c2be69ca19c9593f8d3e4f.jpg: 640x640 1 2, 7.0ms\n",
            "image 124/275 /content/chair_dataset/valid/images/Screenshot-2022-08-09-105337_jpg.rf.f5693913d249ccd777170c5b647d83f2.jpg: 640x640 1 2, 7.1ms\n",
            "image 125/275 /content/chair_dataset/valid/images/Screenshot-2022-08-09-105346_jpg.rf.cd949ae96c2354ac24b8e67fa73fd62f.jpg: 640x640 1 2, 7.1ms\n",
            "image 126/275 /content/chair_dataset/valid/images/Screenshot-2022-08-09-105353_jpg.rf.8042d5efc2e485d979b82ca77485bad2.jpg: 640x640 1 2, 8.1ms\n",
            "image 127/275 /content/chair_dataset/valid/images/Screenshot-2022-08-09-105407_jpg.rf.289b291dad7c6e6ba6086c9b4ad8a613.jpg: 640x640 1 2, 7.0ms\n",
            "image 128/275 /content/chair_dataset/valid/images/Screenshot-2022-08-09-105507_jpg.rf.d6f3109e5a4119895bb3675796e670b9.jpg: 640x640 1 2, 7.1ms\n",
            "image 129/275 /content/chair_dataset/valid/images/Screenshot-from-2022-07-18-00-12-41_jpg.rf.4a601ff8e31831357b71e2cf8393bbf7.jpg: 640x640 1 2, 7.1ms\n",
            "image 130/275 /content/chair_dataset/valid/images/Screenshot-from-2022-07-18-00-28-20_jpg.rf.ff28820426aeda70ab771f809e360962.jpg: 640x640 1 2, 7.1ms\n",
            "image 131/275 /content/chair_dataset/valid/images/Screenshot-from-2022-07-18-00-38-20_jpg.rf.ee7293e06910697d7ead36d916cb7c03.jpg: 640x640 1 2, 7.1ms\n",
            "image 132/275 /content/chair_dataset/valid/images/Screenshot-from-2022-07-18-00-38-33_jpg.rf.6a1b9dee38cb84935b6fee0a08f3e31c.jpg: 640x640 1 2, 7.3ms\n",
            "image 133/275 /content/chair_dataset/valid/images/Screenshot-from-2022-07-18-00-38-33_jpg.rf.e8480bdac29a2fb2bf48419277dedc1f.jpg: 640x640 1 2, 7.5ms\n",
            "image 134/275 /content/chair_dataset/valid/images/VID_20230814_090812_mp4-11_jpg.rf.14ab56f8aa7cadde7d71860aa0025a26.jpg: 640x640 1 0, 6.7ms\n",
            "image 135/275 /content/chair_dataset/valid/images/VID_20230814_090812_mp4-3_jpg.rf.7d294e2dd0aede646d5bce6bbb333c36.jpg: 640x640 1 0, 6.1ms\n",
            "image 136/275 /content/chair_dataset/valid/images/cadeira-de-escritorio-azul_mp4-103_jpg.rf.994852c573201f189b091719ec53f061.jpg: 640x640 1 0, 7.8ms\n",
            "image 137/275 /content/chair_dataset/valid/images/cadeira-de-escritorio-azul_mp4-103_jpg.rf.cdb47bc3ad68b8a8609cf57cede80818.jpg: 640x640 1 0, 6.8ms\n",
            "image 138/275 /content/chair_dataset/valid/images/cadeira-de-escritorio-azul_mp4-15_jpg.rf.c8241eefb4fbabaff74d0974c6f99e4d.jpg: 640x640 1 0, 6.6ms\n",
            "image 139/275 /content/chair_dataset/valid/images/cadeira-de-escritorio-azul_mp4-26_jpg.rf.9d600eae3a1eaf65f24cc86fc0fa1ee2.jpg: 640x640 1 0, 6.2ms\n",
            "image 140/275 /content/chair_dataset/valid/images/cadeira-de-escritorio-azul_mp4-33_jpg.rf.c5bc3b6980c903efc6fd4d8217b6b0a5.jpg: 640x640 1 0, 7.7ms\n",
            "image 141/275 /content/chair_dataset/valid/images/cadeira-de-escritorio-azul_mp4-38_jpg.rf.6cfef7782d122f8fb25733eedc186e89.jpg: 640x640 1 0, 6.3ms\n",
            "image 142/275 /content/chair_dataset/valid/images/cadeira-de-escritorio-azul_mp4-3_jpg.rf.d231944d5bd496a9d8d94468445d396e.jpg: 640x640 1 0, 8.0ms\n",
            "image 143/275 /content/chair_dataset/valid/images/cadeira-de-escritorio-azul_mp4-55_jpg.rf.bcb5277bc6471b3d64edba3ec3d3911f.jpg: 640x640 1 0, 6.4ms\n",
            "image 144/275 /content/chair_dataset/valid/images/cadeira-de-escritorio-azul_mp4-68_jpg.rf.95a8684f0b082ad6113d398beb9ad682.jpg: 640x640 1 0, 6.9ms\n",
            "image 145/275 /content/chair_dataset/valid/images/cadeira-de-escritorio-azul_mp4-70_jpg.rf.8003204b82877c89c8b7bcaaa98df550.jpg: 640x640 1 0, 6.1ms\n",
            "image 146/275 /content/chair_dataset/valid/images/cadeira-de-escritorio-azul_mp4-70_jpg.rf.95f50c59ee56d60d34a2afc9f399a4b7.jpg: 640x640 1 0, 6.4ms\n",
            "image 147/275 /content/chair_dataset/valid/images/cadeira-de-escritorio-azul_mp4-72_jpg.rf.d0c0f483ee065e0c2187567fa73a4121.jpg: 640x640 1 0, 6.3ms\n",
            "image 148/275 /content/chair_dataset/valid/images/cadeira-de-escritorio-azul_mp4-86_jpg.rf.9100b9f86ff7560cbbb6819e8c7dd273.jpg: 640x640 1 0, 6.4ms\n",
            "image 149/275 /content/chair_dataset/valid/images/cadeira-de-escritorio-azul_mp4-91_jpg.rf.45fb751404f1316a1c908aeada40b07f.jpg: 640x640 1 0, 7.6ms\n",
            "image 150/275 /content/chair_dataset/valid/images/cadeira-de-escritorio-azul_mp4-91_jpg.rf.bc02a42333821f40cd8ad22bad42787d.jpg: 640x640 1 0, 8.3ms\n",
            "image 151/275 /content/chair_dataset/valid/images/cadeira-de-escritorio-azul_mp4-99_jpg.rf.3beacd7c0ccaf2568971e35cec95b1f7.jpg: 640x640 1 0, 7.1ms\n",
            "image 152/275 /content/chair_dataset/valid/images/cadeiras-juntas_mp4-11_jpg.rf.b1823f18e8dfc86431461ea1d78fbd8d.jpg: 640x640 1 0, 8.2ms\n",
            "image 153/275 /content/chair_dataset/valid/images/cadeiras-juntas_mp4-16_jpg.rf.52d404a27fce11cc1b06985a6cda2b22.jpg: 640x640 1 0, 6.6ms\n",
            "image 154/275 /content/chair_dataset/valid/images/cadeiras-juntas_mp4-32_jpg.rf.aa4cdb3f2f00698386f5e490b6181c79.jpg: 640x640 1 0, 6.6ms\n",
            "image 155/275 /content/chair_dataset/valid/images/cadeiras-juntas_mp4-39_jpg.rf.a46b9975a7868dceb4652d58e915ee3f.jpg: 640x640 1 0, 6.5ms\n",
            "image 156/275 /content/chair_dataset/valid/images/cadeiras-juntas_mp4-41_jpg.rf.a22fb935f541f968e3ab462306516427.jpg: 640x640 1 0, 6.6ms\n",
            "image 157/275 /content/chair_dataset/valid/images/cadeiras-juntas_mp4-5_jpg.rf.78bddc7f11f1fb6a50a090e6ef4b0c2d.jpg: 640x640 1 0, 6.5ms\n",
            "image 158/275 /content/chair_dataset/valid/images/cadeiras-juntas_mp4-83_jpg.rf.3a027a8d0b2cfb8997b057b476257c19.jpg: 640x640 1 0, 7.1ms\n",
            "image 159/275 /content/chair_dataset/valid/images/cadeiras-juntas_mp4-84_jpg.rf.676562c955efd8d676abd9b9f02b6d08.jpg: 640x640 1 0, 6.5ms\n",
            "image 160/275 /content/chair_dataset/valid/images/cadeiras-juntas_mp4-87_jpg.rf.ea6e9c63fee1fcabc64850a7519dc676.jpg: 640x640 1 0, 6.7ms\n",
            "image 161/275 /content/chair_dataset/valid/images/cadeiras-juntas_mp4-97_jpg.rf.5f826b5d7e34bed5e34957f21f95a22c.jpg: 640x640 1 0, 6.7ms\n",
            "image 162/275 /content/chair_dataset/valid/images/ci_img_2138_jpg.rf.658449ff13511b89428146227cb062cb.jpg: 640x640 2 0s, 6.1ms\n",
            "image 163/275 /content/chair_dataset/valid/images/ci_img_2316_jpg.rf.1ab71636c04cf633729f628429897882.jpg: 640x640 1 0, 6.4ms\n",
            "image 164/275 /content/chair_dataset/valid/images/ci_img_2316_jpg.rf.438bf7f11c092ed19ee0f38fcbb23891.jpg: 640x640 1 0, 5.9ms\n",
            "image 165/275 /content/chair_dataset/valid/images/download-10-_jpeg.rf.ae145976f59784595c2a24067db4ab9b.jpg: 640x640 1 0, 6.3ms\n",
            "image 166/275 /content/chair_dataset/valid/images/download-12-_jpeg.rf.00551fc937b937bf325a6996f2cb9b82.jpg: 640x640 2 0s, 6.0ms\n",
            "image 167/275 /content/chair_dataset/valid/images/download-12-_jpeg.rf.faccac7ff8d81faa9a573cecc414467b.jpg: 640x640 1 0, 6.4ms\n",
            "image 168/275 /content/chair_dataset/valid/images/download-2-_jpeg_jpg.rf.39012d053aeef3859577b862a51fb6ba.jpg: 640x640 1 0, 7.0ms\n",
            "image 169/275 /content/chair_dataset/valid/images/download-4-_jpeg_jpg.rf.5be222290f55548419b69676621d3adf.jpg: 640x640 1 0, 9.0ms\n",
            "image 170/275 /content/chair_dataset/valid/images/frame_232_jpg.rf.04d19a83e357c258c2dd28ab5600c761.jpg: 640x640 3 0s, 8 1s, 6.3ms\n",
            "image 171/275 /content/chair_dataset/valid/images/frame_232_jpg.rf.ec32a5480aecde8c9d24038621de47ff.jpg: 640x640 4 0s, 7 1s, 1 2, 6.2ms\n",
            "image 172/275 /content/chair_dataset/valid/images/frame_319_jpg.rf.b8b735ce3d3666db295e958a923c5104.jpg: 640x640 3 0s, 6 1s, 1 2, 6.2ms\n",
            "image 173/275 /content/chair_dataset/valid/images/frames11_frame_203_jpg.rf.a62e01235aa18947859b17f7d6d9c91c.jpg: 640x640 2 0s, 5 1s, 12.7ms\n",
            "image 174/275 /content/chair_dataset/valid/images/frames11_frame_87_jpg.rf.4423ea74741811bbb441ffee6549951e.jpg: 640x640 3 0s, 4 1s, 48.6ms\n",
            "image 175/275 /content/chair_dataset/valid/images/frames12_frame_377_jpg.rf.c364c0c17e171924c29fb6538c09111b.jpg: 640x640 1 0, 1 1, 6.2ms\n",
            "image 176/275 /content/chair_dataset/valid/images/frames13_frame_174_jpg.rf.4495ed06508a7b767f5e0d1bc07d6682.jpg: 640x640 3 0s, 3 1s, 6.2ms\n",
            "image 177/275 /content/chair_dataset/valid/images/frames13_frame_319_jpg.rf.38f3b7b5e7000df15301da76c511b92d.jpg: 640x640 1 0, 4 1s, 1 2, 6.2ms\n",
            "image 178/275 /content/chair_dataset/valid/images/frames13_frame_58_jpg.rf.80ec4f179418afc7ad80cc3dccd029a7.jpg: 640x640 2 0s, 4 1s, 1 2, 6.3ms\n",
            "image 179/275 /content/chair_dataset/valid/images/frames14_frame_203_jpg.rf.e38db9fbefa0eeba6153978a819b9aaf.jpg: 640x640 4 0s, 4 1s, 7.5ms\n",
            "image 180/275 /content/chair_dataset/valid/images/frames14_frame_377_jpg.rf.1a8819066c78881db1cd3d5a38d13fd2.jpg: 640x640 2 0s, 4 1s, 2 2s, 6.9ms\n",
            "image 181/275 /content/chair_dataset/valid/images/frames15_frame_145_jpg.rf.99349a119afb4af705c32b4aaf0abb1c.jpg: 640x640 2 0s, 2 1s, 1 2, 7.6ms\n",
            "image 182/275 /content/chair_dataset/valid/images/frames15_frame_348_jpg.rf.38bef37761c92586d25b59a584e21781.jpg: 640x640 3 0s, 3 1s, 1 2, 6.3ms\n",
            "image 183/275 /content/chair_dataset/valid/images/frames15_frame_435_jpg.rf.06c91b4824112ece5815573866890383.jpg: 640x640 1 0, 3 1s, 1 2, 6.1ms\n",
            "image 184/275 /content/chair_dataset/valid/images/frames15_frame_551_jpg.rf.29a4450013e41598b4ce5ab9b543fcd5.jpg: 640x640 3 0s, 3 1s, 1 2, 6.8ms\n",
            "image 185/275 /content/chair_dataset/valid/images/frames16_frame_29_jpg.rf.34032a430bdd2308efd1906058c4bb90.jpg: 640x640 3 0s, 5 1s, 1 2, 7.1ms\n",
            "image 186/275 /content/chair_dataset/valid/images/frames16_frame_493_jpg.rf.af490e054a5f185a349cf7a2ffb6dbac.jpg: 640x640 3 0s, 5 1s, 1 2, 6.3ms\n",
            "image 187/275 /content/chair_dataset/valid/images/frames18_frame_0_jpg.rf.2d7c1ad1de3505559ebf6a73d71d4e18.jpg: 640x640 1 0, 4 1s, 1 2, 6.2ms\n",
            "image 188/275 /content/chair_dataset/valid/images/frames18_frame_203_jpg.rf.42e23ce1993948b5fe7aaa7dc283ff38.jpg: 640x640 2 0s, 5 1s, 1 2, 6.6ms\n",
            "image 189/275 /content/chair_dataset/valid/images/frames18_frame_406_jpg.rf.202fc85d9e051890652b224fb006cca0.jpg: 640x640 2 0s, 3 1s, 1 2, 5.9ms\n",
            "image 190/275 /content/chair_dataset/valid/images/frames19_frame_348_jpg.rf.5d9bc47199eaa525fb9ce557331c2bec.jpg: 640x640 2 0s, 2 1s, 1 2, 6.6ms\n",
            "image 191/275 /content/chair_dataset/valid/images/frames19_frame_493_jpg.rf.bf4797f97d9ba5d5c8a7fb8fd9548bc2.jpg: 640x640 3 0s, 7 1s, 1 2, 6.3ms\n",
            "image 192/275 /content/chair_dataset/valid/images/frames1_frame_116_jpg.rf.642ee268508366d47e79a69001c7f0cc.jpg: 640x640 3 0s, 5 1s, 7.1ms\n",
            "image 193/275 /content/chair_dataset/valid/images/frames1_frame_319_jpg.rf.9f469006197c2aff04c3b1ed429118da.jpg: 640x640 4 0s, 6 1s, 6.5ms\n",
            "image 194/275 /content/chair_dataset/valid/images/frames1_frame_58_jpg.rf.9e5dc7961f8e7cb99ed7718269760150.jpg: 640x640 4 0s, 5 1s, 6.4ms\n",
            "image 195/275 /content/chair_dataset/valid/images/frames1_frame_609_jpg.rf.85408c4b76df2578e02ccca613c050fe.jpg: 640x640 3 0s, 3 1s, 6.9ms\n",
            "image 196/275 /content/chair_dataset/valid/images/frames1_frame_638_jpg.rf.d34876466b40fc57d0bea4ff4c472229.jpg: 640x640 2 0s, 5 1s, 7.1ms\n",
            "image 197/275 /content/chair_dataset/valid/images/frames21_frame_377_jpg.rf.d33f771248884c00f14f0e10825ad54d.jpg: 640x640 3 0s, 6 1s, 1 2, 6.4ms\n",
            "image 198/275 /content/chair_dataset/valid/images/frames21_frame_435_jpg.rf.911119ae48dc87484ac3012a1b4e551e.jpg: 640x640 4 0s, 6 1s, 1 2, 6.6ms\n",
            "image 199/275 /content/chair_dataset/valid/images/frames21_frame_493_jpg.rf.d5b68b65e85775a9fdb67dbe80809a5c.jpg: 640x640 2 0s, 3 1s, 1 2, 6.1ms\n",
            "image 200/275 /content/chair_dataset/valid/images/frames21_frame_609_jpg.rf.73981f707591a5daccda4aee82283af1.jpg: 640x640 4 0s, 6 1s, 1 2, 6.7ms\n",
            "image 201/275 /content/chair_dataset/valid/images/frames2_frame_435_jpg.rf.71529633367a491883bb688373921413.jpg: 640x640 3 0s, 6 1s, 7.0ms\n",
            "image 202/275 /content/chair_dataset/valid/images/frames2_frame_464_jpg.rf.448c7f7287a35cc84b12feb0e7a736f0.jpg: 640x640 3 0s, 4 1s, 6.2ms\n",
            "image 203/275 /content/chair_dataset/valid/images/frames3_frame_116_jpg.rf.935cd53b19b46eb976206ace9fa82231.jpg: 640x640 2 0s, 5 1s, 6.6ms\n",
            "image 204/275 /content/chair_dataset/valid/images/frames3_frame_232_jpg.rf.c396d56b6802ea14154fbf40f0fe4422.jpg: 640x640 2 0s, 2 1s, 7.5ms\n",
            "image 205/275 /content/chair_dataset/valid/images/frames3_frame_29_jpg.rf.96131669ce3d90c607b6e9ba7265c507.jpg: 640x640 2 0s, 3 1s, 8.9ms\n",
            "image 206/275 /content/chair_dataset/valid/images/frames3_frame_377_jpg.rf.ea80123863f94fa9bb6cfa0949a92819.jpg: 640x640 2 0s, 3 1s, 6.8ms\n",
            "image 207/275 /content/chair_dataset/valid/images/frames3_frame_435_jpg.rf.3ef484222932c4e37ff4d8edde7782c8.jpg: 640x640 2 0s, 6 1s, 6.7ms\n",
            "image 208/275 /content/chair_dataset/valid/images/frames3_frame_551_jpg.rf.9c955bfbaa6bc37b2496c5f7cf64be3c.jpg: 640x640 2 0s, 6 1s, 6.1ms\n",
            "image 209/275 /content/chair_dataset/valid/images/frames3_frame_551_jpg.rf.a961c277cd6f96acabcb0e86608f2c0c.jpg: 640x640 2 0s, 6 1s, 6.5ms\n",
            "image 210/275 /content/chair_dataset/valid/images/frames5_frame_261_jpg.rf.bb0b585672b64aa0a57af9b3f2153ca4.jpg: 640x640 4 0s, 7 1s, 7.7ms\n",
            "image 211/275 /content/chair_dataset/valid/images/frames5_frame_377_jpg.rf.1ad561a629e55eb4c0e88adfcacdc7a8.jpg: 640x640 2 0s, 5 1s, 6.4ms\n",
            "image 212/275 /content/chair_dataset/valid/images/frames6_frame_319_jpg.rf.1e5a3fd3d4399c5e094c702acb6bec7b.jpg: 640x640 2 0s, 4 1s, 6.4ms\n",
            "image 213/275 /content/chair_dataset/valid/images/frames6_frame_58_jpg.rf.dc6f8c8ca8cdbd38246c36781a7cf427.jpg: 640x640 2 0s, 6 1s, 6.3ms\n",
            "image 214/275 /content/chair_dataset/valid/images/frames7_frame_348_jpg.rf.5ea8fc1e23fe399506f13c73ae112ff3.jpg: 640x640 2 0s, 3 1s, 7.1ms\n",
            "image 215/275 /content/chair_dataset/valid/images/frames7_frame_406_jpg.rf.9753cf6b4b1d29dc037c8fb6820f88ec.jpg: 640x640 2 0s, 6 1s, 8.3ms\n",
            "image 216/275 /content/chair_dataset/valid/images/frames7_frame_435_jpg.rf.f6e63f2ae860cf045082869a267fb6f3.jpg: 640x640 3 0s, 5 1s, 6.5ms\n",
            "image 217/275 /content/chair_dataset/valid/images/frames9_frame_0_jpg.rf.c59bb758bac43bd1fe45c1a92cd3c2b7.jpg: 640x640 2 0s, 4 1s, 6.3ms\n",
            "image 218/275 /content/chair_dataset/valid/images/frames9_frame_406_jpg.rf.deba33adfc9f1ad8c98c42f434155435.jpg: 640x640 2 0s, 3 1s, 53.3ms\n",
            "image 219/275 /content/chair_dataset/valid/images/images-12-_jpeg.rf.32c2b9528220295071fa1c42e1893938.jpg: 640x640 1 0, 6.2ms\n",
            "image 220/275 /content/chair_dataset/valid/images/images-13-_jpeg_jpg.rf.48b5a2470e7d5aa6b7adcd2b5d0c3f8a.jpg: 640x640 1 0, 6.1ms\n",
            "image 221/275 /content/chair_dataset/valid/images/images-14-_jpeg_jpg.rf.6a8f85ca20e74dfad59a3105fed06eb7.jpg: 640x640 3 0s, 8.0ms\n",
            "image 222/275 /content/chair_dataset/valid/images/images-14-_jpeg_jpg.rf.8f3aa78dc9a05f20dcc00e45fedfdda7.jpg: 640x640 3 0s, 6.0ms\n",
            "image 223/275 /content/chair_dataset/valid/images/images-14-_jpeg_jpg.rf.c46f2f3855b86fc4e466bfd739171383.jpg: 640x640 3 0s, 6.1ms\n",
            "image 224/275 /content/chair_dataset/valid/images/images-15-_jpeg_jpg.rf.b86bfe98dc94c3b00f694b372cf2879a.jpg: 640x640 4 0s, 7.5ms\n",
            "image 225/275 /content/chair_dataset/valid/images/images-19-_jpeg_jpg.rf.48c045e64fdfc1ea37d23ef763e52b0b.jpg: 640x640 4 0s, 12.9ms\n",
            "image 226/275 /content/chair_dataset/valid/images/images-23-_jpeg.rf.4ebe2c4129935f9902562ebbb7003ead.jpg: 640x640 7 0s, 6.5ms\n",
            "image 227/275 /content/chair_dataset/valid/images/images-24-_jpeg.rf.e63b710b6b32f45b4049fd275b3841da.jpg: 640x640 1 0, 6.5ms\n",
            "image 228/275 /content/chair_dataset/valid/images/images-29-_jpeg_jpg.rf.84af1dee7780993ccc5d1247dbfcd194.jpg: 640x640 1 0, 7.8ms\n",
            "image 229/275 /content/chair_dataset/valid/images/images-5-_JPG_jpg.rf.a8a2eca128cc253fda7eecea31a0adae.jpg: 640x640 1 2, 6.8ms\n",
            "image 230/275 /content/chair_dataset/valid/images/images-7-_JPG_jpg.rf.977eee9ceba5f6144403872434ac53d6.jpg: 640x640 1 2, 6.3ms\n",
            "image 231/275 /content/chair_dataset/valid/images/images_jpeg.rf.9bb42d1af5f3ab68e47a7eb7a384b479.jpg: 640x640 1 0, 7.2ms\n",
            "image 232/275 /content/chair_dataset/valid/images/out11_png.rf.bc703d9f7f8244de307ca37c2c040101.jpg: 640x640 1 0, 6.3ms\n",
            "image 233/275 /content/chair_dataset/valid/images/out25_png.rf.1097e627f220b3ede3d20824253e35b5.jpg: 640x640 (no detections), 8.6ms\n",
            "image 234/275 /content/chair_dataset/valid/images/out28_png.rf.f36db64711fbb6100d5355c23c65356b.jpg: 640x640 3 0s, 6.3ms\n",
            "image 235/275 /content/chair_dataset/valid/images/out29_png.rf.06a05c8770a975079186ee6aa2d4a2d4.jpg: 640x640 1 0, 6.7ms\n",
            "image 236/275 /content/chair_dataset/valid/images/out34_png.rf.a6375e87bf2501d2ccc8f2492f53d072.jpg: 640x640 1 0, 6.4ms\n",
            "image 237/275 /content/chair_dataset/valid/images/out38_png.rf.76d0555adc0e90b66ae53e8159c2fa28.jpg: 640x640 1 0, 6.8ms\n",
            "image 238/275 /content/chair_dataset/valid/images/out53_png.rf.579718b59e5fd9bbdeb04839941526f0.jpg: 640x640 1 0, 7.6ms\n",
            "image 239/275 /content/chair_dataset/valid/images/out55_png.rf.2f2549275e4b7e7386a91e9f2475916b.jpg: 640x640 2 0s, 13.5ms\n",
            "image 240/275 /content/chair_dataset/valid/images/out9_png.rf.3effa4e9455392ddd69262a7a706b668.jpg: 640x640 1 0, 6.5ms\n",
            "image 241/275 /content/chair_dataset/valid/images/photo_15_2024-09-14_16-05-22_jpg.rf.3e06427827e557c6bccb5d59a22f2b75.jpg: 640x640 1 1, 6.7ms\n",
            "image 242/275 /content/chair_dataset/valid/images/photo_15_2024-09-14_16-05-22_jpg.rf.7574ab54c3adb5e7128718fc1b82eb0c.jpg: 640x640 1 1, 6.2ms\n",
            "image 243/275 /content/chair_dataset/valid/images/photo_17_2024-09-14_16-04-36_jpg.rf.d0d75b542790c504c4f983c19940ab98.jpg: 640x640 1 1, 6.6ms\n",
            "image 244/275 /content/chair_dataset/valid/images/photo_17_2024-09-14_16-05-22_jpg.rf.2b145482bb93d8941367a48c1f7bf19d.jpg: 640x640 7 1s, 6.3ms\n",
            "image 245/275 /content/chair_dataset/valid/images/photo_1_2024-09-14_16-04-36_jpg.rf.79b17e5530eb46dc7e824ad6cce829f0.jpg: 640x640 1 1, 6.4ms\n",
            "image 246/275 /content/chair_dataset/valid/images/photo_21_2024-09-14_16-05-22_jpg.rf.cc397fed67e2656ba24f3215a4569e7d.jpg: 640x640 6 1s, 6.8ms\n",
            "image 247/275 /content/chair_dataset/valid/images/photo_22_2024-09-14_16-05-22_jpg.rf.f381eb6ff8c9afb6e7c57caa7be94b81.jpg: 640x640 6 1s, 6.3ms\n",
            "image 248/275 /content/chair_dataset/valid/images/photo_24_2024-09-14_16-05-22_jpg.rf.7f99b6e8a58856b53d8dd1ef3a7a7fd1.jpg: 640x640 6 1s, 6.5ms\n",
            "image 249/275 /content/chair_dataset/valid/images/photo_25_2024-09-14_16-05-22_jpg.rf.cb0715d516d7f95df2b49fe1c31c06a0.jpg: 640x640 6 1s, 7.5ms\n",
            "image 250/275 /content/chair_dataset/valid/images/photo_28_2024-09-14_16-04-36_jpg.rf.2c9208f3c67138b094c2b75aa2b9d057.jpg: 640x640 1 1, 6.6ms\n",
            "image 251/275 /content/chair_dataset/valid/images/sit101_jpg.rf.abb29a48275c57ee78a9ecc67ddd6649.jpg: 640x640 1 2, 6.2ms\n",
            "image 252/275 /content/chair_dataset/valid/images/sit102_jpg.rf.b64310d3af324a571ca2e9728fbc7ee2.jpg: 640x640 3 2s, 6.4ms\n",
            "image 253/275 /content/chair_dataset/valid/images/sit108_jpg.rf.930fb36ea9a83c506236178e14ad59a3.jpg: 640x640 1 2, 7.3ms\n",
            "image 254/275 /content/chair_dataset/valid/images/sit10_jpg.rf.3458b95d2b5e2b7ff1968b52a58472e1.jpg: 640x640 1 2, 6.4ms\n",
            "image 255/275 /content/chair_dataset/valid/images/sit10_jpg.rf.62462b8c6cf5f9dbf9b07ff47751dddd.jpg: 640x640 1 2, 6.2ms\n",
            "image 256/275 /content/chair_dataset/valid/images/sit110_jpg.rf.5899f06b4c41bac20773af122b352625.jpg: 640x640 1 2, 7.1ms\n",
            "image 257/275 /content/chair_dataset/valid/images/sit112_jpg.rf.48da558a29c29a3aa2c8290c5106ec70.jpg: 640x640 1 2, 9.0ms\n",
            "image 258/275 /content/chair_dataset/valid/images/sit117_jpg.rf.4e8bfd396eb734341a440457c32782c5.jpg: 640x640 1 2, 7.5ms\n",
            "image 259/275 /content/chair_dataset/valid/images/sit122_jpg.rf.3696cd1d6947262ac20ba07867a4a777.jpg: 640x640 1 2, 6.6ms\n",
            "image 260/275 /content/chair_dataset/valid/images/sit125_jpg.rf.7112d17205e1740eab791dcbdc858c01.jpg: 640x640 1 2, 6.7ms\n",
            "image 261/275 /content/chair_dataset/valid/images/sit125_jpg.rf.a7d43b31e104bd918d3a89f21920b6bf.jpg: 640x640 2 2s, 6.3ms\n",
            "image 262/275 /content/chair_dataset/valid/images/sit15_jpg.rf.474b957d7b1ae84acabbb59869c59075.jpg: 640x640 1 2, 7.3ms\n",
            "image 263/275 /content/chair_dataset/valid/images/sit16_jpg.rf.03fa3af9d167b61a569bf921124e7cf1.jpg: 640x640 1 2, 6.2ms\n",
            "image 264/275 /content/chair_dataset/valid/images/sit25_jpg.rf.75eccb2f7733c1393f7c7fb836ed0516.jpg: 640x640 3 2s, 6.3ms\n",
            "image 265/275 /content/chair_dataset/valid/images/sit29_jpg.rf.1668fb2adb4197c3c916926f1a83a60f.jpg: 640x640 1 2, 7.3ms\n",
            "image 266/275 /content/chair_dataset/valid/images/sit30_jpg.rf.cf2e98a0df903d538ad2e6030bec160e.jpg: 640x640 1 2, 7.5ms\n",
            "image 267/275 /content/chair_dataset/valid/images/sit32_jpg.rf.a856e970b8edeb178565cbef75b5b45c.jpg: 640x640 1 2, 6.3ms\n",
            "image 268/275 /content/chair_dataset/valid/images/sit37_jpg.rf.7031fa98d199cf9ac2efe73a548b9af3.jpg: 640x640 1 2, 6.2ms\n",
            "image 269/275 /content/chair_dataset/valid/images/sit51_jpg.rf.e86d2dd64f0c54d36e5dc471553546c5.jpg: 640x640 1 2, 6.3ms\n",
            "image 270/275 /content/chair_dataset/valid/images/sit53_jpg.rf.b524dc0dc18848a4a7d030c6ad471877.jpg: 640x640 1 2, 6.4ms\n",
            "image 271/275 /content/chair_dataset/valid/images/sit53_jpg.rf.cc28f7c480edd4253e4e08db70fb6e2a.jpg: 640x640 1 2, 6.2ms\n",
            "image 272/275 /content/chair_dataset/valid/images/sit61_jpg.rf.19dad090c5adabe029e5136adbf87b52.jpg: 640x640 1 2, 6.2ms\n",
            "image 273/275 /content/chair_dataset/valid/images/sit65_jpg.rf.a56194558a97a64d98d53f419c8d7626.jpg: 640x640 3 2s, 6.2ms\n",
            "image 274/275 /content/chair_dataset/valid/images/sit68_jpg.rf.ce78e079774b6e4808c32a66ef4cf223.jpg: 640x640 1 2, 6.8ms\n",
            "image 275/275 /content/chair_dataset/valid/images/sit70_jpg.rf.3510026cb38e2a345e129f622e4072b5.jpg: 640x640 1 2, 6.4ms\n",
            "Speed: 2.6ms preprocess, 8.5ms inference, 1.6ms postprocess per image at shape (1, 3, 640, 640)\n",
            "Results saved to \u001b[1mruns/detect/predict\u001b[0m\n"
          ]
        },
        {
          "output_type": "display_data",
          "data": {
            "text/plain": [
              "<PIL.Image.Image image mode=RGB size=640x640>"
            ],
            "image/png": "[encoded data removed]",
            "image/jpeg": "[encoded data removed]"
          },
          "metadata": {}
        }
      ]
    },
    {
      "cell_type": "code",
      "source": [
        "# 학습된 모델 저장 (ONNX 예시)\n",
        "model.export(format=\"onnx\")"
      ],
      "metadata": {
        "colab": {
          "base_uri": "https://localhost:8080/",
          "height": 376
        },
        "id": "J7Y3X2lSmynR",
        "outputId": "addaf148-722a-415e-fef4-2b77541f276d"
      },
      "execution_count": 14,
      "outputs": [
        {
          "output_type": "stream",
          "name": "stdout",
          "text": [
            "Ultralytics 8.3.165 🚀 Python-3.11.13 torch-2.6.0+cu124 CPU (Intel Xeon 2.00GHz)\n",
            "💡 ProTip: Export to OpenVINO format for best performance on Intel hardware. Learn more at https://docs.ultralytics.com/integrations/openvino/\n",
            "\n",
            "\u001b[34m\u001b[1mPyTorch:\u001b[0m starting from '/content/runs/detect/yolov8_chair/weights/best.pt' with input shape (1, 3, 640, 640) BCHW and output shape(s) (1, 7, 8400) (6.0 MB)\n",
            "\u001b[31m\u001b[1mrequirements:\u001b[0m Ultralytics requirements ['onnx>=1.12.0,<1.18.0', 'onnxslim>=0.1.59', 'onnxruntime-gpu'] not found, attempting AutoUpdate...\n",
            "\n",
            "\u001b[31m\u001b[1mrequirements:\u001b[0m AutoUpdate success ✅ 6.2s\n",
            "WARNING ⚠️ \u001b[31m\u001b[1mrequirements:\u001b[0m \u001b[1mRestart runtime or rerun command for updates to take effect\u001b[0m\n",
            "\n",
            "\n",
            "\u001b[34m\u001b[1mONNX:\u001b[0m starting export with onnx 1.17.0 opset 19...\n",
            "\u001b[34m\u001b[1mONNX:\u001b[0m slimming with onnxslim 0.1.59...\n",
            "\u001b[34m\u001b[1mONNX:\u001b[0m export success ✅ 7.6s, saved as '/content/runs/detect/yolov8_chair/weights/best.onnx' (11.7 MB)\n",
            "\n",
            "Export complete (8.0s)\n",
            "Results saved to \u001b[1m/content/runs/detect/yolov8_chair/weights\u001b[0m\n",
            "Predict:         yolo predict task=detect model=/content/runs/detect/yolov8_chair/weights/best.onnx imgsz=640  \n",
            "Validate:        yolo val task=detect model=/content/runs/detect/yolov8_chair/weights/best.onnx imgsz=640 data=/content/chair_dataset/data.yaml  \n",
            "Visualize:       https://netron.app\n"
          ]
        },
        {
          "output_type": "execute_result",
          "data": {
            "text/plain": [
              "'/content/runs/detect/yolov8_chair/weights/best.onnx'"
            ],
            "application/vnd.google.colaboratory.intrinsic+json": {
              "type": "string"
            }
          },
          "metadata": {},
          "execution_count": 14
        }
      ]
    }
  ]
}